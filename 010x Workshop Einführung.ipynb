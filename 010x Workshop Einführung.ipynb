{
 "cells": [
  {
   "cell_type": "markdown",
   "metadata": {},
   "source": [
    "# Lineare Regression\n",
    "\n",
    "Gegeben seien die folgenden zufällig generierten Werte:"
   ]
  },
  {
   "cell_type": "code",
   "execution_count": 6,
   "metadata": {},
   "outputs": [
    {
     "data": {
      "text/plain": [
       "(tensor([ 59.2224, 103.3125,  50.3341, 137.7114,  14.7945]),\n",
       " tensor([1.4046, 0.9190, 1.5733, 0.6256, 1.8568]))"
      ]
     },
     "execution_count": 6,
     "metadata": {},
     "output_type": "execute_result"
    }
   ],
   "source": [
    "import torch\n",
    "num_samples = 100\n",
    "torch.random.manual_seed(123)\n",
    "x = torch.rand(num_samples) * 200\n",
    "y = -0.01 * x + 2 + 0.1 * torch.randn(num_samples)\n",
    "x[:5], y[:5]"
   ]
  },
  {
   "cell_type": "code",
   "execution_count": 7,
   "metadata": {},
   "outputs": [
    {
     "data": {
      "image/png": "[encoded data removed]",
      "text/plain": [
       "<Figure size 864x360 with 1 Axes>"
      ]
     },
     "metadata": {
      "needs_background": "light"
     },
     "output_type": "display_data"
    }
   ],
   "source": [
    "import matplotlib.pyplot as plt\n",
    "\n",
    "plt.figure(figsize=(12, 5))\n",
    "plt.scatter(x, y);"
   ]
  },
  {
   "cell_type": "markdown",
   "metadata": {},
   "source": [
    "Implementieren Sie eine lineare Regression in PyTorch, die die Parameter `w` und `b` bestimmt:\n",
    "- Implementieren Sie eine Funktion `loss_fn`, die den MSE Loss berechnet\n",
    "- Implementieren Sie eine Funktion `model`, die das Modell berechnet\n",
    "- Implementieren Sie eine Funktion `gradient_fn`, die den Gradienten berechnet\n",
    "- Implementieren Sie eine Training Loop, die die Parameter mittels Gradient-Descent iterativ berechnet"
   ]
  },
  {
   "cell_type": "code",
   "execution_count": null,
   "metadata": {},
   "outputs": [],
   "source": []
  },
  {
   "cell_type": "markdown",
   "metadata": {},
   "source": [
    "- Wie wirkt sich die Learning-Rate auf die Konvergenz Ihrer Lösung aus?\n",
    "- Wie unterscheidet sich die Konvergenz von dem besprochenen Problem?"
   ]
  },
  {
   "cell_type": "code",
   "execution_count": null,
   "metadata": {},
   "outputs": [],
   "source": []
  },
  {
   "cell_type": "markdown",
   "metadata": {},
   "source": [
    "# Normierte Parameter\n",
    "\n",
    "Testen Sie, wie sich Ihr Algorithmus verhält, wenn Sie die Parameter normieren."
   ]
  },
  {
   "cell_type": "code",
   "execution_count": null,
   "metadata": {},
   "outputs": [],
   "source": []
  },
  {
   "cell_type": "markdown",
   "metadata": {},
   "source": [
    "# Autograd\n",
    "\n",
    "Ändern Sie die Implementierung der linearen Regression, so dass sie autograd verwendet."
   ]
  },
  {
   "cell_type": "code",
   "execution_count": null,
   "metadata": {},
   "outputs": [],
   "source": []
  }
 ],
 "metadata": {
  "kernelspec": {
   "display_name": "Python [conda env:ml-training] *",
   "language": "python",
   "name": "conda-env-ml-training-py"
  },
  "language_info": {
   "codemirror_mode": {
    "name": "ipython",
    "version": 3
   },
   "file_extension": ".py",
   "mimetype": "text/x-python",
   "name": "python",
   "nbconvert_exporter": "python",
   "pygments_lexer": "ipython3",
   "version": "3.8.5"
  }
 },
 "nbformat": 4,
 "nbformat_minor": 4
}
