{
 "cells": [
  {
   "cell_type": "markdown",
   "metadata": {
    "slideshow": {
     "slide_type": "slide"
    }
   },
   "source": [
    "# Wolfgang Rosenstiel Forum für KI\n",
    "\n",
    "## Was ist Maschinelles Lernen?"
   ]
  },
  {
   "cell_type": "markdown",
   "metadata": {
    "slideshow": {
     "slide_type": "fragment"
    }
   },
   "source": [
    "## Eine Antwort (Arthur Samuel)\n",
    "\n",
    "Maschinelles Lernen ist ein Feld der Künstlichen Intelligenz. Es wendet statistische Techniken an, um Computern die Fähigkeit zu verleihen, aus Daten zu lernen, ohne explizit programmiert zu sein."
   ]
  },
  {
   "cell_type": "markdown",
   "metadata": {
    "slideshow": {
     "slide_type": "subslide"
    }
   },
   "source": [
    "## Andere Antwort (nach Andrew Glassner)\n",
    "\n",
    "- Techniken, die Information aus Daten extrahieren\n",
    "- *Daten:* alles was man messen und aufzeichnen kann\n",
    "- *Information:* was wir interessant finden"
   ]
  },
  {
   "cell_type": "markdown",
   "metadata": {
    "slideshow": {
     "slide_type": "subslide"
    }
   },
   "source": [
    "<img src=\"img/ag/Figure-01-001.png\">"
   ]
  },
  {
   "cell_type": "markdown",
   "metadata": {
    "slideshow": {
     "slide_type": "subslide"
    }
   },
   "source": [
    "<img src=\"img/ag/Figure-01-002.png\">"
   ]
  },
  {
   "cell_type": "markdown",
   "metadata": {
    "slideshow": {
     "slide_type": "subslide"
    }
   },
   "source": [
    "## Andere Antwort (frei nach François Chollet)\n",
    "\n",
    "- Ein Teilgebiet der künstlichen Intelligenz\n",
    "- KI: Automatisierung von Aufgaben, die bisher nur Menschen erledigen konnten\n",
    "  - Das geht auch mit regelbasierten Systemen\n",
    "  - Beispiel: Schach, Expertensystem\n",
    "- ML: Der Teil der KI, der versucht Verhalten zu verbessern, wenn mehr Daten zur Verfügung stehen"
   ]
  },
  {
   "cell_type": "markdown",
   "metadata": {
    "slideshow": {
     "slide_type": "subslide"
    }
   },
   "source": [
    "### Regelbasierte Systeme: Feature Engineering\n",
    "\n",
    "Extraktion von relevanten Features aus Daten."
   ]
  },
  {
   "cell_type": "markdown",
   "metadata": {
    "slideshow": {
     "slide_type": "subslide"
    }
   },
   "source": [
    "<img src=\"img/ag/Figure-01-003.png\" style=\"width: 40%; margin-left: auto; margin-right: auto;\">"
   ]
  },
  {
   "cell_type": "markdown",
   "metadata": {
    "slideshow": {
     "slide_type": "subslide"
    }
   },
   "source": [
    "<img src=\"img/ag/Figure-01-004.png\" style=\"width: 20%; margin-left: auto; margin-right: auto;\">"
   ]
  },
  {
   "cell_type": "markdown",
   "metadata": {
    "slideshow": {
     "slide_type": "subslide"
    }
   },
   "source": [
    "## Nochmal François Chollet\n",
    "\n",
    "- Traditionelles Programmieren:\n",
    "    - Wir programmieren eine Lösung für ein Problem:\n",
    "    - Regeln + Daten $\\Rightarrow$ Antworten\n",
    "- ML:\n",
    "    - Wir extrahieren Regeln aus (gelabelten) Daten\n",
    "    - Daten + Antworten $\\Rightarrow$ Regeln"
   ]
  },
  {
   "cell_type": "markdown",
   "metadata": {
    "slideshow": {
     "slide_type": "slide"
    }
   },
   "source": [
    "# Was ist Deep Learning\n",
    "\n",
    "- Eine Form von ML, die auf künstlichen neuronalen Netzen basiert\n",
    "- Im Deep Learning erfolgt die Berechnung in \"Schichten\", die immer algemeinere Features extrahieren\n",
    "- Deep Learning benötigt weniger Feature Engineering als andere Ansätze\n",
    "- Braucht aber (meistens) mehr Daten!"
   ]
  },
  {
   "cell_type": "markdown",
   "metadata": {
    "slideshow": {
     "slide_type": "subslide"
    }
   },
   "source": [
    "## Klassifizierung\n",
    "\n",
    "<img src=\"img/ag/Figure-01-022.png\" style=\"float: right;width: 40%;\"/>\n",
    "\n",
    "\n",
    "- Viele Daten, vorgegebene Menge an möglichen Werten\n",
    "- Weise jedem Datensatz einen oder mehrere Labels zu"
   ]
  },
  {
   "cell_type": "code",
   "execution_count": 392,
   "metadata": {
    "slideshow": {
     "slide_type": "subslide"
    }
   },
   "outputs": [
    {
     "data": {
      "text/plain": [
       "Path('/home/tc/.fastai/data/oxford-iiit-pet/images')"
      ]
     },
     "execution_count": 392,
     "metadata": {},
     "output_type": "execute_result"
    }
   ],
   "source": [
    "from fastai.vision.all import *\n",
    "path = untar_data(URLs.PETS)/'images'\n",
    "path"
   ]
  },
  {
   "cell_type": "code",
   "execution_count": 391,
   "metadata": {
    "slideshow": {
     "slide_type": "subslide"
    }
   },
   "outputs": [
    {
     "data": {
      "text/html": [
       "<table border=\"1\" class=\"dataframe\">\n",
       "  <thead>\n",
       "    <tr style=\"text-align: left;\">\n",
       "      <th>epoch</th>\n",
       "      <th>train_loss</th>\n",
       "      <th>valid_loss</th>\n",
       "      <th>error_rate</th>\n",
       "      <th>time</th>\n",
       "    </tr>\n",
       "  </thead>\n",
       "  <tbody>\n",
       "    <tr>\n",
       "      <td>0</td>\n",
       "      <td>0.175255</td>\n",
       "      <td>0.005490</td>\n",
       "      <td>0.001353</td>\n",
       "      <td>00:10</td>\n",
       "    </tr>\n",
       "  </tbody>\n",
       "</table>"
      ],
      "text/plain": [
       "<IPython.core.display.HTML object>"
      ]
     },
     "metadata": {},
     "output_type": "display_data"
    },
    {
     "data": {
      "text/html": [
       "<table border=\"1\" class=\"dataframe\">\n",
       "  <thead>\n",
       "    <tr style=\"text-align: left;\">\n",
       "      <th>epoch</th>\n",
       "      <th>train_loss</th>\n",
       "      <th>valid_loss</th>\n",
       "      <th>error_rate</th>\n",
       "      <th>time</th>\n",
       "    </tr>\n",
       "  </thead>\n",
       "  <tbody>\n",
       "    <tr>\n",
       "      <td>0</td>\n",
       "      <td>0.052988</td>\n",
       "      <td>0.010016</td>\n",
       "      <td>0.003383</td>\n",
       "      <td>00:13</td>\n",
       "    </tr>\n",
       "  </tbody>\n",
       "</table>"
      ],
      "text/plain": [
       "<IPython.core.display.HTML object>"
      ]
     },
     "metadata": {},
     "output_type": "display_data"
    }
   ],
   "source": [
    "def is_cat(x): return x[0].isupper()\n",
    "dls = ImageDataLoaders.from_name_func(\n",
    "    path, get_image_files(path), valid_pct=0.2, seed=42,\n",
    "    label_func=is_cat, item_tfms=Resize(224))\n",
    "\n",
    "learn = cnn_learner(dls, resnet34, metrics=error_rate)\n",
    "learn.fine_tune(1)"
   ]
  },
  {
   "cell_type": "markdown",
   "metadata": {
    "slideshow": {
     "slide_type": "subslide"
    }
   },
   "source": [
    "## Clustering\n",
    "\n",
    "<img src=\"img/ag/Figure-01-013.jpg\" style=\"float: right;width: 40%;\"/>\n",
    "\n",
    "- Viele Datenpunkte\n",
    "- Finde heraus, welche \"ähnlich\" sind\n",
    "\n",
    "Often mit \"unsupervised\" Learning\n"
   ]
  },
  {
   "cell_type": "markdown",
   "metadata": {
    "slideshow": {
     "slide_type": "subslide"
    }
   },
   "source": [
    "## Regression\n",
    "\n",
    "<img src=\"img/ag/Figure-01-011.png\" style=\"float: right;width: 40%;\"/>\n",
    "\n",
    "- Lerne numerische Beziehungen\n",
    "- Wie hängt das Gehalt von Jahren Berufserfahrung ab?"
   ]
  },
  {
   "cell_type": "markdown",
   "metadata": {
    "slideshow": {
     "slide_type": "subslide"
    }
   },
   "source": [
    "## Geocoding / Toponym-Auflösung\n",
    "\n",
    "<img src=\"img/france.jpg\" style=\"float: right;width: 40%;\"/>\n",
    "\n",
    "<div style=\"float: left; width: 60%;\">\n",
    "\n",
    "<br/>\n",
    "\n",
    "- Finde Koordinaten, die zum Vorkommen von Namen in Text gehören\n",
    "- Inverses Geocoding: Welcher Ortsname gehört zu Koordinaten\n",
    "\n",
    "</div>"
   ]
  },
  {
   "cell_type": "markdown",
   "metadata": {
    "slideshow": {
     "slide_type": "subslide"
    }
   },
   "source": [
    "## (Extractive) Question Answering\n",
    "\n",
    "<img src=\"img/question-mark.jpg\" style=\"float: right;width: 30%;\"/>\n",
    "\n",
    "\n",
    "- Textdokument, Frage basierend auf dem Dokument\n",
    "- Extrahiere die Antwort aus dem Dokument"
   ]
  },
  {
   "cell_type": "markdown",
   "metadata": {
    "slideshow": {
     "slide_type": "slide"
    }
   },
   "source": [
    "# Vorgehensweise beim Supervised Learning\n",
    "\n",
    "<img src=\"img/ag/Figure-01-007.png\" style=\"float: right;width: 40%; padding: 20pt;\"/>\n",
    "\n",
    "- Modell: Algorithmus mitveränderbaren<br/>\n",
    "  Parametern\n",
    "- Datenpunkte mit Labels\n",
    "- Generalisiere die Information<br/>\n",
    "  in den gelabelten Daten\n",
    "- Verbessere die Performance des<br/>\n",
    "  Systems durch \"Tunen\" der Parameter"
   ]
  },
  {
   "cell_type": "markdown",
   "metadata": {
    "slideshow": {
     "slide_type": "subslide"
    }
   },
   "source": [
    "### Einfaches Beispiel: Lineare Regression\n",
    "\n",
    "- Ein einziges numerisches Feature\n",
    "- Ein numerisches Label\n",
    "- Wir versuchen eine lineare Funktion der Form $y = w x + b$ zu finden, die \"möglichst gut passt\""
   ]
  },
  {
   "cell_type": "markdown",
   "metadata": {
    "slideshow": {
     "slide_type": "subslide"
    }
   },
   "source": [
    "#### Daten\n",
    "\n",
    "- Wir erzeugen uns für dieses Beispiel synthetische Daten:"
   ]
  },
  {
   "cell_type": "code",
   "execution_count": 394,
   "metadata": {},
   "outputs": [
    {
     "data": {
      "image/png": "[encoded data removed]",
      "text/plain": [
       "<Figure size 432x288 with 1 Axes>"
      ]
     },
     "metadata": {
      "needs_background": "light"
     },
     "output_type": "display_data"
    }
   ],
   "source": [
    "import torch\n",
    "num_samples = 80\n",
    "\n",
    "plt.scatter(range(num_samples), torch.rand(num_samples), color='orange')\n",
    "plt.scatter(range(num_samples), torch.randn(num_samples), color='blue');"
   ]
  },
  {
   "cell_type": "code",
   "execution_count": 398,
   "metadata": {
    "slideshow": {
     "slide_type": "subslide"
    }
   },
   "outputs": [
    {
     "data": {
      "image/png": "[encoded data removed]",
      "text/plain": [
       "<Figure size 1080x288 with 2 Axes>"
      ]
     },
     "metadata": {
      "needs_background": "light"
     },
     "output_type": "display_data"
    }
   ],
   "source": [
    "plt.figure(figsize=(15, 4))\n",
    "plt.subplot(1, 2, 1)\n",
    "plt.hist(torch.rand(100 * num_samples).numpy(), bins=num_samples, color='orange')\n",
    "plt.subplot(1, 2, 2)\n",
    "plt.hist(torch.randn(100 * num_samples).numpy(), bins=num_samples, color='blue');"
   ]
  },
  {
   "cell_type": "code",
   "execution_count": 419,
   "metadata": {},
   "outputs": [],
   "source": [
    "torch.set_default_dtype(torch.float32)"
   ]
  },
  {
   "cell_type": "code",
   "execution_count": 420,
   "metadata": {},
   "outputs": [],
   "source": [
    "t = torch.tensor([[1.0, 2, 3], [4, 5, 6]])"
   ]
  },
  {
   "cell_type": "code",
   "execution_count": 421,
   "metadata": {},
   "outputs": [
    {
     "data": {
      "text/plain": [
       "torch.float32"
      ]
     },
     "execution_count": 421,
     "metadata": {},
     "output_type": "execute_result"
    }
   ],
   "source": [
    "t.dtype"
   ]
  },
  {
   "cell_type": "code",
   "execution_count": 422,
   "metadata": {
    "slideshow": {
     "slide_type": "subslide"
    }
   },
   "outputs": [
    {
     "data": {
      "text/plain": [
       "(tensor([1.7398, 6.9362, 4.5626, 6.0189, 2.1157]),\n",
       " tensor([-3.0178, 25.5249, 11.3611, 18.4219,  2.2533]))"
      ]
     },
     "execution_count": 422,
     "metadata": {},
     "output_type": "execute_result"
    }
   ],
   "source": [
    "x = torch.rand(num_samples) * 10\n",
    "y = 5 * x - 10 + 5 * torch.randn(num_samples)\n",
    "x[:5], y[:5]"
   ]
  },
  {
   "cell_type": "code",
   "execution_count": 423,
   "metadata": {
    "slideshow": {
     "slide_type": "subslide"
    }
   },
   "outputs": [
    {
     "data": {
      "image/png": "[encoded data removed]",
      "text/plain": [
       "<Figure size 864x360 with 1 Axes>"
      ]
     },
     "metadata": {
      "needs_background": "light"
     },
     "output_type": "display_data"
    }
   ],
   "source": [
    "import matplotlib.pyplot as plt\n",
    "\n",
    "plt.figure(figsize=(12, 5))\n",
    "plt.scatter(x, y);"
   ]
  },
  {
   "cell_type": "markdown",
   "metadata": {
    "slideshow": {
     "slide_type": "subslide"
    }
   },
   "source": [
    "### Realistischer\n",
    "\n",
    "<img src=\"img/ag/Figure-01-007.png\" style=\"width: 70%; margin-left: auto; margin-right: auto;\"/>"
   ]
  },
  {
   "cell_type": "markdown",
   "metadata": {
    "slideshow": {
     "slide_type": "subslide"
    }
   },
   "source": [
    "### Anpassen eines Linearen Modells"
   ]
  },
  {
   "cell_type": "code",
   "execution_count": 424,
   "metadata": {},
   "outputs": [],
   "source": [
    "def model(x, w, b):\n",
    "    return w * x + b"
   ]
  },
  {
   "cell_type": "markdown",
   "metadata": {
    "slideshow": {
     "slide_type": "subslide"
    }
   },
   "source": [
    "### Bestimmen der Qualität: Loss\n",
    "\n",
    "- Verschiedene Varianten: \n",
    "- RMSE\n",
    "- MSE \n",
    "- MAE"
   ]
  },
  {
   "cell_type": "code",
   "execution_count": 451,
   "metadata": {},
   "outputs": [],
   "source": [
    "def loss_fn(y_pred, y_true):\n",
    "    squared_diffs = (y_pred - y_true) ** 2\n",
    "    return squared_diffs.mean()"
   ]
  },
  {
   "cell_type": "markdown",
   "metadata": {
    "slideshow": {
     "slide_type": "subslide"
    }
   },
   "source": [
    "## Evaluierung/Test\n",
    "\n",
    "<img src=\"img/ag/Figure-01-009.png\" style=\"width: 70%; margin-left: auto; margin-right: auto;\"/>"
   ]
  },
  {
   "cell_type": "markdown",
   "metadata": {
    "slideshow": {
     "slide_type": "subslide"
    }
   },
   "source": [
    "### Evaluieren des Modells:\n",
    "(Hinweis: Broadcasting)"
   ]
  },
  {
   "cell_type": "code",
   "execution_count": 430,
   "metadata": {},
   "outputs": [
    {
     "data": {
      "text/plain": [
       "(tensor(1.),\n",
       " tensor(0.),\n",
       " tensor([1.7398, 6.9362, 4.5626, 6.0189, 2.1157, 6.1852, 5.9710, 6.5972, 9.4002,\n",
       "         5.0310, 0.7227, 2.3605, 3.7574, 2.6222, 9.2345, 9.3135, 6.5477, 6.6549,\n",
       "         7.4959, 2.5879, 2.4627, 4.4766, 3.9984, 8.9844, 1.4892, 3.6423, 3.7057,\n",
       "         9.4242, 1.7278, 5.7724, 7.2499, 1.8884, 3.8450, 6.7125, 9.7417, 9.3278,\n",
       "         3.9649, 1.5950, 3.8452, 7.3251, 3.8752, 6.0046, 0.1889, 9.5225, 7.4463,\n",
       "         2.5793, 8.5199, 7.8585, 2.2312, 3.0935, 6.3467, 6.4114, 2.6054, 1.5389,\n",
       "         5.7455, 0.2412, 7.7863, 2.7666, 2.8896, 4.7071, 1.1591, 4.8838, 3.8039,\n",
       "         2.7263, 0.1570, 5.7179, 3.3155, 5.1209, 5.9061, 3.4715, 1.9648, 6.9670,\n",
       "         2.9030, 4.6059, 3.1365, 8.7611, 9.9010, 2.6972, 3.6401, 8.5051]))"
      ]
     },
     "execution_count": 430,
     "metadata": {},
     "output_type": "execute_result"
    }
   ],
   "source": [
    "w = torch.tensor(1.0)\n",
    "b = torch.tensor(0.0)\n",
    "w, b, x"
   ]
  },
  {
   "cell_type": "code",
   "execution_count": null,
   "metadata": {
    "slideshow": {
     "slide_type": "subslide"
    }
   },
   "outputs": [],
   "source": [
    "y_pred = model(x, w, b)\n",
    "y_true = y\n",
    "y_pred[:5], y_true[:5]"
   ]
  },
  {
   "cell_type": "code",
   "execution_count": 431,
   "metadata": {},
   "outputs": [
    {
     "data": {
      "text/plain": [
       "66.54569244384766"
      ]
     },
     "execution_count": 431,
     "metadata": {},
     "output_type": "execute_result"
    }
   ],
   "source": [
    "loss = loss_fn(y_pred, y_true)\n",
    "loss.item()"
   ]
  },
  {
   "cell_type": "code",
   "execution_count": 450,
   "metadata": {},
   "outputs": [
    {
     "data": {
      "text/plain": [
       "torch.Size([6, 4, 5])"
      ]
     },
     "execution_count": 450,
     "metadata": {},
     "output_type": "execute_result"
    }
   ],
   "source": [
    "m = torch.randn(4, 5)\n",
    "n = torch.randn(6, 4, 5)\n",
    "(m + n).shape"
   ]
  },
  {
   "cell_type": "markdown",
   "metadata": {
    "slideshow": {
     "slide_type": "subslide"
    }
   },
   "source": [
    "## Training\n",
    "\n",
    "<br/>\n",
    "<img src=\"img/ag/Figure-01-008.png\" style=\"width: 100%;\"/>"
   ]
  },
  {
   "cell_type": "markdown",
   "metadata": {
    "slideshow": {
     "slide_type": "subslide"
    }
   },
   "source": [
    "## Wie updaten wir die Parameter?\n",
    "\n",
    "<img src=\"img/ag/Figure-05-006.png\" style=\"width: 50%; margin-left: auto; margin-right: auto; 0\"/>"
   ]
  },
  {
   "cell_type": "markdown",
   "metadata": {
    "slideshow": {
     "slide_type": "subslide"
    }
   },
   "source": [
    "## Wie updaten wir die Parameter?\n",
    "\n",
    "<img src=\"img/ag/Figure-05-007.png\" style=\"width: 50%; margin-left: auto; margin-right: auto; 0\"/>"
   ]
  },
  {
   "cell_type": "code",
   "execution_count": null,
   "metadata": {},
   "outputs": [],
   "source": [
    "def update_parameter(p, rate_of_change, learning_rate = 1e-2):\n",
    "    p -= learning_rate * rate_of_change"
   ]
  },
  {
   "cell_type": "markdown",
   "metadata": {
    "slideshow": {
     "slide_type": "slide"
    }
   },
   "source": [
    "### Mathematisch\n",
    "$$\\nabla_{w, b} L = \\Bigl(\\frac{\\partial L}{\\partial w}, \\frac{\\partial L}{\\partial b} \\Bigr)\n",
    "= \\Bigl(\\frac{\\partial L}{\\partial m}\\cdot\\frac{\\partial m}{\\partial w},\n",
    "\\frac{\\partial L}{\\partial m} \\cdot \\frac{\\partial m}{\\partial b} \\Bigr)$$"
   ]
  },
  {
   "cell_type": "code",
   "execution_count": null,
   "metadata": {},
   "outputs": [],
   "source": [
    "def model(x, w, b):\n",
    "    return w * x + b"
   ]
  },
  {
   "cell_type": "code",
   "execution_count": null,
   "metadata": {},
   "outputs": [],
   "source": [
    "def dmodel_dw(x, w, b):\n",
    "    return x\n",
    "def dmodel_db(x, w, b):\n",
    "    return 1.0"
   ]
  },
  {
   "cell_type": "markdown",
   "metadata": {
    "slideshow": {
     "slide_type": "slide"
    }
   },
   "source": [
    "$$\\nabla_{w, b} L \n",
    "= \\Bigl(\\frac{\\partial L}{\\partial m}\\cdot\\frac{\\partial m}{\\partial w},\n",
    "\\frac{\\partial L}{\\partial m} \\cdot \\frac{\\partial m}{\\partial b} \\Bigr)$$"
   ]
  },
  {
   "cell_type": "code",
   "execution_count": 452,
   "metadata": {
    "slideshow": {
     "slide_type": "subslide"
    }
   },
   "outputs": [],
   "source": [
    "def gradient_fn(x, y_pred, y_true, w, b):\n",
    "    dloss_dm = 2 * (y_pred - y_true) / y_pred.size(0)\n",
    "    dm_dw = dloss_dm * dmodel_dw(x, w, b)\n",
    "    dm_db = dloss_dm * dmodel_db(x, w, b)\n",
    "    return torch.stack([dm_dw.sum(), dm_db.sum()])"
   ]
  },
  {
   "cell_type": "markdown",
   "metadata": {
    "slideshow": {
     "slide_type": "subslide"
    }
   },
   "source": [
    "## Training\n",
    "\n",
    "<br/>\n",
    "<img src=\"img/ag/Figure-01-008.png\" style=\"width: 100%;\"/>"
   ]
  },
  {
   "cell_type": "markdown",
   "metadata": {},
   "source": [
    "### Die Training-Loop"
   ]
  },
  {
   "cell_type": "code",
   "execution_count": 454,
   "metadata": {},
   "outputs": [],
   "source": [
    "def training_loop(n_epochs, learning_rate, params, x, y_true):\n",
    "    for epoch in range(1, n_epochs + 1):\n",
    "        w, b = params\n",
    "        # _.forward()\n",
    "        y_pred = model(x, w, b)\n",
    "        loss = loss_fn(y_pred, y_true)\n",
    "        gradient = gradient_fn(x, y_pred, y_true, w, b)\n",
    "        # _.backward()\n",
    "        params -= learning_rate * gradient\n",
    "        if epoch < 5 or epoch % (n_epochs // 10) == 0:\n",
    "            print(f\"Epoch {epoch:4}: loss = {loss.item():8.3f} \"\n",
    "                  f\"(w = {w.item():6.3f}, b = {b.item():6.3f}, \"\n",
    "                  f\"gradient = ({gradient[0]:.3f}, {gradient[1]:.3f})\")\n",
    "    return params"
   ]
  },
  {
   "cell_type": "code",
   "execution_count": 455,
   "metadata": {},
   "outputs": [
    {
     "name": "stdout",
     "output_type": "stream",
     "text": [
      "Epoch    1: loss =  238.615 (w = 16.211, b =  1.952, gradient = (-152.114, -19.524)\n",
      "Epoch    2: loss = 5274.915 (w = -63.771, b = -11.269, gradient = (799.824, 132.211)\n",
      "Epoch    3: loss = 146186.078 (w = 359.652, b = 55.885, gradient = (-4234.229, -671.533)\n",
      "Epoch    4: loss = 4087174.000 (w = -1879.170, b = -301.893, gradient = (22388.217, 3577.774)\n",
      "Epoch   10: loss = 1955877372297216.000 (w = -41188704.000, b = -6574587.000, gradient = (489771584.000, 78177848.000)\n",
      "Epoch   20: loss = 572639146531779088958122622976.000 (w = -704770713059328.000, b = -112496232890368.000, gradient = (8380372400209920.000, 1337683536248832.000)\n",
      "Epoch   30: loss =      inf (w = -12059170502719758663680.000, b = -1924896605320840740864.000, gradient = (143394621142675847380992.000, 22888790753172961361920.000)\n",
      "Epoch   40: loss =      inf (w = -206341801185600410882876112896.000, b = -32936480322794624287732924416.000, gradient = (2453593682201892312791186931712.000, 391645006342834196852796030976.000)\n",
      "Epoch   50: loss =      inf (w = -3530666790008665670195625251129262080.000, b = -563568419739909314025706211252371456.000, gradient = (41982876551248649667878789612725862400.000, 6701346796389818869068917474347450368.000)\n",
      "Epoch   60: loss =      nan (w =    nan, b =    nan, gradient = (nan, nan)\n",
      "Epoch   70: loss =      nan (w =    nan, b =    nan, gradient = (nan, nan)\n",
      "Epoch   80: loss =      nan (w =    nan, b =    nan, gradient = (nan, nan)\n",
      "Epoch   90: loss =      nan (w =    nan, b =    nan, gradient = (nan, nan)\n",
      "Epoch  100: loss =      nan (w =    nan, b =    nan, gradient = (nan, nan)\n"
     ]
    },
    {
     "data": {
      "text/plain": [
       "tensor([nan, nan])"
      ]
     },
     "execution_count": 455,
     "metadata": {},
     "output_type": "execute_result"
    }
   ],
   "source": [
    "training_loop(\n",
    "    n_epochs=100,\n",
    "    learning_rate=0.1,\n",
    "    params=torch.tensor([1.0, 0.0]),\n",
    "    x=x,\n",
    "    y_true=y\n",
    ")"
   ]
  },
  {
   "cell_type": "markdown",
   "metadata": {
    "slideshow": {
     "slide_type": "subslide"
    }
   },
   "source": [
    "## Wie viel updaten wir die Parameter?\n",
    "\n",
    "<img src=\"img/ag/Figure-19-013.png\" style=\"width: 80%; margin-left: auto; margin-right: auto; 0\"/>"
   ]
  },
  {
   "cell_type": "markdown",
   "metadata": {
    "slideshow": {
     "slide_type": "subslide"
    }
   },
   "source": [
    "## Wie viel updaten wir die Parameter?\n",
    "\n",
    "<img src=\"img/ag/Figure-19-014.png\" style=\"width: 80%; margin-left: auto; margin-right: auto; 0\"/>"
   ]
  },
  {
   "cell_type": "markdown",
   "metadata": {
    "slideshow": {
     "slide_type": "subslide"
    }
   },
   "source": [
    "\n",
    "## Wie viel updaten wir die Parameter?\n",
    "\n",
    "<img src=\"img/ag/Figure-19-015.png\" style=\"width: 80%; margin-left: auto; margin-right: auto; 0\"/>"
   ]
  },
  {
   "cell_type": "markdown",
   "metadata": {
    "slideshow": {
     "slide_type": "subslide"
    }
   },
   "source": [
    "\n",
    "## Wie viel updaten wir die Parameter?\n",
    "\n",
    "<img src=\"img/ag/Figure-19-016.png\" style=\"width: 80%; margin-left: auto; margin-right: auto; 0\"/>"
   ]
  },
  {
   "cell_type": "code",
   "execution_count": 456,
   "metadata": {},
   "outputs": [
    {
     "name": "stdout",
     "output_type": "stream",
     "text": [
      "Epoch    1: loss =  238.615 (w =  2.521, b =  0.195, gradient = (-152.114, -19.524)\n",
      "Epoch    2: loss =   77.298 (w =  3.090, b =  0.239, gradient = (-56.920, -4.351)\n",
      "Epoch    3: loss =   54.888 (w =  3.306, b =  0.226, gradient = (-21.587, 1.268)\n",
      "Epoch    4: loss =   51.615 (w =  3.391, b =  0.193, gradient = (-8.470, 3.340)\n",
      "Epoch   10: loss =   49.869 (w =  3.480, b = -0.070, gradient = (-0.731, 4.451)\n",
      "Epoch   20: loss =   47.919 (w =  3.549, b = -0.505, gradient = (-0.680, 4.258)\n",
      "Epoch   30: loss =   46.137 (w =  3.615, b = -0.920, gradient = (-0.650, 4.071)\n",
      "Epoch   40: loss =   44.508 (w =  3.679, b = -1.318, gradient = (-0.621, 3.892)\n",
      "Epoch   50: loss =   43.019 (w =  3.739, b = -1.697, gradient = (-0.594, 3.721)\n",
      "Epoch   60: loss =   41.659 (w =  3.797, b = -2.060, gradient = (-0.568, 3.557)\n",
      "Epoch   70: loss =   40.415 (w =  3.853, b = -2.407, gradient = (-0.543, 3.401)\n",
      "Epoch   80: loss =   39.278 (w =  3.906, b = -2.739, gradient = (-0.519, 3.251)\n",
      "Epoch   90: loss =   38.239 (w =  3.956, b = -3.056, gradient = (-0.496, 3.108)\n",
      "Epoch  100: loss =   37.290 (w =  4.005, b = -3.359, gradient = (-0.474, 2.971)\n"
     ]
    },
    {
     "data": {
      "text/plain": [
       "tensor([ 4.0048, -3.3595])"
      ]
     },
     "execution_count": 456,
     "metadata": {},
     "output_type": "execute_result"
    }
   ],
   "source": [
    "training_loop(\n",
    "    n_epochs=100,\n",
    "    learning_rate=0.01,\n",
    "    params=torch.tensor([1.0, 0.0]),\n",
    "    x=x,\n",
    "    y_true=y\n",
    ")"
   ]
  },
  {
   "cell_type": "code",
   "execution_count": 457,
   "metadata": {},
   "outputs": [
    {
     "name": "stdout",
     "output_type": "stream",
     "text": [
      "Epoch    1: loss =  238.615 (w =  2.521, b =  0.195, gradient = (-152.114, -19.524)\n",
      "Epoch    2: loss =   77.298 (w =  3.090, b =  0.239, gradient = (-56.920, -4.351)\n",
      "Epoch    3: loss =   54.888 (w =  3.306, b =  0.226, gradient = (-21.587, 1.268)\n",
      "Epoch    4: loss =   51.615 (w =  3.391, b =  0.193, gradient = (-8.470, 3.340)\n",
      "Epoch  100: loss =   37.290 (w =  4.005, b = -3.359, gradient = (-0.474, 2.971)\n",
      "Epoch  200: loss =   31.305 (w =  4.386, b = -5.747, gradient = (-0.303, 1.895)\n",
      "Epoch  300: loss =   28.870 (w =  4.629, b = -7.270, gradient = (-0.193, 1.209)\n",
      "Epoch  400: loss =   27.880 (w =  4.784, b = -8.241, gradient = (-0.123, 0.771)\n",
      "Epoch  500: loss =   27.477 (w =  4.883, b = -8.861, gradient = (-0.078, 0.492)\n",
      "Epoch  600: loss =   27.313 (w =  4.946, b = -9.256, gradient = (-0.050, 0.314)\n",
      "Epoch  700: loss =   27.247 (w =  4.986, b = -9.508, gradient = (-0.032, 0.200)\n",
      "Epoch  800: loss =   27.220 (w =  5.012, b = -9.669, gradient = (-0.020, 0.128)\n",
      "Epoch  900: loss =   27.208 (w =  5.028, b = -9.771, gradient = (-0.013, 0.081)\n",
      "Epoch 1000: loss =   27.204 (w =  5.039, b = -9.836, gradient = (-0.008, 0.052)\n"
     ]
    }
   ],
   "source": [
    "params = training_loop(\n",
    "    n_epochs=1000,\n",
    "    learning_rate=1e-2,\n",
    "    params=torch.tensor([1.0, 0.0]),\n",
    "    x=x,\n",
    "    y_true=y\n",
    ")"
   ]
  },
  {
   "cell_type": "code",
   "execution_count": 458,
   "metadata": {},
   "outputs": [
    {
     "data": {
      "image/png": "[encoded data removed]",
      "text/plain": [
       "<Figure size 864x360 with 1 Axes>"
      ]
     },
     "metadata": {
      "needs_background": "light"
     },
     "output_type": "display_data"
    }
   ],
   "source": [
    "y_pred = model(x, *params)\n",
    "plt.figure(figsize=(12, 5))\n",
    "plt.scatter(x, y)\n",
    "plt.scatter(x, y_pred);"
   ]
  },
  {
   "cell_type": "markdown",
   "metadata": {},
   "source": [
    "# Mini Workshop\n",
    "\n",
    "- Notebook 010x Workshop Einführung\n",
    "- Abschnitt \"Lineare Regression\"\n",
    "\n",
    "*Hinweis:* Bitte versuchen Sie die Lösung so weit wie möglich ohne Bezugnahme auf dieses Notebook zu lösen."
   ]
  },
  {
   "cell_type": "markdown",
   "metadata": {
    "slideshow": {
     "slide_type": "subslide"
    }
   },
   "source": [
    "### Normalisieren der Inputs\n"
   ]
  },
  {
   "cell_type": "code",
   "execution_count": 459,
   "metadata": {},
   "outputs": [
    {
     "data": {
      "text/plain": [
       "(tensor(4.8592), tensor(2.6728), tensor(14.6214), tensor(14.4996))"
      ]
     },
     "execution_count": 459,
     "metadata": {},
     "output_type": "execute_result"
    }
   ],
   "source": [
    "x_mean = x.mean()\n",
    "x_std = x.std()\n",
    "y_mean = y.mean()\n",
    "y_std = y.std()\n",
    "x_mean, x_std, y_mean, y_std"
   ]
  },
  {
   "cell_type": "code",
   "execution_count": 460,
   "metadata": {},
   "outputs": [
    {
     "data": {
      "text/plain": [
       "(tensor([-1.2165,  0.7520, -0.2249,  0.2621, -0.8530]),\n",
       " tensor(-2.7567e-08),\n",
       " tensor(1.))"
      ]
     },
     "execution_count": 460,
     "metadata": {},
     "output_type": "execute_result"
    }
   ],
   "source": [
    "x_norm = (x - x_mean) / x_std\n",
    "y_norm = (y - y_mean) / y_std\n",
    "y_norm[:5], y_norm.mean(), y_norm.std()"
   ]
  },
  {
   "cell_type": "code",
   "execution_count": 462,
   "metadata": {},
   "outputs": [
    {
     "name": "stdout",
     "output_type": "stream",
     "text": [
      "Epoch    1: loss =    0.134 (w =  0.999, b =  0.000, gradient = (0.134, -0.000)\n",
      "Epoch    2: loss =    0.134 (w =  0.997, b =  0.000, gradient = (0.131, -0.000)\n",
      "Epoch    3: loss =    0.134 (w =  0.996, b =  0.000, gradient = (0.129, -0.000)\n",
      "Epoch    4: loss =    0.133 (w =  0.995, b =  0.000, gradient = (0.126, -0.000)\n",
      "Epoch  100: loss =    0.129 (w =  0.941, b =  0.000, gradient = (0.019, 0.000)\n",
      "Epoch  200: loss =    0.129 (w =  0.933, b =  0.000, gradient = (0.003, 0.000)\n",
      "Epoch  300: loss =    0.129 (w =  0.932, b =  0.000, gradient = (0.000, 0.000)\n",
      "Epoch  400: loss =    0.129 (w =  0.932, b =  0.000, gradient = (0.000, 0.000)\n",
      "Epoch  500: loss =    0.129 (w =  0.932, b =  0.000, gradient = (0.000, 0.000)\n",
      "Epoch  600: loss =    0.129 (w =  0.932, b =  0.000, gradient = (0.000, 0.000)\n",
      "Epoch  700: loss =    0.129 (w =  0.932, b =  0.000, gradient = (0.000, 0.000)\n",
      "Epoch  800: loss =    0.129 (w =  0.932, b =  0.000, gradient = (0.000, 0.000)\n",
      "Epoch  900: loss =    0.129 (w =  0.932, b =  0.000, gradient = (0.000, 0.000)\n",
      "Epoch 1000: loss =    0.129 (w =  0.932, b =  0.000, gradient = (0.000, 0.000)\n"
     ]
    }
   ],
   "source": [
    "params = training_loop(\n",
    "    n_epochs=1000,\n",
    "    learning_rate=1e-2,\n",
    "    params=torch.tensor([1.0, 0.0]),\n",
    "    x=x_norm,\n",
    "    y_true=y_norm\n",
    ")"
   ]
  },
  {
   "cell_type": "code",
   "execution_count": 463,
   "metadata": {},
   "outputs": [
    {
     "data": {
      "image/png": "[encoded data removed]",
      "text/plain": [
       "<Figure size 864x360 with 1 Axes>"
      ]
     },
     "metadata": {
      "needs_background": "light"
     },
     "output_type": "display_data"
    }
   ],
   "source": [
    "y_pred = model(x_norm, *params) * y_std + y_mean\n",
    "plt.figure(figsize=(12, 5))\n",
    "plt.scatter(x, y)\n",
    "plt.scatter(x_norm * x_std + x_mean, y_pred);"
   ]
  },
  {
   "cell_type": "markdown",
   "metadata": {
    "slideshow": {
     "slide_type": "slide"
    }
   },
   "source": [
    "# Mini Workshop\n",
    "\n",
    "- Notebook 010x Workshop Einführung\n",
    "- Abschnitt \"Normierte Parameter\""
   ]
  },
  {
   "cell_type": "markdown",
   "metadata": {
    "slideshow": {
     "slide_type": "slide"
    }
   },
   "source": [
    "# Autograd\n",
    "\n",
    "Das Berechnen der Gradienten ist mühsam und fehleranfällig.\n",
    "\n",
    "PyTorch kann das für uns übernehmen."
   ]
  },
  {
   "cell_type": "code",
   "execution_count": 464,
   "metadata": {
    "slideshow": {
     "slide_type": "subslide"
    }
   },
   "outputs": [],
   "source": [
    "def model(x, w, b):\n",
    "    return w * x + b\n",
    "\n",
    "def loss_fn(y_pred, y_true):\n",
    "    squared_diffs = (y_pred - y_true) ** 2\n",
    "    return squared_diffs.mean()"
   ]
  },
  {
   "cell_type": "code",
   "execution_count": 465,
   "metadata": {},
   "outputs": [],
   "source": [
    "params = torch.tensor([1.0, 0.0], requires_grad=True)"
   ]
  },
  {
   "cell_type": "code",
   "execution_count": 467,
   "metadata": {},
   "outputs": [
    {
     "data": {
      "text/plain": [
       "True"
      ]
     },
     "execution_count": 467,
     "metadata": {},
     "output_type": "execute_result"
    }
   ],
   "source": [
    "params.grad is None"
   ]
  },
  {
   "cell_type": "code",
   "execution_count": 468,
   "metadata": {},
   "outputs": [
    {
     "data": {
      "text/plain": [
       "tensor([-152.1143,  -19.5244])"
      ]
     },
     "execution_count": 468,
     "metadata": {},
     "output_type": "execute_result"
    }
   ],
   "source": [
    "loss = loss_fn(model(x, *params), y)\n",
    "loss.backward()\n",
    "params.grad"
   ]
  },
  {
   "cell_type": "markdown",
   "metadata": {
    "slideshow": {
     "slide_type": "subslide"
    }
   },
   "source": [
    "Was passiert, wenn wir die Loss-Funktion mehrmals auswerten?"
   ]
  },
  {
   "cell_type": "code",
   "execution_count": 476,
   "metadata": {},
   "outputs": [
    {
     "data": {
      "text/plain": [
       "tensor([-1369.0284,  -175.7196])"
      ]
     },
     "execution_count": 476,
     "metadata": {},
     "output_type": "execute_result"
    }
   ],
   "source": [
    "loss = loss_fn(model(x, *params), y)\n",
    "loss.backward()\n",
    "\n",
    "params.grad"
   ]
  },
  {
   "cell_type": "code",
   "execution_count": 478,
   "metadata": {
    "slideshow": {
     "slide_type": "subslide"
    }
   },
   "outputs": [],
   "source": [
    "if params.grad is not None:\n",
    "    params.grad.zero_()"
   ]
  },
  {
   "cell_type": "code",
   "execution_count": 479,
   "metadata": {},
   "outputs": [
    {
     "data": {
      "text/plain": [
       "tensor([0., 0.])"
      ]
     },
     "execution_count": 479,
     "metadata": {},
     "output_type": "execute_result"
    }
   ],
   "source": [
    "params.grad"
   ]
  },
  {
   "cell_type": "code",
   "execution_count": 480,
   "metadata": {},
   "outputs": [],
   "source": [
    "def training_loop(n_epochs, learning_rate, params, x, y_true):\n",
    "    for epoch in range(1, n_epochs + 1):\n",
    "        if params.grad is not None:\n",
    "            params.grad.zero_()\n",
    "            \n",
    "        # model.forward()\n",
    "        y_pred = model(x, *params)\n",
    "        loss = loss_fn(y_pred, y_true)\n",
    "        loss.backward()\n",
    "        \n",
    "        with torch.no_grad():\n",
    "            params -= learning_rate * params.grad\n",
    "            if epoch < 5 or epoch % (n_epochs // 10) == 0:\n",
    "                print(f\"Epoch {epoch:4}: loss = {loss.item():8.3f} \"\n",
    "                      f\"(w = {params[0].item():6.3f}, b = {params[1].item():6.3f}, \"\n",
    "                      f\"gradient = ({params.grad[0]:.3f}, {params.grad[1]:.3f})\")"
   ]
  },
  {
   "cell_type": "code",
   "execution_count": 482,
   "metadata": {
    "slideshow": {
     "slide_type": "slide"
    }
   },
   "outputs": [
    {
     "name": "stdout",
     "output_type": "stream",
     "text": [
      "Epoch    1: loss =  238.615 (w =  2.521, b =  0.195, gradient = (-152.114, -19.524)\n",
      "Epoch    2: loss =   77.298 (w =  3.090, b =  0.239, gradient = (-56.920, -4.351)\n",
      "Epoch    3: loss =   54.888 (w =  3.306, b =  0.226, gradient = (-21.587, 1.268)\n",
      "Epoch    4: loss =   51.615 (w =  3.391, b =  0.193, gradient = (-8.470, 3.340)\n",
      "Epoch  100: loss =   37.290 (w =  4.005, b = -3.359, gradient = (-0.474, 2.971)\n",
      "Epoch  200: loss =   31.305 (w =  4.386, b = -5.747, gradient = (-0.303, 1.895)\n",
      "Epoch  300: loss =   28.870 (w =  4.629, b = -7.270, gradient = (-0.193, 1.209)\n",
      "Epoch  400: loss =   27.880 (w =  4.784, b = -8.241, gradient = (-0.123, 0.771)\n",
      "Epoch  500: loss =   27.477 (w =  4.883, b = -8.861, gradient = (-0.078, 0.492)\n",
      "Epoch  600: loss =   27.313 (w =  4.946, b = -9.256, gradient = (-0.050, 0.314)\n",
      "Epoch  700: loss =   27.247 (w =  4.986, b = -9.508, gradient = (-0.032, 0.200)\n",
      "Epoch  800: loss =   27.220 (w =  5.012, b = -9.669, gradient = (-0.020, 0.128)\n",
      "Epoch  900: loss =   27.208 (w =  5.028, b = -9.771, gradient = (-0.013, 0.081)\n",
      "Epoch 1000: loss =   27.204 (w =  5.039, b = -9.836, gradient = (-0.008, 0.052)\n"
     ]
    }
   ],
   "source": [
    "training_loop(\n",
    "    n_epochs=1000,\n",
    "    learning_rate=1e-2,\n",
    "    params=torch.tensor([1.0, 0.0], requires_grad=True),\n",
    "    x=x,\n",
    "    y_true=y\n",
    ")"
   ]
  },
  {
   "cell_type": "markdown",
   "metadata": {
    "slideshow": {
     "slide_type": "slide"
    }
   },
   "source": [
    "# Mini Workshop\n",
    "\n",
    "- Notebook 010x Workshop Einführung\n",
    "- Abschnitt \"Autograd\""
   ]
  },
  {
   "cell_type": "markdown",
   "metadata": {},
   "source": [
    "# Optimierer\n",
    "\n",
    "- Pytorch hat mehrere Optimierungsstrategien\n",
    "- Diese arbeiten auf Batches"
   ]
  },
  {
   "cell_type": "code",
   "execution_count": 483,
   "metadata": {},
   "outputs": [
    {
     "data": {
      "text/plain": [
       "['ASGD',\n",
       " 'Adadelta',\n",
       " 'Adagrad',\n",
       " 'Adam',\n",
       " 'AdamW',\n",
       " 'Adamax',\n",
       " 'LBFGS',\n",
       " 'Optimizer',\n",
       " 'RMSprop',\n",
       " 'Rprop',\n",
       " 'SGD',\n",
       " 'SparseAdam',\n",
       " 'lr_scheduler']"
      ]
     },
     "execution_count": 483,
     "metadata": {},
     "output_type": "execute_result"
    }
   ],
   "source": [
    "import torch.optim as optim\n",
    "[name for name in dir(optim) if name[0] != '_']"
   ]
  },
  {
   "cell_type": "code",
   "execution_count": 484,
   "metadata": {
    "slideshow": {
     "slide_type": "subslide"
    }
   },
   "outputs": [
    {
     "data": {
      "text/plain": [
       "SGD (\n",
       "Parameter Group 0\n",
       "    dampening: 0\n",
       "    lr: 0.01\n",
       "    momentum: 0\n",
       "    nesterov: False\n",
       "    weight_decay: 0\n",
       ")"
      ]
     },
     "execution_count": 484,
     "metadata": {},
     "output_type": "execute_result"
    }
   ],
   "source": [
    "params = torch.tensor([1.0, 0.0], requires_grad=True)\n",
    "learning_rate = 0.01\n",
    "optimizer = optim.SGD([params], lr=learning_rate)\n",
    "optimizer"
   ]
  },
  {
   "cell_type": "code",
   "execution_count": 485,
   "metadata": {},
   "outputs": [
    {
     "data": {
      "text/plain": [
       "tensor([2.0758, 0.2219], requires_grad=True)"
      ]
     },
     "execution_count": 485,
     "metadata": {},
     "output_type": "execute_result"
    }
   ],
   "source": [
    "y_pred = model(x, *params)\n",
    "loss = loss_fn(y_pred, y_true)\n",
    "loss.backward()\n",
    "optimizer.step()\n",
    "params"
   ]
  },
  {
   "cell_type": "code",
   "execution_count": 486,
   "metadata": {},
   "outputs": [
    {
     "data": {
      "text/plain": [
       "tensor([2.4702, 0.3347], requires_grad=True)"
      ]
     },
     "execution_count": 486,
     "metadata": {},
     "output_type": "execute_result"
    }
   ],
   "source": [
    "y_pred = model(x, *params)\n",
    "loss = loss_fn(y_pred, y_true)\n",
    "optimizer.zero_grad()\n",
    "loss.backward()\n",
    "optimizer.step()\n",
    "params"
   ]
  },
  {
   "cell_type": "code",
   "execution_count": 487,
   "metadata": {
    "slideshow": {
     "slide_type": "subslide"
    }
   },
   "outputs": [],
   "source": [
    "def training_loop(n_epochs, optimizer, params, x, y_true):\n",
    "    for epoch in range(1, n_epochs + 1):\n",
    "        # model.forward()\n",
    "        y_pred = model(x, *params)\n",
    "        loss = loss_fn(y_pred, y_true)\n",
    "        \n",
    "        optimizer.zero_grad()\n",
    "        loss.backward()\n",
    "        optimizer.step()\n",
    "        \n",
    "        if epoch < 5 or epoch % (n_epochs // 10) == 0:\n",
    "            print(f\"Epoch {epoch:4}: loss = v{loss.item():8.3f} \"\n",
    "                  f\"(w = {params[0].item():6.3f}, b = {params[1].item():6.3f}, \"\n",
    "                  f\"gradient = ({params.grad[0]:.3f}, {params.grad[1]:.3f})\")"
   ]
  },
  {
   "cell_type": "code",
   "execution_count": 488,
   "metadata": {
    "slideshow": {
     "slide_type": "subslide"
    }
   },
   "outputs": [
    {
     "name": "stdout",
     "output_type": "stream",
     "text": [
      "Epoch    1: loss = v 238.615 (w =  2.521, b =  0.195, gradient = (-152.114, -19.524)\n",
      "Epoch    2: loss = v  77.298 (w =  3.090, b =  0.239, gradient = (-56.920, -4.351)\n",
      "Epoch    3: loss = v  54.888 (w =  3.306, b =  0.226, gradient = (-21.587, 1.268)\n",
      "Epoch    4: loss = v  51.615 (w =  3.391, b =  0.193, gradient = (-8.470, 3.340)\n",
      "Epoch  100: loss = v  37.290 (w =  4.005, b = -3.359, gradient = (-0.474, 2.971)\n",
      "Epoch  200: loss = v  31.305 (w =  4.386, b = -5.747, gradient = (-0.303, 1.895)\n",
      "Epoch  300: loss = v  28.870 (w =  4.629, b = -7.270, gradient = (-0.193, 1.209)\n",
      "Epoch  400: loss = v  27.880 (w =  4.784, b = -8.241, gradient = (-0.123, 0.771)\n",
      "Epoch  500: loss = v  27.477 (w =  4.883, b = -8.861, gradient = (-0.078, 0.492)\n",
      "Epoch  600: loss = v  27.313 (w =  4.946, b = -9.256, gradient = (-0.050, 0.314)\n",
      "Epoch  700: loss = v  27.247 (w =  4.986, b = -9.508, gradient = (-0.032, 0.200)\n",
      "Epoch  800: loss = v  27.220 (w =  5.012, b = -9.669, gradient = (-0.020, 0.128)\n",
      "Epoch  900: loss = v  27.208 (w =  5.028, b = -9.771, gradient = (-0.013, 0.081)\n",
      "Epoch 1000: loss = v  27.204 (w =  5.039, b = -9.836, gradient = (-0.008, 0.052)\n"
     ]
    }
   ],
   "source": [
    "params = torch.tensor([1.0, 0.0], requires_grad=True)\n",
    "learning_rate = 0.01\n",
    "optimizer = optim.SGD([params], lr=learning_rate)\n",
    "training_loop(\n",
    "    n_epochs=1000,\n",
    "    optimizer=optimizer,\n",
    "    params=params,\n",
    "    x=x,\n",
    "    y_true=y\n",
    ")"
   ]
  },
  {
   "cell_type": "code",
   "execution_count": 489,
   "metadata": {
    "slideshow": {
     "slide_type": "subslide"
    }
   },
   "outputs": [
    {
     "name": "stdout",
     "output_type": "stream",
     "text": [
      "Epoch    1: loss = v 238.615 (w =  2.000, b =  1.000, gradient = (-152.114, -19.524)\n",
      "Epoch    2: loss = v 108.361 (w =  2.941, b =  1.899, gradient = (-81.063, -7.806)\n",
      "Epoch    3: loss = v  61.241 (w =  3.720, b =  2.491, gradient = (-14.594, 3.140)\n",
      "Epoch    4: loss = v  75.180 (w =  4.215, b =  2.630, gradient = (38.944, 11.895)\n",
      "Epoch  100: loss = v  27.202 (w =  5.050, b = -9.885, gradient = (-0.153, 0.003)\n",
      "Epoch  200: loss = v  27.201 (w =  5.057, b = -9.952, gradient = (0.002, 0.000)\n",
      "Epoch  300: loss = v  27.201 (w =  5.057, b = -9.952, gradient = (-0.000, 0.000)\n",
      "Epoch  400: loss = v  27.201 (w =  5.057, b = -9.952, gradient = (-0.000, -0.000)\n",
      "Epoch  500: loss = v  27.201 (w =  5.057, b = -9.952, gradient = (0.000, 0.000)\n",
      "Epoch  600: loss = v  27.201 (w =  5.057, b = -9.952, gradient = (0.000, 0.000)\n",
      "Epoch  700: loss = v  27.201 (w =  5.057, b = -9.952, gradient = (0.000, 0.000)\n",
      "Epoch  800: loss = v  27.201 (w =  5.057, b = -9.952, gradient = (-0.000, -0.000)\n",
      "Epoch  900: loss = v  27.201 (w =  5.057, b = -9.952, gradient = (-0.000, -0.000)\n",
      "Epoch 1000: loss = v  27.201 (w =  5.057, b = -9.952, gradient = (0.000, 0.000)\n"
     ]
    }
   ],
   "source": [
    "params = torch.tensor([1.0, 0.0], requires_grad=True)\n",
    "learning_rate = 1\n",
    "optimizer = optim.Adam([params], lr=learning_rate)\n",
    "training_loop(\n",
    "    n_epochs=1000,\n",
    "    optimizer=optimizer,\n",
    "    params=params,\n",
    "    x=x,\n",
    "    y_true=y\n",
    ")"
   ]
  },
  {
   "cell_type": "markdown",
   "metadata": {
    "slideshow": {
     "slide_type": "slide"
    }
   },
   "source": [
    "# Randomisierung, Test/Validation/Train Split"
   ]
  },
  {
   "cell_type": "code",
   "execution_count": 490,
   "metadata": {},
   "outputs": [
    {
     "data": {
      "text/plain": [
       "tensor([4, 3, 2, 0, 1])"
      ]
     },
     "execution_count": 490,
     "metadata": {},
     "output_type": "execute_result"
    }
   ],
   "source": [
    "torch.randperm(5)"
   ]
  },
  {
   "cell_type": "code",
   "execution_count": 491,
   "metadata": {},
   "outputs": [
    {
     "data": {
      "text/plain": [
       "tensor([55, 16, 34, 11,  2])"
      ]
     },
     "execution_count": 491,
     "metadata": {},
     "output_type": "execute_result"
    }
   ],
   "source": [
    "import math\n",
    "n_samples = x.shape[0]\n",
    "n_validation = math.floor(0.2 * n_samples)\n",
    "\n",
    "shuffled_indices = torch.randperm(n_samples)\n",
    "shuffled_indices[:5]"
   ]
  },
  {
   "cell_type": "code",
   "execution_count": 492,
   "metadata": {},
   "outputs": [
    {
     "data": {
      "text/plain": [
       "(tensor([55, 16, 34, 11,  2]), tensor([62, 19,  1, 27, 66]))"
      ]
     },
     "execution_count": 492,
     "metadata": {},
     "output_type": "execute_result"
    }
   ],
   "source": [
    "train_indices = shuffled_indices[:-n_validation]\n",
    "validation_indices = shuffled_indices[-n_validation:]\n",
    "train_indices[:5], validation_indices[:5]"
   ]
  },
  {
   "cell_type": "code",
   "execution_count": 493,
   "metadata": {
    "slideshow": {
     "slide_type": "slide"
    }
   },
   "outputs": [],
   "source": [
    "train_x = x[train_indices]\n",
    "train_y = y[train_indices]\n",
    "validation_x = x[validation_indices]\n",
    "validation_y = y[validation_indices]"
   ]
  },
  {
   "cell_type": "code",
   "execution_count": 494,
   "metadata": {},
   "outputs": [],
   "source": [
    "def training_loop(n_epochs, optimizer, params, x_train, y_train, x_val, y_val):\n",
    "    for epoch in range(1, n_epochs + 1):\n",
    "        y_train_pred = model(x_train, *params)\n",
    "        loss_train = loss_fn(y_train_pred, y_train)\n",
    "\n",
    "        y_val_pred = model(x_val, *params)\n",
    "        loss_val = loss_fn(y_val_pred, y_val)\n",
    "        \n",
    "        optimizer.zero_grad()\n",
    "        loss_train.backward()\n",
    "        optimizer.step()\n",
    "        \n",
    "        if epoch < 5 or epoch % (n_epochs // 10) == 0:\n",
    "            print(f\"Epoch {epoch:4}: training loss = {loss_train.item():8.3f}, \"\n",
    "                  f\"validation loss = {loss_val.item():8.3f}\")"
   ]
  },
  {
   "cell_type": "code",
   "execution_count": 495,
   "metadata": {
    "slideshow": {
     "slide_type": "subslide"
    }
   },
   "outputs": [
    {
     "name": "stdout",
     "output_type": "stream",
     "text": [
      "Epoch    1: training loss =  231.212, validation loss =  268.226\n",
      "Epoch    2: training loss =   84.978, validation loss =   71.492\n",
      "Epoch    3: training loss =   62.393, validation loss =   34.906\n",
      "Epoch    4: training loss =   58.696, validation loss =   26.721\n",
      "Epoch  100: training loss =   39.974, validation loss =   19.309\n",
      "Epoch  200: training loss =   32.751, validation loss =   19.273\n",
      "Epoch  300: training loss =   30.047, validation loss =   20.243\n",
      "Epoch  400: training loss =   29.035, validation loss =   21.207\n",
      "Epoch  500: training loss =   28.656, validation loss =   21.937\n",
      "Epoch  600: training loss =   28.514, validation loss =   22.435\n",
      "Epoch  700: training loss =   28.461, validation loss =   22.759\n",
      "Epoch  800: training loss =   28.441, validation loss =   22.965\n",
      "Epoch  900: training loss =   28.434, validation loss =   23.093\n",
      "Epoch 1000: training loss =   28.431, validation loss =   23.173\n"
     ]
    }
   ],
   "source": [
    "params = torch.tensor([1.0, 0.0], requires_grad=True)\n",
    "learning_rate = 0.01\n",
    "optimizer = optim.SGD([params], lr=learning_rate)\n",
    "training_loop(\n",
    "    n_epochs=1000,\n",
    "    optimizer=optimizer,\n",
    "    params=params,\n",
    "    x_train=train_x,\n",
    "    y_train=train_y,\n",
    "    x_val=validation_x,\n",
    "    y_val=validation_y\n",
    ")"
   ]
  },
  {
   "cell_type": "markdown",
   "metadata": {
    "slideshow": {
     "slide_type": "slide"
    }
   },
   "source": [
    "# Mini Workshop\n",
    "\n",
    "- Notebook 010x Workshop Einführung\n",
    "- Abschnitt \"Optimierer, Randomisierung\""
   ]
  },
  {
   "cell_type": "markdown",
   "metadata": {
    "slideshow": {
     "slide_type": "slide"
    }
   },
   "source": [
    "# Pytorch Module und Batches"
   ]
  },
  {
   "cell_type": "code",
   "execution_count": 496,
   "metadata": {},
   "outputs": [
    {
     "data": {
      "text/plain": [
       "tensor([-0.0698], grad_fn=<AddBackward0>)"
      ]
     },
     "execution_count": 496,
     "metadata": {},
     "output_type": "execute_result"
    }
   ],
   "source": [
    "import torch.nn as nn\n",
    "linear_model = nn.Linear(1, 1, bias=True)\n",
    "linear_model(torch.tensor([1.0]))"
   ]
  },
  {
   "cell_type": "code",
   "execution_count": 498,
   "metadata": {
    "slideshow": {
     "slide_type": "subslide"
    }
   },
   "outputs": [],
   "source": [
    "# Fehler\n",
    "# linear_model(x)"
   ]
  },
  {
   "cell_type": "code",
   "execution_count": 506,
   "metadata": {},
   "outputs": [
    {
     "data": {
      "text/plain": [
       "(tensor([[[0.9257],\n",
       "          [0.4013]],\n",
       " \n",
       "         [[0.3957],\n",
       "          [0.2699]]]),\n",
       " tensor([[0.9257, 0.4013],\n",
       "         [0.3957, 0.2699]]))"
      ]
     },
     "execution_count": 506,
     "metadata": {},
     "output_type": "execute_result"
    }
   ],
   "source": [
    "m = torch.rand(2, 2, 1)\n",
    "n = m.squeeze(-1)\n",
    "m, n"
   ]
  },
  {
   "cell_type": "code",
   "execution_count": 508,
   "metadata": {},
   "outputs": [
    {
     "data": {
      "text/plain": [
       "(torch.Size([80]), torch.Size([80, 1]))"
      ]
     },
     "execution_count": 508,
     "metadata": {},
     "output_type": "execute_result"
    }
   ],
   "source": [
    "x.shape, x.unsqueeze(-1).shape"
   ]
  },
  {
   "cell_type": "code",
   "execution_count": 509,
   "metadata": {},
   "outputs": [
    {
     "data": {
      "text/plain": [
       "tensor([[0.3605],\n",
       "        [3.3830],\n",
       "        [2.0024],\n",
       "        [2.8494],\n",
       "        [0.5791]], grad_fn=<SliceBackward>)"
      ]
     },
     "execution_count": 509,
     "metadata": {},
     "output_type": "execute_result"
    }
   ],
   "source": [
    "linear_model(x.unsqueeze(-1))[:5]"
   ]
  },
  {
   "cell_type": "markdown",
   "metadata": {
    "slideshow": {
     "slide_type": "slide"
    }
   },
   "source": [
    "*Hinweis:* Bei Modulen definiert man `forward()`, ruft sie aber als Funktion auf."
   ]
  },
  {
   "cell_type": "code",
   "execution_count": 510,
   "metadata": {
    "slideshow": {
     "slide_type": "slide"
    }
   },
   "outputs": [
    {
     "data": {
      "text/plain": [
       "Parameter containing:\n",
       "tensor([[0.5816]], requires_grad=True)"
      ]
     },
     "execution_count": 510,
     "metadata": {},
     "output_type": "execute_result"
    }
   ],
   "source": [
    "linear_model.weight"
   ]
  },
  {
   "cell_type": "code",
   "execution_count": 511,
   "metadata": {},
   "outputs": [
    {
     "data": {
      "text/plain": [
       "Parameter containing:\n",
       "tensor([-0.6514], requires_grad=True)"
      ]
     },
     "execution_count": 511,
     "metadata": {},
     "output_type": "execute_result"
    }
   ],
   "source": [
    "linear_model.bias"
   ]
  },
  {
   "cell_type": "code",
   "execution_count": 513,
   "metadata": {
    "slideshow": {
     "slide_type": "subslide"
    }
   },
   "outputs": [],
   "source": [
    "linear_model = nn.Linear(1, 1)\n",
    "optimizer = optim.SGD(\n",
    "    linear_model.parameters(),\n",
    "    lr=0.01\n",
    ")"
   ]
  },
  {
   "cell_type": "code",
   "execution_count": 514,
   "metadata": {},
   "outputs": [
    {
     "data": {
      "text/plain": [
       "[Parameter containing:\n",
       " tensor([[-0.0531]], requires_grad=True),\n",
       " Parameter containing:\n",
       " tensor([-0.0565], requires_grad=True)]"
      ]
     },
     "execution_count": 514,
     "metadata": {},
     "output_type": "execute_result"
    }
   ],
   "source": [
    "list(linear_model.parameters())"
   ]
  },
  {
   "cell_type": "code",
   "execution_count": 515,
   "metadata": {
    "slideshow": {
     "slide_type": "slide"
    }
   },
   "outputs": [],
   "source": [
    "def training_loop(n_epochs, optimizer, model, loss_fn, x_train, y_train, x_val, y_val):\n",
    "    for epoch in range(1, n_epochs + 1):\n",
    "        y_train_pred = model(x_train)\n",
    "        loss_train = loss_fn(y_train_pred, y_train)\n",
    "\n",
    "        y_val_pred = model(x_val)\n",
    "        loss_val = loss_fn(y_val_pred, y_val)\n",
    "        \n",
    "        optimizer.zero_grad()\n",
    "        loss_train.backward()\n",
    "        optimizer.step()\n",
    "        \n",
    "        if epoch < 5 or epoch % (n_epochs // 10) == 0:\n",
    "            print(f\"Epoch {epoch:4}: training loss = {loss_train.item():8.3f}, \"\n",
    "                  f\"validation loss = {loss_val.item():8.3f}\")"
   ]
  },
  {
   "cell_type": "code",
   "execution_count": 516,
   "metadata": {
    "slideshow": {
     "slide_type": "subslide"
    }
   },
   "outputs": [],
   "source": [
    "linear_model = nn.Linear(1, 1)\n",
    "optimizer = optim.SGD(\n",
    "    linear_model.parameters(),\n",
    "    lr=0.01\n",
    ")"
   ]
  },
  {
   "cell_type": "code",
   "execution_count": 517,
   "metadata": {
    "slideshow": {
     "slide_type": ""
    }
   },
   "outputs": [
    {
     "name": "stdout",
     "output_type": "stream",
     "text": [
      "Epoch    1: training loss =  530.086, validation loss =  639.560\n",
      "Epoch    2: training loss =  135.529, validation loss =  136.662\n",
      "Epoch    3: training loss =   74.970, validation loss =   49.053\n",
      "Epoch    4: training loss =   65.426, validation loss =   31.397\n",
      "Epoch  100: training loss =   42.188, validation loss =   19.611\n",
      "Epoch  200: training loss =   33.580, validation loss =   19.154\n",
      "Epoch  300: training loss =   30.357, validation loss =   20.056\n",
      "Epoch  400: training loss =   29.151, validation loss =   21.051\n",
      "Epoch  500: training loss =   28.700, validation loss =   21.825\n",
      "Epoch  600: training loss =   28.531, validation loss =   22.360\n",
      "Epoch  700: training loss =   28.467, validation loss =   22.711\n",
      "Epoch  800: training loss =   28.444, validation loss =   22.935\n",
      "Epoch  900: training loss =   28.435, validation loss =   23.074\n",
      "Epoch 1000: training loss =   28.431, validation loss =   23.161\n"
     ]
    }
   ],
   "source": [
    "training_loop(\n",
    "    n_epochs=1000,\n",
    "    optimizer=optimizer,\n",
    "    model=linear_model,\n",
    "    loss_fn=nn.MSELoss(),\n",
    "    x_train=train_x.unsqueeze(-1),\n",
    "    y_train=train_y.unsqueeze(-1),\n",
    "    x_val=validation_x.unsqueeze(-1),\n",
    "    y_val=validation_y.unsqueeze(-1)\n",
    ")"
   ]
  },
  {
   "cell_type": "markdown",
   "metadata": {
    "slideshow": {
     "slide_type": "slide"
    }
   },
   "source": [
    "# Mini Workshop\n",
    "\n",
    "- Notebook 010x Workshop Einführung\n",
    "- Abschnitt \"Module, Batching\""
   ]
  }
 ],
 "metadata": {
  "celltoolbar": "Slideshow",
  "kernelspec": {
   "display_name": "Python [conda env:ml-training] *",
   "language": "python",
   "name": "conda-env-ml-training-py"
  },
  "language_info": {
   "codemirror_mode": {
    "name": "ipython",
    "version": 3
   },
   "file_extension": ".py",
   "mimetype": "text/x-python",
   "name": "python",
   "nbconvert_exporter": "python",
   "pygments_lexer": "ipython3",
   "version": "3.8.5"
  }
 },
 "nbformat": 4,
 "nbformat_minor": 4
}
