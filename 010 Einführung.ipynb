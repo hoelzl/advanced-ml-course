{
 "cells": [
  {
   "cell_type": "markdown",
   "metadata": {
    "slideshow": {
     "slide_type": "slide"
    }
   },
   "source": [
    "# Maschinelles Lernen\n",
    "\n",
    "## Was ist Maschinelles Lernen?"
   ]
  },
  {
   "cell_type": "markdown",
   "metadata": {
    "slideshow": {
     "slide_type": "fragment"
    }
   },
   "source": [
    "## Eine Antwort (Arthur Samuel)\n",
    "\n",
    "Maschinelles Lernen ist ein Feld der Künstlichen Intelligenz. Es wendet statistische Techniken an, um Computern die Fähigkeit zu verleihen, aus Daten zu lernen, ohne explizit programmiert zu sein."
   ]
  },
  {
   "cell_type": "markdown",
   "metadata": {
    "slideshow": {
     "slide_type": "subslide"
    }
   },
   "source": [
    "## Andere Antwort (nach Andrew Glassner)\n",
    "\n",
    "- Techniken, die Information aus Daten extrahieren\n",
    "- *Daten:* alles was man messen und aufzeichnen kann\n",
    "- *Information:* was wir interessant finden"
   ]
  },
  {
   "cell_type": "markdown",
   "metadata": {
    "slideshow": {
     "slide_type": "subslide"
    }
   },
   "source": [
    "<img src=\"img/ag/Figure-01-001.png\">"
   ]
  },
  {
   "cell_type": "markdown",
   "metadata": {
    "slideshow": {
     "slide_type": "subslide"
    }
   },
   "source": [
    "<img src=\"img/ag/Figure-01-002.png\">"
   ]
  },
  {
   "cell_type": "markdown",
   "metadata": {
    "slideshow": {
     "slide_type": "subslide"
    }
   },
   "source": [
    "## Andere Antwort (frei nach François Chollet)\n",
    "\n",
    "- Ein Teilgebiet der künstlichen Intelligenz\n",
    "- KI: Automatisierung von Aufgaben, die bisher nur Menschen erledigen konnten\n",
    "  - Das geht auch mit regelbasierten Systemen\n",
    "  - Beispiel: Schach, Expertensystem\n",
    "- ML: Der Teil der KI, der versucht Verhalten zu verbessern, wenn mehr Daten zur Verfügung stehen"
   ]
  },
  {
   "cell_type": "markdown",
   "metadata": {
    "slideshow": {
     "slide_type": "subslide"
    }
   },
   "source": [
    "### Regelbasierte Systeme: Feature Engineering\n",
    "\n",
    "Extraktion von relevanten Features aus Daten."
   ]
  },
  {
   "cell_type": "markdown",
   "metadata": {
    "slideshow": {
     "slide_type": "subslide"
    }
   },
   "source": [
    "<img src=\"img/ag/Figure-01-003.png\" style=\"width: 40%; margin-left: auto; margin-right: auto;\">"
   ]
  },
  {
   "cell_type": "markdown",
   "metadata": {
    "slideshow": {
     "slide_type": "subslide"
    }
   },
   "source": [
    "<img src=\"img/ag/Figure-01-004.png\" style=\"width: 20%; margin-left: auto; margin-right: auto;\">"
   ]
  },
  {
   "cell_type": "markdown",
   "metadata": {
    "slideshow": {
     "slide_type": "subslide"
    }
   },
   "source": [
    "## Nochmal François Chollet\n",
    "\n",
    "- Traditionelles Programmieren:\n",
    "    - Wir programmieren eine Lösung für ein Problem:\n",
    "    - Regeln + Daten $\\Rightarrow$ Antworten\n",
    "- ML:\n",
    "    - Wir extrahieren Regeln aus (gelabelten) Daten\n",
    "    - Daten + Antworten $\\Rightarrow$ Regeln"
   ]
  },
  {
   "cell_type": "markdown",
   "metadata": {
    "slideshow": {
     "slide_type": "slide"
    }
   },
   "source": [
    "# Was ist Deep Learning\n",
    "\n",
    "- Eine Form von ML, die auf künstlichen neuronalen Netzen basiert\n",
    "- Im Deep Learning erfolgt die Berechnung in \"Schichten\", die immer algemeinere Features extrahieren\n",
    "- Deep Learning benötigt weniger Feature Engineering als andere Ansätze\n",
    "- Braucht aber (meistens) mehr Daten!"
   ]
  },
  {
   "cell_type": "markdown",
   "metadata": {
    "slideshow": {
     "slide_type": "subslide"
    }
   },
   "source": [
    "## Klassifizierung\n",
    "\n",
    "<img src=\"img/ag/Figure-01-022.png\" style=\"float: right;width: 40%;\"/>\n",
    "\n",
    "\n",
    "- Viele Daten, vorgegebene Menge an möglichen Werten\n",
    "- Weise jedem Datensatz einen oder mehrere Labels zu"
   ]
  },
  {
   "cell_type": "code",
   "execution_count": 1,
   "metadata": {
    "slideshow": {
     "slide_type": "subslide"
    }
   },
   "outputs": [
    {
     "data": {
      "text/html": [
       "<table border=\"1\" class=\"dataframe\">\n",
       "  <thead>\n",
       "    <tr style=\"text-align: left;\">\n",
       "      <th>epoch</th>\n",
       "      <th>train_loss</th>\n",
       "      <th>valid_loss</th>\n",
       "      <th>error_rate</th>\n",
       "      <th>time</th>\n",
       "    </tr>\n",
       "  </thead>\n",
       "  <tbody>\n",
       "    <tr>\n",
       "      <td>0</td>\n",
       "      <td>nan</td>\n",
       "      <td>00:00</td>\n",
       "    </tr>\n",
       "  </tbody>\n",
       "</table>"
      ],
      "text/plain": [
       "<IPython.core.display.HTML object>"
      ]
     },
     "metadata": {},
     "output_type": "display_data"
    },
    {
     "ename": "RuntimeError",
     "evalue": "cuda runtime error (801) : operation not supported at ..\\torch/csrc/generic/StorageSharing.cpp:247",
     "output_type": "error",
     "traceback": [
      "\u001b[1;31m---------------------------------------------------------------------------\u001b[0m",
      "\u001b[1;31mRuntimeError\u001b[0m                              Traceback (most recent call last)",
      "\u001b[1;32m<ipython-input-1-d802a05b4647>\u001b[0m in \u001b[0;36m<module>\u001b[1;34m\u001b[0m\n\u001b[0;32m      8\u001b[0m \u001b[1;33m\u001b[0m\u001b[0m\n\u001b[0;32m      9\u001b[0m \u001b[0mlearn\u001b[0m \u001b[1;33m=\u001b[0m \u001b[0mcnn_learner\u001b[0m\u001b[1;33m(\u001b[0m\u001b[0mdls\u001b[0m\u001b[1;33m,\u001b[0m \u001b[0mresnet34\u001b[0m\u001b[1;33m,\u001b[0m \u001b[0mmetrics\u001b[0m\u001b[1;33m=\u001b[0m\u001b[0merror_rate\u001b[0m\u001b[1;33m)\u001b[0m\u001b[1;33m\u001b[0m\u001b[1;33m\u001b[0m\u001b[0m\n\u001b[1;32m---> 10\u001b[1;33m \u001b[0mlearn\u001b[0m\u001b[1;33m.\u001b[0m\u001b[0mfine_tune\u001b[0m\u001b[1;33m(\u001b[0m\u001b[1;36m1\u001b[0m\u001b[1;33m)\u001b[0m\u001b[1;33m\u001b[0m\u001b[1;33m\u001b[0m\u001b[0m\n\u001b[0m",
      "\u001b[1;32m~\\Programming\\Python\\Miniconda3\\envs\\ml-course\\lib\\site-packages\\fastcore\\logargs.py\u001b[0m in \u001b[0;36m_f\u001b[1;34m(*args, **kwargs)\u001b[0m\n\u001b[0;32m     54\u001b[0m         \u001b[0minit_args\u001b[0m\u001b[1;33m.\u001b[0m\u001b[0mupdate\u001b[0m\u001b[1;33m(\u001b[0m\u001b[0mlog\u001b[0m\u001b[1;33m)\u001b[0m\u001b[1;33m\u001b[0m\u001b[1;33m\u001b[0m\u001b[0m\n\u001b[0;32m     55\u001b[0m         \u001b[0msetattr\u001b[0m\u001b[1;33m(\u001b[0m\u001b[0minst\u001b[0m\u001b[1;33m,\u001b[0m \u001b[1;34m'init_args'\u001b[0m\u001b[1;33m,\u001b[0m \u001b[0minit_args\u001b[0m\u001b[1;33m)\u001b[0m\u001b[1;33m\u001b[0m\u001b[1;33m\u001b[0m\u001b[0m\n\u001b[1;32m---> 56\u001b[1;33m         \u001b[1;32mreturn\u001b[0m \u001b[0minst\u001b[0m \u001b[1;32mif\u001b[0m \u001b[0mto_return\u001b[0m \u001b[1;32melse\u001b[0m \u001b[0mf\u001b[0m\u001b[1;33m(\u001b[0m\u001b[1;33m*\u001b[0m\u001b[0margs\u001b[0m\u001b[1;33m,\u001b[0m \u001b[1;33m**\u001b[0m\u001b[0mkwargs\u001b[0m\u001b[1;33m)\u001b[0m\u001b[1;33m\u001b[0m\u001b[1;33m\u001b[0m\u001b[0m\n\u001b[0m\u001b[0;32m     57\u001b[0m     \u001b[1;32mreturn\u001b[0m \u001b[0m_f\u001b[0m\u001b[1;33m\u001b[0m\u001b[1;33m\u001b[0m\u001b[0m\n",
      "\u001b[1;32m~\\Programming\\Python\\Miniconda3\\envs\\ml-course\\lib\\site-packages\\fastai\\callback\\schedule.py\u001b[0m in \u001b[0;36mfine_tune\u001b[1;34m(self, epochs, base_lr, freeze_epochs, lr_mult, pct_start, div, **kwargs)\u001b[0m\n\u001b[0;32m    159\u001b[0m     \u001b[1;34m\"Fine tune with `freeze` for `freeze_epochs` then with `unfreeze` from `epochs` using discriminative LR\"\u001b[0m\u001b[1;33m\u001b[0m\u001b[1;33m\u001b[0m\u001b[0m\n\u001b[0;32m    160\u001b[0m     \u001b[0mself\u001b[0m\u001b[1;33m.\u001b[0m\u001b[0mfreeze\u001b[0m\u001b[1;33m(\u001b[0m\u001b[1;33m)\u001b[0m\u001b[1;33m\u001b[0m\u001b[1;33m\u001b[0m\u001b[0m\n\u001b[1;32m--> 161\u001b[1;33m     \u001b[0mself\u001b[0m\u001b[1;33m.\u001b[0m\u001b[0mfit_one_cycle\u001b[0m\u001b[1;33m(\u001b[0m\u001b[0mfreeze_epochs\u001b[0m\u001b[1;33m,\u001b[0m \u001b[0mslice\u001b[0m\u001b[1;33m(\u001b[0m\u001b[0mbase_lr\u001b[0m\u001b[1;33m)\u001b[0m\u001b[1;33m,\u001b[0m \u001b[0mpct_start\u001b[0m\u001b[1;33m=\u001b[0m\u001b[1;36m0.99\u001b[0m\u001b[1;33m,\u001b[0m \u001b[1;33m**\u001b[0m\u001b[0mkwargs\u001b[0m\u001b[1;33m)\u001b[0m\u001b[1;33m\u001b[0m\u001b[1;33m\u001b[0m\u001b[0m\n\u001b[0m\u001b[0;32m    162\u001b[0m     \u001b[0mbase_lr\u001b[0m \u001b[1;33m/=\u001b[0m \u001b[1;36m2\u001b[0m\u001b[1;33m\u001b[0m\u001b[1;33m\u001b[0m\u001b[0m\n\u001b[0;32m    163\u001b[0m     \u001b[0mself\u001b[0m\u001b[1;33m.\u001b[0m\u001b[0munfreeze\u001b[0m\u001b[1;33m(\u001b[0m\u001b[1;33m)\u001b[0m\u001b[1;33m\u001b[0m\u001b[1;33m\u001b[0m\u001b[0m\n",
      "\u001b[1;32m~\\Programming\\Python\\Miniconda3\\envs\\ml-course\\lib\\site-packages\\fastcore\\logargs.py\u001b[0m in \u001b[0;36m_f\u001b[1;34m(*args, **kwargs)\u001b[0m\n\u001b[0;32m     54\u001b[0m         \u001b[0minit_args\u001b[0m\u001b[1;33m.\u001b[0m\u001b[0mupdate\u001b[0m\u001b[1;33m(\u001b[0m\u001b[0mlog\u001b[0m\u001b[1;33m)\u001b[0m\u001b[1;33m\u001b[0m\u001b[1;33m\u001b[0m\u001b[0m\n\u001b[0;32m     55\u001b[0m         \u001b[0msetattr\u001b[0m\u001b[1;33m(\u001b[0m\u001b[0minst\u001b[0m\u001b[1;33m,\u001b[0m \u001b[1;34m'init_args'\u001b[0m\u001b[1;33m,\u001b[0m \u001b[0minit_args\u001b[0m\u001b[1;33m)\u001b[0m\u001b[1;33m\u001b[0m\u001b[1;33m\u001b[0m\u001b[0m\n\u001b[1;32m---> 56\u001b[1;33m         \u001b[1;32mreturn\u001b[0m \u001b[0minst\u001b[0m \u001b[1;32mif\u001b[0m \u001b[0mto_return\u001b[0m \u001b[1;32melse\u001b[0m \u001b[0mf\u001b[0m\u001b[1;33m(\u001b[0m\u001b[1;33m*\u001b[0m\u001b[0margs\u001b[0m\u001b[1;33m,\u001b[0m \u001b[1;33m**\u001b[0m\u001b[0mkwargs\u001b[0m\u001b[1;33m)\u001b[0m\u001b[1;33m\u001b[0m\u001b[1;33m\u001b[0m\u001b[0m\n\u001b[0m\u001b[0;32m     57\u001b[0m     \u001b[1;32mreturn\u001b[0m \u001b[0m_f\u001b[0m\u001b[1;33m\u001b[0m\u001b[1;33m\u001b[0m\u001b[0m\n",
      "\u001b[1;32m~\\Programming\\Python\\Miniconda3\\envs\\ml-course\\lib\\site-packages\\fastai\\callback\\schedule.py\u001b[0m in \u001b[0;36mfit_one_cycle\u001b[1;34m(self, n_epoch, lr_max, div, div_final, pct_start, wd, moms, cbs, reset_opt)\u001b[0m\n\u001b[0;32m    111\u001b[0m     scheds = {'lr': combined_cos(pct_start, lr_max/div, lr_max, lr_max/div_final),\n\u001b[0;32m    112\u001b[0m               'mom': combined_cos(pct_start, *(self.moms if moms is None else moms))}\n\u001b[1;32m--> 113\u001b[1;33m     \u001b[0mself\u001b[0m\u001b[1;33m.\u001b[0m\u001b[0mfit\u001b[0m\u001b[1;33m(\u001b[0m\u001b[0mn_epoch\u001b[0m\u001b[1;33m,\u001b[0m \u001b[0mcbs\u001b[0m\u001b[1;33m=\u001b[0m\u001b[0mParamScheduler\u001b[0m\u001b[1;33m(\u001b[0m\u001b[0mscheds\u001b[0m\u001b[1;33m)\u001b[0m\u001b[1;33m+\u001b[0m\u001b[0mL\u001b[0m\u001b[1;33m(\u001b[0m\u001b[0mcbs\u001b[0m\u001b[1;33m)\u001b[0m\u001b[1;33m,\u001b[0m \u001b[0mreset_opt\u001b[0m\u001b[1;33m=\u001b[0m\u001b[0mreset_opt\u001b[0m\u001b[1;33m,\u001b[0m \u001b[0mwd\u001b[0m\u001b[1;33m=\u001b[0m\u001b[0mwd\u001b[0m\u001b[1;33m)\u001b[0m\u001b[1;33m\u001b[0m\u001b[1;33m\u001b[0m\u001b[0m\n\u001b[0m\u001b[0;32m    114\u001b[0m \u001b[1;33m\u001b[0m\u001b[0m\n\u001b[0;32m    115\u001b[0m \u001b[1;31m# Cell\u001b[0m\u001b[1;33m\u001b[0m\u001b[1;33m\u001b[0m\u001b[1;33m\u001b[0m\u001b[0m\n",
      "\u001b[1;32m~\\Programming\\Python\\Miniconda3\\envs\\ml-course\\lib\\site-packages\\fastcore\\logargs.py\u001b[0m in \u001b[0;36m_f\u001b[1;34m(*args, **kwargs)\u001b[0m\n\u001b[0;32m     54\u001b[0m         \u001b[0minit_args\u001b[0m\u001b[1;33m.\u001b[0m\u001b[0mupdate\u001b[0m\u001b[1;33m(\u001b[0m\u001b[0mlog\u001b[0m\u001b[1;33m)\u001b[0m\u001b[1;33m\u001b[0m\u001b[1;33m\u001b[0m\u001b[0m\n\u001b[0;32m     55\u001b[0m         \u001b[0msetattr\u001b[0m\u001b[1;33m(\u001b[0m\u001b[0minst\u001b[0m\u001b[1;33m,\u001b[0m \u001b[1;34m'init_args'\u001b[0m\u001b[1;33m,\u001b[0m \u001b[0minit_args\u001b[0m\u001b[1;33m)\u001b[0m\u001b[1;33m\u001b[0m\u001b[1;33m\u001b[0m\u001b[0m\n\u001b[1;32m---> 56\u001b[1;33m         \u001b[1;32mreturn\u001b[0m \u001b[0minst\u001b[0m \u001b[1;32mif\u001b[0m \u001b[0mto_return\u001b[0m \u001b[1;32melse\u001b[0m \u001b[0mf\u001b[0m\u001b[1;33m(\u001b[0m\u001b[1;33m*\u001b[0m\u001b[0margs\u001b[0m\u001b[1;33m,\u001b[0m \u001b[1;33m**\u001b[0m\u001b[0mkwargs\u001b[0m\u001b[1;33m)\u001b[0m\u001b[1;33m\u001b[0m\u001b[1;33m\u001b[0m\u001b[0m\n\u001b[0m\u001b[0;32m     57\u001b[0m     \u001b[1;32mreturn\u001b[0m \u001b[0m_f\u001b[0m\u001b[1;33m\u001b[0m\u001b[1;33m\u001b[0m\u001b[0m\n",
      "\u001b[1;32m~\\Programming\\Python\\Miniconda3\\envs\\ml-course\\lib\\site-packages\\fastai\\learner.py\u001b[0m in \u001b[0;36mfit\u001b[1;34m(self, n_epoch, lr, wd, cbs, reset_opt)\u001b[0m\n\u001b[0;32m    205\u001b[0m             \u001b[0mself\u001b[0m\u001b[1;33m.\u001b[0m\u001b[0mopt\u001b[0m\u001b[1;33m.\u001b[0m\u001b[0mset_hypers\u001b[0m\u001b[1;33m(\u001b[0m\u001b[0mlr\u001b[0m\u001b[1;33m=\u001b[0m\u001b[0mself\u001b[0m\u001b[1;33m.\u001b[0m\u001b[0mlr\u001b[0m \u001b[1;32mif\u001b[0m \u001b[0mlr\u001b[0m \u001b[1;32mis\u001b[0m \u001b[1;32mNone\u001b[0m \u001b[1;32melse\u001b[0m \u001b[0mlr\u001b[0m\u001b[1;33m)\u001b[0m\u001b[1;33m\u001b[0m\u001b[1;33m\u001b[0m\u001b[0m\n\u001b[0;32m    206\u001b[0m             \u001b[0mself\u001b[0m\u001b[1;33m.\u001b[0m\u001b[0mn_epoch\u001b[0m \u001b[1;33m=\u001b[0m \u001b[0mn_epoch\u001b[0m\u001b[1;33m\u001b[0m\u001b[1;33m\u001b[0m\u001b[0m\n\u001b[1;32m--> 207\u001b[1;33m             \u001b[0mself\u001b[0m\u001b[1;33m.\u001b[0m\u001b[0m_with_events\u001b[0m\u001b[1;33m(\u001b[0m\u001b[0mself\u001b[0m\u001b[1;33m.\u001b[0m\u001b[0m_do_fit\u001b[0m\u001b[1;33m,\u001b[0m \u001b[1;34m'fit'\u001b[0m\u001b[1;33m,\u001b[0m \u001b[0mCancelFitException\u001b[0m\u001b[1;33m,\u001b[0m \u001b[0mself\u001b[0m\u001b[1;33m.\u001b[0m\u001b[0m_end_cleanup\u001b[0m\u001b[1;33m)\u001b[0m\u001b[1;33m\u001b[0m\u001b[1;33m\u001b[0m\u001b[0m\n\u001b[0m\u001b[0;32m    208\u001b[0m \u001b[1;33m\u001b[0m\u001b[0m\n\u001b[0;32m    209\u001b[0m     \u001b[1;32mdef\u001b[0m \u001b[0m_end_cleanup\u001b[0m\u001b[1;33m(\u001b[0m\u001b[0mself\u001b[0m\u001b[1;33m)\u001b[0m\u001b[1;33m:\u001b[0m \u001b[0mself\u001b[0m\u001b[1;33m.\u001b[0m\u001b[0mdl\u001b[0m\u001b[1;33m,\u001b[0m\u001b[0mself\u001b[0m\u001b[1;33m.\u001b[0m\u001b[0mxb\u001b[0m\u001b[1;33m,\u001b[0m\u001b[0mself\u001b[0m\u001b[1;33m.\u001b[0m\u001b[0myb\u001b[0m\u001b[1;33m,\u001b[0m\u001b[0mself\u001b[0m\u001b[1;33m.\u001b[0m\u001b[0mpred\u001b[0m\u001b[1;33m,\u001b[0m\u001b[0mself\u001b[0m\u001b[1;33m.\u001b[0m\u001b[0mloss\u001b[0m \u001b[1;33m=\u001b[0m \u001b[1;32mNone\u001b[0m\u001b[1;33m,\u001b[0m\u001b[1;33m(\u001b[0m\u001b[1;32mNone\u001b[0m\u001b[1;33m,\u001b[0m\u001b[1;33m)\u001b[0m\u001b[1;33m,\u001b[0m\u001b[1;33m(\u001b[0m\u001b[1;32mNone\u001b[0m\u001b[1;33m,\u001b[0m\u001b[1;33m)\u001b[0m\u001b[1;33m,\u001b[0m\u001b[1;32mNone\u001b[0m\u001b[1;33m,\u001b[0m\u001b[1;32mNone\u001b[0m\u001b[1;33m\u001b[0m\u001b[1;33m\u001b[0m\u001b[0m\n",
      "\u001b[1;32m~\\Programming\\Python\\Miniconda3\\envs\\ml-course\\lib\\site-packages\\fastai\\learner.py\u001b[0m in \u001b[0;36m_with_events\u001b[1;34m(self, f, event_type, ex, final)\u001b[0m\n\u001b[0;32m    153\u001b[0m \u001b[1;33m\u001b[0m\u001b[0m\n\u001b[0;32m    154\u001b[0m     \u001b[1;32mdef\u001b[0m \u001b[0m_with_events\u001b[0m\u001b[1;33m(\u001b[0m\u001b[0mself\u001b[0m\u001b[1;33m,\u001b[0m \u001b[0mf\u001b[0m\u001b[1;33m,\u001b[0m \u001b[0mevent_type\u001b[0m\u001b[1;33m,\u001b[0m \u001b[0mex\u001b[0m\u001b[1;33m,\u001b[0m \u001b[0mfinal\u001b[0m\u001b[1;33m=\u001b[0m\u001b[0mnoop\u001b[0m\u001b[1;33m)\u001b[0m\u001b[1;33m:\u001b[0m\u001b[1;33m\u001b[0m\u001b[1;33m\u001b[0m\u001b[0m\n\u001b[1;32m--> 155\u001b[1;33m         \u001b[1;32mtry\u001b[0m\u001b[1;33m:\u001b[0m       \u001b[0mself\u001b[0m\u001b[1;33m(\u001b[0m\u001b[1;34mf'before_{event_type}'\u001b[0m\u001b[1;33m)\u001b[0m       \u001b[1;33m;\u001b[0m\u001b[0mf\u001b[0m\u001b[1;33m(\u001b[0m\u001b[1;33m)\u001b[0m\u001b[1;33m\u001b[0m\u001b[1;33m\u001b[0m\u001b[0m\n\u001b[0m\u001b[0;32m    156\u001b[0m         \u001b[1;32mexcept\u001b[0m \u001b[0mex\u001b[0m\u001b[1;33m:\u001b[0m \u001b[0mself\u001b[0m\u001b[1;33m(\u001b[0m\u001b[1;34mf'after_cancel_{event_type}'\u001b[0m\u001b[1;33m)\u001b[0m\u001b[1;33m\u001b[0m\u001b[1;33m\u001b[0m\u001b[0m\n\u001b[0;32m    157\u001b[0m         \u001b[1;32mfinally\u001b[0m\u001b[1;33m:\u001b[0m   \u001b[0mself\u001b[0m\u001b[1;33m(\u001b[0m\u001b[1;34mf'after_{event_type}'\u001b[0m\u001b[1;33m)\u001b[0m        \u001b[1;33m;\u001b[0m\u001b[0mfinal\u001b[0m\u001b[1;33m(\u001b[0m\u001b[1;33m)\u001b[0m\u001b[1;33m\u001b[0m\u001b[1;33m\u001b[0m\u001b[0m\n",
      "\u001b[1;32m~\\Programming\\Python\\Miniconda3\\envs\\ml-course\\lib\\site-packages\\fastai\\learner.py\u001b[0m in \u001b[0;36m_do_fit\u001b[1;34m(self)\u001b[0m\n\u001b[0;32m    195\u001b[0m         \u001b[1;32mfor\u001b[0m \u001b[0mepoch\u001b[0m \u001b[1;32min\u001b[0m \u001b[0mrange\u001b[0m\u001b[1;33m(\u001b[0m\u001b[0mself\u001b[0m\u001b[1;33m.\u001b[0m\u001b[0mn_epoch\u001b[0m\u001b[1;33m)\u001b[0m\u001b[1;33m:\u001b[0m\u001b[1;33m\u001b[0m\u001b[1;33m\u001b[0m\u001b[0m\n\u001b[0;32m    196\u001b[0m             \u001b[0mself\u001b[0m\u001b[1;33m.\u001b[0m\u001b[0mepoch\u001b[0m\u001b[1;33m=\u001b[0m\u001b[0mepoch\u001b[0m\u001b[1;33m\u001b[0m\u001b[1;33m\u001b[0m\u001b[0m\n\u001b[1;32m--> 197\u001b[1;33m             \u001b[0mself\u001b[0m\u001b[1;33m.\u001b[0m\u001b[0m_with_events\u001b[0m\u001b[1;33m(\u001b[0m\u001b[0mself\u001b[0m\u001b[1;33m.\u001b[0m\u001b[0m_do_epoch\u001b[0m\u001b[1;33m,\u001b[0m \u001b[1;34m'epoch'\u001b[0m\u001b[1;33m,\u001b[0m \u001b[0mCancelEpochException\u001b[0m\u001b[1;33m)\u001b[0m\u001b[1;33m\u001b[0m\u001b[1;33m\u001b[0m\u001b[0m\n\u001b[0m\u001b[0;32m    198\u001b[0m \u001b[1;33m\u001b[0m\u001b[0m\n\u001b[0;32m    199\u001b[0m     \u001b[1;33m@\u001b[0m\u001b[0mlog_args\u001b[0m\u001b[1;33m(\u001b[0m\u001b[0mbut\u001b[0m\u001b[1;33m=\u001b[0m\u001b[1;34m'cbs'\u001b[0m\u001b[1;33m)\u001b[0m\u001b[1;33m\u001b[0m\u001b[1;33m\u001b[0m\u001b[0m\n",
      "\u001b[1;32m~\\Programming\\Python\\Miniconda3\\envs\\ml-course\\lib\\site-packages\\fastai\\learner.py\u001b[0m in \u001b[0;36m_with_events\u001b[1;34m(self, f, event_type, ex, final)\u001b[0m\n\u001b[0;32m    153\u001b[0m \u001b[1;33m\u001b[0m\u001b[0m\n\u001b[0;32m    154\u001b[0m     \u001b[1;32mdef\u001b[0m \u001b[0m_with_events\u001b[0m\u001b[1;33m(\u001b[0m\u001b[0mself\u001b[0m\u001b[1;33m,\u001b[0m \u001b[0mf\u001b[0m\u001b[1;33m,\u001b[0m \u001b[0mevent_type\u001b[0m\u001b[1;33m,\u001b[0m \u001b[0mex\u001b[0m\u001b[1;33m,\u001b[0m \u001b[0mfinal\u001b[0m\u001b[1;33m=\u001b[0m\u001b[0mnoop\u001b[0m\u001b[1;33m)\u001b[0m\u001b[1;33m:\u001b[0m\u001b[1;33m\u001b[0m\u001b[1;33m\u001b[0m\u001b[0m\n\u001b[1;32m--> 155\u001b[1;33m         \u001b[1;32mtry\u001b[0m\u001b[1;33m:\u001b[0m       \u001b[0mself\u001b[0m\u001b[1;33m(\u001b[0m\u001b[1;34mf'before_{event_type}'\u001b[0m\u001b[1;33m)\u001b[0m       \u001b[1;33m;\u001b[0m\u001b[0mf\u001b[0m\u001b[1;33m(\u001b[0m\u001b[1;33m)\u001b[0m\u001b[1;33m\u001b[0m\u001b[1;33m\u001b[0m\u001b[0m\n\u001b[0m\u001b[0;32m    156\u001b[0m         \u001b[1;32mexcept\u001b[0m \u001b[0mex\u001b[0m\u001b[1;33m:\u001b[0m \u001b[0mself\u001b[0m\u001b[1;33m(\u001b[0m\u001b[1;34mf'after_cancel_{event_type}'\u001b[0m\u001b[1;33m)\u001b[0m\u001b[1;33m\u001b[0m\u001b[1;33m\u001b[0m\u001b[0m\n\u001b[0;32m    157\u001b[0m         \u001b[1;32mfinally\u001b[0m\u001b[1;33m:\u001b[0m   \u001b[0mself\u001b[0m\u001b[1;33m(\u001b[0m\u001b[1;34mf'after_{event_type}'\u001b[0m\u001b[1;33m)\u001b[0m        \u001b[1;33m;\u001b[0m\u001b[0mfinal\u001b[0m\u001b[1;33m(\u001b[0m\u001b[1;33m)\u001b[0m\u001b[1;33m\u001b[0m\u001b[1;33m\u001b[0m\u001b[0m\n",
      "\u001b[1;32m~\\Programming\\Python\\Miniconda3\\envs\\ml-course\\lib\\site-packages\\fastai\\learner.py\u001b[0m in \u001b[0;36m_do_epoch\u001b[1;34m(self)\u001b[0m\n\u001b[0;32m    189\u001b[0m \u001b[1;33m\u001b[0m\u001b[0m\n\u001b[0;32m    190\u001b[0m     \u001b[1;32mdef\u001b[0m \u001b[0m_do_epoch\u001b[0m\u001b[1;33m(\u001b[0m\u001b[0mself\u001b[0m\u001b[1;33m)\u001b[0m\u001b[1;33m:\u001b[0m\u001b[1;33m\u001b[0m\u001b[1;33m\u001b[0m\u001b[0m\n\u001b[1;32m--> 191\u001b[1;33m         \u001b[0mself\u001b[0m\u001b[1;33m.\u001b[0m\u001b[0m_do_epoch_train\u001b[0m\u001b[1;33m(\u001b[0m\u001b[1;33m)\u001b[0m\u001b[1;33m\u001b[0m\u001b[1;33m\u001b[0m\u001b[0m\n\u001b[0m\u001b[0;32m    192\u001b[0m         \u001b[0mself\u001b[0m\u001b[1;33m.\u001b[0m\u001b[0m_do_epoch_validate\u001b[0m\u001b[1;33m(\u001b[0m\u001b[1;33m)\u001b[0m\u001b[1;33m\u001b[0m\u001b[1;33m\u001b[0m\u001b[0m\n\u001b[0;32m    193\u001b[0m \u001b[1;33m\u001b[0m\u001b[0m\n",
      "\u001b[1;32m~\\Programming\\Python\\Miniconda3\\envs\\ml-course\\lib\\site-packages\\fastai\\learner.py\u001b[0m in \u001b[0;36m_do_epoch_train\u001b[1;34m(self)\u001b[0m\n\u001b[0;32m    181\u001b[0m     \u001b[1;32mdef\u001b[0m \u001b[0m_do_epoch_train\u001b[0m\u001b[1;33m(\u001b[0m\u001b[0mself\u001b[0m\u001b[1;33m)\u001b[0m\u001b[1;33m:\u001b[0m\u001b[1;33m\u001b[0m\u001b[1;33m\u001b[0m\u001b[0m\n\u001b[0;32m    182\u001b[0m         \u001b[0mself\u001b[0m\u001b[1;33m.\u001b[0m\u001b[0mdl\u001b[0m \u001b[1;33m=\u001b[0m \u001b[0mself\u001b[0m\u001b[1;33m.\u001b[0m\u001b[0mdls\u001b[0m\u001b[1;33m.\u001b[0m\u001b[0mtrain\u001b[0m\u001b[1;33m\u001b[0m\u001b[1;33m\u001b[0m\u001b[0m\n\u001b[1;32m--> 183\u001b[1;33m         \u001b[0mself\u001b[0m\u001b[1;33m.\u001b[0m\u001b[0m_with_events\u001b[0m\u001b[1;33m(\u001b[0m\u001b[0mself\u001b[0m\u001b[1;33m.\u001b[0m\u001b[0mall_batches\u001b[0m\u001b[1;33m,\u001b[0m \u001b[1;34m'train'\u001b[0m\u001b[1;33m,\u001b[0m \u001b[0mCancelTrainException\u001b[0m\u001b[1;33m)\u001b[0m\u001b[1;33m\u001b[0m\u001b[1;33m\u001b[0m\u001b[0m\n\u001b[0m\u001b[0;32m    184\u001b[0m \u001b[1;33m\u001b[0m\u001b[0m\n\u001b[0;32m    185\u001b[0m     \u001b[1;32mdef\u001b[0m \u001b[0m_do_epoch_validate\u001b[0m\u001b[1;33m(\u001b[0m\u001b[0mself\u001b[0m\u001b[1;33m,\u001b[0m \u001b[0mds_idx\u001b[0m\u001b[1;33m=\u001b[0m\u001b[1;36m1\u001b[0m\u001b[1;33m,\u001b[0m \u001b[0mdl\u001b[0m\u001b[1;33m=\u001b[0m\u001b[1;32mNone\u001b[0m\u001b[1;33m)\u001b[0m\u001b[1;33m:\u001b[0m\u001b[1;33m\u001b[0m\u001b[1;33m\u001b[0m\u001b[0m\n",
      "\u001b[1;32m~\\Programming\\Python\\Miniconda3\\envs\\ml-course\\lib\\site-packages\\fastai\\learner.py\u001b[0m in \u001b[0;36m_with_events\u001b[1;34m(self, f, event_type, ex, final)\u001b[0m\n\u001b[0;32m    153\u001b[0m \u001b[1;33m\u001b[0m\u001b[0m\n\u001b[0;32m    154\u001b[0m     \u001b[1;32mdef\u001b[0m \u001b[0m_with_events\u001b[0m\u001b[1;33m(\u001b[0m\u001b[0mself\u001b[0m\u001b[1;33m,\u001b[0m \u001b[0mf\u001b[0m\u001b[1;33m,\u001b[0m \u001b[0mevent_type\u001b[0m\u001b[1;33m,\u001b[0m \u001b[0mex\u001b[0m\u001b[1;33m,\u001b[0m \u001b[0mfinal\u001b[0m\u001b[1;33m=\u001b[0m\u001b[0mnoop\u001b[0m\u001b[1;33m)\u001b[0m\u001b[1;33m:\u001b[0m\u001b[1;33m\u001b[0m\u001b[1;33m\u001b[0m\u001b[0m\n\u001b[1;32m--> 155\u001b[1;33m         \u001b[1;32mtry\u001b[0m\u001b[1;33m:\u001b[0m       \u001b[0mself\u001b[0m\u001b[1;33m(\u001b[0m\u001b[1;34mf'before_{event_type}'\u001b[0m\u001b[1;33m)\u001b[0m       \u001b[1;33m;\u001b[0m\u001b[0mf\u001b[0m\u001b[1;33m(\u001b[0m\u001b[1;33m)\u001b[0m\u001b[1;33m\u001b[0m\u001b[1;33m\u001b[0m\u001b[0m\n\u001b[0m\u001b[0;32m    156\u001b[0m         \u001b[1;32mexcept\u001b[0m \u001b[0mex\u001b[0m\u001b[1;33m:\u001b[0m \u001b[0mself\u001b[0m\u001b[1;33m(\u001b[0m\u001b[1;34mf'after_cancel_{event_type}'\u001b[0m\u001b[1;33m)\u001b[0m\u001b[1;33m\u001b[0m\u001b[1;33m\u001b[0m\u001b[0m\n\u001b[0;32m    157\u001b[0m         \u001b[1;32mfinally\u001b[0m\u001b[1;33m:\u001b[0m   \u001b[0mself\u001b[0m\u001b[1;33m(\u001b[0m\u001b[1;34mf'after_{event_type}'\u001b[0m\u001b[1;33m)\u001b[0m        \u001b[1;33m;\u001b[0m\u001b[0mfinal\u001b[0m\u001b[1;33m(\u001b[0m\u001b[1;33m)\u001b[0m\u001b[1;33m\u001b[0m\u001b[1;33m\u001b[0m\u001b[0m\n",
      "\u001b[1;32m~\\Programming\\Python\\Miniconda3\\envs\\ml-course\\lib\\site-packages\\fastai\\learner.py\u001b[0m in \u001b[0;36mall_batches\u001b[1;34m(self)\u001b[0m\n\u001b[0;32m    159\u001b[0m     \u001b[1;32mdef\u001b[0m \u001b[0mall_batches\u001b[0m\u001b[1;33m(\u001b[0m\u001b[0mself\u001b[0m\u001b[1;33m)\u001b[0m\u001b[1;33m:\u001b[0m\u001b[1;33m\u001b[0m\u001b[1;33m\u001b[0m\u001b[0m\n\u001b[0;32m    160\u001b[0m         \u001b[0mself\u001b[0m\u001b[1;33m.\u001b[0m\u001b[0mn_iter\u001b[0m \u001b[1;33m=\u001b[0m \u001b[0mlen\u001b[0m\u001b[1;33m(\u001b[0m\u001b[0mself\u001b[0m\u001b[1;33m.\u001b[0m\u001b[0mdl\u001b[0m\u001b[1;33m)\u001b[0m\u001b[1;33m\u001b[0m\u001b[1;33m\u001b[0m\u001b[0m\n\u001b[1;32m--> 161\u001b[1;33m         \u001b[1;32mfor\u001b[0m \u001b[0mo\u001b[0m \u001b[1;32min\u001b[0m \u001b[0menumerate\u001b[0m\u001b[1;33m(\u001b[0m\u001b[0mself\u001b[0m\u001b[1;33m.\u001b[0m\u001b[0mdl\u001b[0m\u001b[1;33m)\u001b[0m\u001b[1;33m:\u001b[0m \u001b[0mself\u001b[0m\u001b[1;33m.\u001b[0m\u001b[0mone_batch\u001b[0m\u001b[1;33m(\u001b[0m\u001b[1;33m*\u001b[0m\u001b[0mo\u001b[0m\u001b[1;33m)\u001b[0m\u001b[1;33m\u001b[0m\u001b[1;33m\u001b[0m\u001b[0m\n\u001b[0m\u001b[0;32m    162\u001b[0m \u001b[1;33m\u001b[0m\u001b[0m\n\u001b[0;32m    163\u001b[0m     \u001b[1;32mdef\u001b[0m \u001b[0m_do_one_batch\u001b[0m\u001b[1;33m(\u001b[0m\u001b[0mself\u001b[0m\u001b[1;33m)\u001b[0m\u001b[1;33m:\u001b[0m\u001b[1;33m\u001b[0m\u001b[1;33m\u001b[0m\u001b[0m\n",
      "\u001b[1;32m~\\Programming\\Python\\Miniconda3\\envs\\ml-course\\lib\\site-packages\\fastai\\data\\load.py\u001b[0m in \u001b[0;36m__iter__\u001b[1;34m(self)\u001b[0m\n\u001b[0;32m    100\u001b[0m         \u001b[0mself\u001b[0m\u001b[1;33m.\u001b[0m\u001b[0mbefore_iter\u001b[0m\u001b[1;33m(\u001b[0m\u001b[1;33m)\u001b[0m\u001b[1;33m\u001b[0m\u001b[1;33m\u001b[0m\u001b[0m\n\u001b[0;32m    101\u001b[0m         \u001b[0mself\u001b[0m\u001b[1;33m.\u001b[0m\u001b[0m__idxs\u001b[0m\u001b[1;33m=\u001b[0m\u001b[0mself\u001b[0m\u001b[1;33m.\u001b[0m\u001b[0mget_idxs\u001b[0m\u001b[1;33m(\u001b[0m\u001b[1;33m)\u001b[0m \u001b[1;31m# called in context of main process (not workers/subprocesses)\u001b[0m\u001b[1;33m\u001b[0m\u001b[1;33m\u001b[0m\u001b[0m\n\u001b[1;32m--> 102\u001b[1;33m         \u001b[1;32mfor\u001b[0m \u001b[0mb\u001b[0m \u001b[1;32min\u001b[0m \u001b[0m_loaders\u001b[0m\u001b[1;33m[\u001b[0m\u001b[0mself\u001b[0m\u001b[1;33m.\u001b[0m\u001b[0mfake_l\u001b[0m\u001b[1;33m.\u001b[0m\u001b[0mnum_workers\u001b[0m\u001b[1;33m==\u001b[0m\u001b[1;36m0\u001b[0m\u001b[1;33m]\u001b[0m\u001b[1;33m(\u001b[0m\u001b[0mself\u001b[0m\u001b[1;33m.\u001b[0m\u001b[0mfake_l\u001b[0m\u001b[1;33m)\u001b[0m\u001b[1;33m:\u001b[0m\u001b[1;33m\u001b[0m\u001b[1;33m\u001b[0m\u001b[0m\n\u001b[0m\u001b[0;32m    103\u001b[0m             \u001b[1;32mif\u001b[0m \u001b[0mself\u001b[0m\u001b[1;33m.\u001b[0m\u001b[0mdevice\u001b[0m \u001b[1;32mis\u001b[0m \u001b[1;32mnot\u001b[0m \u001b[1;32mNone\u001b[0m\u001b[1;33m:\u001b[0m \u001b[0mb\u001b[0m \u001b[1;33m=\u001b[0m \u001b[0mto_device\u001b[0m\u001b[1;33m(\u001b[0m\u001b[0mb\u001b[0m\u001b[1;33m,\u001b[0m \u001b[0mself\u001b[0m\u001b[1;33m.\u001b[0m\u001b[0mdevice\u001b[0m\u001b[1;33m)\u001b[0m\u001b[1;33m\u001b[0m\u001b[1;33m\u001b[0m\u001b[0m\n\u001b[0;32m    104\u001b[0m             \u001b[1;32myield\u001b[0m \u001b[0mself\u001b[0m\u001b[1;33m.\u001b[0m\u001b[0mafter_batch\u001b[0m\u001b[1;33m(\u001b[0m\u001b[0mb\u001b[0m\u001b[1;33m)\u001b[0m\u001b[1;33m\u001b[0m\u001b[1;33m\u001b[0m\u001b[0m\n",
      "\u001b[1;32m~\\Programming\\Python\\Miniconda3\\envs\\ml-course\\lib\\site-packages\\torch\\utils\\data\\dataloader.py\u001b[0m in \u001b[0;36m__init__\u001b[1;34m(self, loader)\u001b[0m\n\u001b[0;32m    735\u001b[0m             \u001b[1;31m#     before it starts, and __del__ tries to join but will get:\u001b[0m\u001b[1;33m\u001b[0m\u001b[1;33m\u001b[0m\u001b[1;33m\u001b[0m\u001b[0m\n\u001b[0;32m    736\u001b[0m             \u001b[1;31m#     AssertionError: can only join a started process.\u001b[0m\u001b[1;33m\u001b[0m\u001b[1;33m\u001b[0m\u001b[1;33m\u001b[0m\u001b[0m\n\u001b[1;32m--> 737\u001b[1;33m             \u001b[0mw\u001b[0m\u001b[1;33m.\u001b[0m\u001b[0mstart\u001b[0m\u001b[1;33m(\u001b[0m\u001b[1;33m)\u001b[0m\u001b[1;33m\u001b[0m\u001b[1;33m\u001b[0m\u001b[0m\n\u001b[0m\u001b[0;32m    738\u001b[0m             \u001b[0mself\u001b[0m\u001b[1;33m.\u001b[0m\u001b[0m_index_queues\u001b[0m\u001b[1;33m.\u001b[0m\u001b[0mappend\u001b[0m\u001b[1;33m(\u001b[0m\u001b[0mindex_queue\u001b[0m\u001b[1;33m)\u001b[0m\u001b[1;33m\u001b[0m\u001b[1;33m\u001b[0m\u001b[0m\n\u001b[0;32m    739\u001b[0m             \u001b[0mself\u001b[0m\u001b[1;33m.\u001b[0m\u001b[0m_workers\u001b[0m\u001b[1;33m.\u001b[0m\u001b[0mappend\u001b[0m\u001b[1;33m(\u001b[0m\u001b[0mw\u001b[0m\u001b[1;33m)\u001b[0m\u001b[1;33m\u001b[0m\u001b[1;33m\u001b[0m\u001b[0m\n",
      "\u001b[1;32m~\\Programming\\Python\\Miniconda3\\envs\\ml-course\\lib\\multiprocessing\\process.py\u001b[0m in \u001b[0;36mstart\u001b[1;34m(self)\u001b[0m\n\u001b[0;32m    119\u001b[0m                \u001b[1;34m'daemonic processes are not allowed to have children'\u001b[0m\u001b[1;33m\u001b[0m\u001b[1;33m\u001b[0m\u001b[0m\n\u001b[0;32m    120\u001b[0m         \u001b[0m_cleanup\u001b[0m\u001b[1;33m(\u001b[0m\u001b[1;33m)\u001b[0m\u001b[1;33m\u001b[0m\u001b[1;33m\u001b[0m\u001b[0m\n\u001b[1;32m--> 121\u001b[1;33m         \u001b[0mself\u001b[0m\u001b[1;33m.\u001b[0m\u001b[0m_popen\u001b[0m \u001b[1;33m=\u001b[0m \u001b[0mself\u001b[0m\u001b[1;33m.\u001b[0m\u001b[0m_Popen\u001b[0m\u001b[1;33m(\u001b[0m\u001b[0mself\u001b[0m\u001b[1;33m)\u001b[0m\u001b[1;33m\u001b[0m\u001b[1;33m\u001b[0m\u001b[0m\n\u001b[0m\u001b[0;32m    122\u001b[0m         \u001b[0mself\u001b[0m\u001b[1;33m.\u001b[0m\u001b[0m_sentinel\u001b[0m \u001b[1;33m=\u001b[0m \u001b[0mself\u001b[0m\u001b[1;33m.\u001b[0m\u001b[0m_popen\u001b[0m\u001b[1;33m.\u001b[0m\u001b[0msentinel\u001b[0m\u001b[1;33m\u001b[0m\u001b[1;33m\u001b[0m\u001b[0m\n\u001b[0;32m    123\u001b[0m         \u001b[1;31m# Avoid a refcycle if the target function holds an indirect\u001b[0m\u001b[1;33m\u001b[0m\u001b[1;33m\u001b[0m\u001b[1;33m\u001b[0m\u001b[0m\n",
      "\u001b[1;32m~\\Programming\\Python\\Miniconda3\\envs\\ml-course\\lib\\multiprocessing\\context.py\u001b[0m in \u001b[0;36m_Popen\u001b[1;34m(process_obj)\u001b[0m\n\u001b[0;32m    222\u001b[0m     \u001b[1;33m@\u001b[0m\u001b[0mstaticmethod\u001b[0m\u001b[1;33m\u001b[0m\u001b[1;33m\u001b[0m\u001b[0m\n\u001b[0;32m    223\u001b[0m     \u001b[1;32mdef\u001b[0m \u001b[0m_Popen\u001b[0m\u001b[1;33m(\u001b[0m\u001b[0mprocess_obj\u001b[0m\u001b[1;33m)\u001b[0m\u001b[1;33m:\u001b[0m\u001b[1;33m\u001b[0m\u001b[1;33m\u001b[0m\u001b[0m\n\u001b[1;32m--> 224\u001b[1;33m         \u001b[1;32mreturn\u001b[0m \u001b[0m_default_context\u001b[0m\u001b[1;33m.\u001b[0m\u001b[0mget_context\u001b[0m\u001b[1;33m(\u001b[0m\u001b[1;33m)\u001b[0m\u001b[1;33m.\u001b[0m\u001b[0mProcess\u001b[0m\u001b[1;33m.\u001b[0m\u001b[0m_Popen\u001b[0m\u001b[1;33m(\u001b[0m\u001b[0mprocess_obj\u001b[0m\u001b[1;33m)\u001b[0m\u001b[1;33m\u001b[0m\u001b[1;33m\u001b[0m\u001b[0m\n\u001b[0m\u001b[0;32m    225\u001b[0m \u001b[1;33m\u001b[0m\u001b[0m\n\u001b[0;32m    226\u001b[0m \u001b[1;32mclass\u001b[0m \u001b[0mDefaultContext\u001b[0m\u001b[1;33m(\u001b[0m\u001b[0mBaseContext\u001b[0m\u001b[1;33m)\u001b[0m\u001b[1;33m:\u001b[0m\u001b[1;33m\u001b[0m\u001b[1;33m\u001b[0m\u001b[0m\n",
      "\u001b[1;32m~\\Programming\\Python\\Miniconda3\\envs\\ml-course\\lib\\multiprocessing\\context.py\u001b[0m in \u001b[0;36m_Popen\u001b[1;34m(process_obj)\u001b[0m\n\u001b[0;32m    325\u001b[0m         \u001b[1;32mdef\u001b[0m \u001b[0m_Popen\u001b[0m\u001b[1;33m(\u001b[0m\u001b[0mprocess_obj\u001b[0m\u001b[1;33m)\u001b[0m\u001b[1;33m:\u001b[0m\u001b[1;33m\u001b[0m\u001b[1;33m\u001b[0m\u001b[0m\n\u001b[0;32m    326\u001b[0m             \u001b[1;32mfrom\u001b[0m \u001b[1;33m.\u001b[0m\u001b[0mpopen_spawn_win32\u001b[0m \u001b[1;32mimport\u001b[0m \u001b[0mPopen\u001b[0m\u001b[1;33m\u001b[0m\u001b[1;33m\u001b[0m\u001b[0m\n\u001b[1;32m--> 327\u001b[1;33m             \u001b[1;32mreturn\u001b[0m \u001b[0mPopen\u001b[0m\u001b[1;33m(\u001b[0m\u001b[0mprocess_obj\u001b[0m\u001b[1;33m)\u001b[0m\u001b[1;33m\u001b[0m\u001b[1;33m\u001b[0m\u001b[0m\n\u001b[0m\u001b[0;32m    328\u001b[0m \u001b[1;33m\u001b[0m\u001b[0m\n\u001b[0;32m    329\u001b[0m     \u001b[1;32mclass\u001b[0m \u001b[0mSpawnContext\u001b[0m\u001b[1;33m(\u001b[0m\u001b[0mBaseContext\u001b[0m\u001b[1;33m)\u001b[0m\u001b[1;33m:\u001b[0m\u001b[1;33m\u001b[0m\u001b[1;33m\u001b[0m\u001b[0m\n",
      "\u001b[1;32m~\\Programming\\Python\\Miniconda3\\envs\\ml-course\\lib\\multiprocessing\\popen_spawn_win32.py\u001b[0m in \u001b[0;36m__init__\u001b[1;34m(self, process_obj)\u001b[0m\n\u001b[0;32m     91\u001b[0m             \u001b[1;32mtry\u001b[0m\u001b[1;33m:\u001b[0m\u001b[1;33m\u001b[0m\u001b[1;33m\u001b[0m\u001b[0m\n\u001b[0;32m     92\u001b[0m                 \u001b[0mreduction\u001b[0m\u001b[1;33m.\u001b[0m\u001b[0mdump\u001b[0m\u001b[1;33m(\u001b[0m\u001b[0mprep_data\u001b[0m\u001b[1;33m,\u001b[0m \u001b[0mto_child\u001b[0m\u001b[1;33m)\u001b[0m\u001b[1;33m\u001b[0m\u001b[1;33m\u001b[0m\u001b[0m\n\u001b[1;32m---> 93\u001b[1;33m                 \u001b[0mreduction\u001b[0m\u001b[1;33m.\u001b[0m\u001b[0mdump\u001b[0m\u001b[1;33m(\u001b[0m\u001b[0mprocess_obj\u001b[0m\u001b[1;33m,\u001b[0m \u001b[0mto_child\u001b[0m\u001b[1;33m)\u001b[0m\u001b[1;33m\u001b[0m\u001b[1;33m\u001b[0m\u001b[0m\n\u001b[0m\u001b[0;32m     94\u001b[0m             \u001b[1;32mfinally\u001b[0m\u001b[1;33m:\u001b[0m\u001b[1;33m\u001b[0m\u001b[1;33m\u001b[0m\u001b[0m\n\u001b[0;32m     95\u001b[0m                 \u001b[0mset_spawning_popen\u001b[0m\u001b[1;33m(\u001b[0m\u001b[1;32mNone\u001b[0m\u001b[1;33m)\u001b[0m\u001b[1;33m\u001b[0m\u001b[1;33m\u001b[0m\u001b[0m\n",
      "\u001b[1;32m~\\Programming\\Python\\Miniconda3\\envs\\ml-course\\lib\\multiprocessing\\reduction.py\u001b[0m in \u001b[0;36mdump\u001b[1;34m(obj, file, protocol)\u001b[0m\n\u001b[0;32m     58\u001b[0m \u001b[1;32mdef\u001b[0m \u001b[0mdump\u001b[0m\u001b[1;33m(\u001b[0m\u001b[0mobj\u001b[0m\u001b[1;33m,\u001b[0m \u001b[0mfile\u001b[0m\u001b[1;33m,\u001b[0m \u001b[0mprotocol\u001b[0m\u001b[1;33m=\u001b[0m\u001b[1;32mNone\u001b[0m\u001b[1;33m)\u001b[0m\u001b[1;33m:\u001b[0m\u001b[1;33m\u001b[0m\u001b[1;33m\u001b[0m\u001b[0m\n\u001b[0;32m     59\u001b[0m     \u001b[1;34m'''Replacement for pickle.dump() using ForkingPickler.'''\u001b[0m\u001b[1;33m\u001b[0m\u001b[1;33m\u001b[0m\u001b[0m\n\u001b[1;32m---> 60\u001b[1;33m     \u001b[0mForkingPickler\u001b[0m\u001b[1;33m(\u001b[0m\u001b[0mfile\u001b[0m\u001b[1;33m,\u001b[0m \u001b[0mprotocol\u001b[0m\u001b[1;33m)\u001b[0m\u001b[1;33m.\u001b[0m\u001b[0mdump\u001b[0m\u001b[1;33m(\u001b[0m\u001b[0mobj\u001b[0m\u001b[1;33m)\u001b[0m\u001b[1;33m\u001b[0m\u001b[1;33m\u001b[0m\u001b[0m\n\u001b[0m\u001b[0;32m     61\u001b[0m \u001b[1;33m\u001b[0m\u001b[0m\n\u001b[0;32m     62\u001b[0m \u001b[1;31m#\u001b[0m\u001b[1;33m\u001b[0m\u001b[1;33m\u001b[0m\u001b[1;33m\u001b[0m\u001b[0m\n",
      "\u001b[1;32m~\\Programming\\Python\\Miniconda3\\envs\\ml-course\\lib\\site-packages\\torch\\multiprocessing\\reductions.py\u001b[0m in \u001b[0;36mreduce_tensor\u001b[1;34m(tensor)\u001b[0m\n\u001b[0;32m    238\u001b[0m          \u001b[0mref_counter_offset\u001b[0m\u001b[1;33m,\u001b[0m\u001b[1;33m\u001b[0m\u001b[1;33m\u001b[0m\u001b[0m\n\u001b[0;32m    239\u001b[0m          \u001b[0mevent_handle\u001b[0m\u001b[1;33m,\u001b[0m\u001b[1;33m\u001b[0m\u001b[1;33m\u001b[0m\u001b[0m\n\u001b[1;32m--> 240\u001b[1;33m          event_sync_required) = storage._share_cuda_()\n\u001b[0m\u001b[0;32m    241\u001b[0m         \u001b[0mtensor_offset\u001b[0m \u001b[1;33m=\u001b[0m \u001b[0mtensor\u001b[0m\u001b[1;33m.\u001b[0m\u001b[0mstorage_offset\u001b[0m\u001b[1;33m(\u001b[0m\u001b[1;33m)\u001b[0m\u001b[1;33m\u001b[0m\u001b[1;33m\u001b[0m\u001b[0m\n\u001b[0;32m    242\u001b[0m         \u001b[0mshared_cache\u001b[0m\u001b[1;33m[\u001b[0m\u001b[0mhandle\u001b[0m\u001b[1;33m]\u001b[0m \u001b[1;33m=\u001b[0m \u001b[0mStorageWeakRef\u001b[0m\u001b[1;33m(\u001b[0m\u001b[0mstorage\u001b[0m\u001b[1;33m)\u001b[0m\u001b[1;33m\u001b[0m\u001b[1;33m\u001b[0m\u001b[0m\n",
      "\u001b[1;31mRuntimeError\u001b[0m: cuda runtime error (801) : operation not supported at ..\\torch/csrc/generic/StorageSharing.cpp:247"
     ]
    }
   ],
   "source": [
    "from fastai.vision.all import *\n",
    "path = untar_data(URLs.PETS)/'images'\n",
    "\n",
    "def is_cat(x): return x[0].isupper()\n",
    "dls = ImageDataLoaders.from_name_func(\n",
    "    path, get_image_files(path), valid_pct=0.2, seed=42,\n",
    "    label_func=is_cat, item_tfms=Resize(224))\n",
    "\n",
    "learn = cnn_learner(dls, resnet34, metrics=error_rate)\n",
    "learn.fine_tune(1)"
   ]
  },
  {
   "cell_type": "markdown",
   "metadata": {
    "slideshow": {
     "slide_type": "subslide"
    }
   },
   "source": [
    "## Clustering\n",
    "\n",
    "<img src=\"img/ag/Figure-01-013.jpg\" style=\"float: right;width: 40%;\"/>\n",
    "\n",
    "- Viele Datenpunkte\n",
    "- Finde heraus, welche \"ähnlich\" sind\n",
    "\n",
    "Often mit \"unsupervised\" Learning\n"
   ]
  },
  {
   "cell_type": "code",
   "execution_count": null,
   "metadata": {},
   "outputs": [],
   "source": []
  },
  {
   "cell_type": "markdown",
   "metadata": {
    "slideshow": {
     "slide_type": "subslide"
    }
   },
   "source": [
    "## Regression\n",
    "\n",
    "<img src=\"img/ag/Figure-01-011.png\" style=\"float: right;width: 40%;\"/>\n",
    "\n",
    "- Lerne numerische Beziehungen\n",
    "- Wie hängt das Gehalt von Jahren Berufserfahrung ab?"
   ]
  },
  {
   "cell_type": "markdown",
   "metadata": {
    "slideshow": {
     "slide_type": "subslide"
    }
   },
   "source": [
    "## Geocoding / Toponym-Auflösung\n",
    "\n",
    "<img src=\"img/france.jpg\" style=\"float: right;width: 40%;\"/>\n",
    "\n",
    "<div style=\"float: left; width: 60%;\">\n",
    "\n",
    "<br/>\n",
    "\n",
    "- Finde Koordinaten, die zum Vorkommen von Namen in Text gehören\n",
    "- Inverses Geocoding: Welcher Ortsname gehört zu Koordinaten\n",
    "\n",
    "</div>"
   ]
  },
  {
   "cell_type": "markdown",
   "metadata": {
    "slideshow": {
     "slide_type": "subslide"
    }
   },
   "source": [
    "## (Extractive) Question Answering\n",
    "\n",
    "<img src=\"img/question-mark.jpg\" style=\"float: right;width: 30%;\"/>\n",
    "\n",
    "\n",
    "- Textdokument, Frage basierend auf dem Dokument\n",
    "- Extrahiere die Antwort aus dem Dokument"
   ]
  },
  {
   "cell_type": "markdown",
   "metadata": {
    "slideshow": {
     "slide_type": "slide"
    }
   },
   "source": [
    "# Vorgehensweise bei der Klassifikation\n",
    "\n",
    "<img src=\"img/ag/Figure-01-007.png\" style=\"float: right;width: 40%; padding: 20pt;\"/>\n",
    "\n",
    "- Modell: Algorithmus mitveränderbaren<br/>\n",
    "  Parametern\n",
    "- Datenpunkte mit Labels\n",
    "- Generalisiere die Information<br/>\n",
    "  in den gelabelten Daten\n",
    "- Verbessere die Performance des<br/>\n",
    "  Systems durch \"Tunen\" der Parameter"
   ]
  },
  {
   "cell_type": "markdown",
   "metadata": {
    "slideshow": {
     "slide_type": "subslide"
    }
   },
   "source": [
    "<img src=\"img/ag/Figure-01-007.png\" style=\"width: 70%; margin-left: auto; margin-right: auto;\"/>"
   ]
  },
  {
   "cell_type": "markdown",
   "metadata": {
    "slideshow": {
     "slide_type": "subslide"
    }
   },
   "source": [
    "## Training\n",
    "\n",
    "<br/>\n",
    "<img src=\"img/ag/Figure-01-008.png\" style=\"width: 100%;\"/>"
   ]
  },
  {
   "cell_type": "markdown",
   "metadata": {
    "slideshow": {
     "slide_type": "subslide"
    }
   },
   "source": [
    "## Evaluierung/Test\n",
    "\n",
    "<img src=\"img/ag/Figure-01-009.png\" style=\"width: 70%; margin-left: auto; margin-right: auto;\"/>"
   ]
  },
  {
   "cell_type": "markdown",
   "metadata": {
    "slideshow": {
     "slide_type": "subslide"
    }
   },
   "source": [
    "# Algorithmus?\n",
    "\n",
    "<img src=\"img/ag/Figure-01-021.png\" style=\"float: right; width: 30%; margin-left: auto; margin-right: auto;\"/>\n",
    "\n",
    "- Neurale Netze"
   ]
  },
  {
   "cell_type": "markdown",
   "metadata": {
    "slideshow": {
     "slide_type": "subslide"
    }
   },
   "source": [
    "## Neuronen\n",
    "\n",
    "<img src=\"img/ag/Figure-10-001.png\" style=\"width: 80%; margin-left: auto; margin-right: auto;\"/>"
   ]
  },
  {
   "cell_type": "markdown",
   "metadata": {
    "slideshow": {
     "slide_type": "subslide"
    }
   },
   "source": [
    "## Künstliche Neuronen\n",
    "\n",
    "<img src=\"img/ag/Figure-10-006.png\" style=\"width: 60%; margin-left: auto; margin-right: auto;\"/>"
   ]
  },
  {
   "cell_type": "markdown",
   "metadata": {
    "slideshow": {
     "slide_type": "subslide"
    }
   },
   "source": [
    "## Künstliche Neuronen\n",
    "\n",
    "<img src=\"img/ag/Figure-10-004.png\" style=\"width: 30%; margin-left: auto; margin-right: auto;\"/>"
   ]
  },
  {
   "cell_type": "markdown",
   "metadata": {
    "slideshow": {
     "slide_type": "subslide"
    }
   },
   "source": [
    "## Neuronale Netze\n",
    "\n",
    "<img src=\"img/ag/Figure-18-032.png\" style=\"width: 70%; margin-left: auto; margin-right: auto;\"/>"
   ]
  },
  {
   "cell_type": "markdown",
   "metadata": {
    "slideshow": {
     "slide_type": "subslide"
    }
   },
   "source": [
    "## Erinnerung: Training\n",
    "\n",
    "<br/>\n",
    "<img src=\"img/ag/Figure-01-008.png\" style=\"width: 100%;\"/>"
   ]
  },
  {
   "cell_type": "markdown",
   "metadata": {
    "slideshow": {
     "slide_type": "slide"
    }
   },
   "source": [
    "## Training Neuraler Netze\n",
    "\n",
    "<img src=\"img/ag/Figure-18-033.png\" style=\"width: 100%; margin-left: auto; margin-right: auto;\"/>"
   ]
  },
  {
   "cell_type": "markdown",
   "metadata": {
    "slideshow": {
     "slide_type": "subslide"
    }
   },
   "source": [
    "\n",
    "## Training Neuraler Netze\n",
    "\n",
    "<img src=\"img/ag/Figure-18-034.png\" style=\"width: 40%; margin-left: auto; margin-right: auto;\"/>"
   ]
  },
  {
   "cell_type": "markdown",
   "metadata": {
    "slideshow": {
     "slide_type": "subslide"
    }
   },
   "source": [
    "## Training Neuraler Netze\n",
    "\n",
    "<img src=\"img/ag/Figure-18-035.png\" style=\"width: 100%; margin-left: auto; margin-right: auto; 0\"/>"
   ]
  },
  {
   "cell_type": "markdown",
   "metadata": {
    "slideshow": {
     "slide_type": "subslide"
    }
   },
   "source": [
    "## Training Neuraler Netze\n",
    "\n",
    "<img src=\"img/ag/Figure-18-036.png\" style=\"width: 50%; margin-left: auto; margin-right: auto;\"/>"
   ]
  },
  {
   "cell_type": "markdown",
   "metadata": {
    "slideshow": {
     "slide_type": "subslide"
    }
   },
   "source": [
    "## Training Neuraler Netze\n",
    "\n",
    "<img src=\"img/ag/Figure-18-037.png\" style=\"width: 100%; margin-left: auto; margin-right: auto; 0\"/>"
   ]
  },
  {
   "cell_type": "markdown",
   "metadata": {
    "slideshow": {
     "slide_type": "slide"
    }
   },
   "source": [
    "## Wie updaten wir die Parameter?\n",
    "\n",
    "<img src=\"img/ag/Figure-05-001.png\" style=\"float: left; width: 45%; margin-left: auto; margin-right: auto; 0\"/>\n",
    "<img src=\"img/ag/Figure-05-005.png\" style=\"float: right; width: 45%; margin-left: auto; margin-right: auto; 0\"/>"
   ]
  },
  {
   "cell_type": "markdown",
   "metadata": {
    "slideshow": {
     "slide_type": "subslide"
    }
   },
   "source": [
    "## Wie updaten wir die Parameter?\n",
    "\n",
    "<img src=\"img/ag/Figure-05-006.png\" style=\"width: 50%; margin-left: auto; margin-right: auto; 0\"/>"
   ]
  },
  {
   "cell_type": "markdown",
   "metadata": {
    "slideshow": {
     "slide_type": "subslide"
    }
   },
   "source": [
    "## Wie updaten wir die Parameter?\n",
    "\n",
    "<img src=\"img/ag/Figure-05-007.png\" style=\"width: 50%; margin-left: auto; margin-right: auto; 0\"/>"
   ]
  },
  {
   "cell_type": "markdown",
   "metadata": {
    "slideshow": {
     "slide_type": "subslide"
    }
   },
   "source": [
    "## Wie updaten wir die Parameter?\n",
    "\n",
    "<img src=\"img/ag/Figure-05-012.png\" style=\"width: 35%; margin-left: auto; margin-right: auto; 0\"/>"
   ]
  },
  {
   "cell_type": "markdown",
   "metadata": {
    "slideshow": {
     "slide_type": "subslide"
    }
   },
   "source": [
    "## Wie updaten wir die Parameter?\n",
    "\n",
    "<img src=\"img/ag/Figure-05-013.png\" style=\"width: 60%; margin-left: auto; margin-right: auto; 0\"/>"
   ]
  },
  {
   "cell_type": "markdown",
   "metadata": {
    "slideshow": {
     "slide_type": "subslide"
    }
   },
   "source": [
    "## Wie viel updaten wir die Parameter?\n",
    "\n",
    "<img src=\"img/ag/Figure-19-013.png\" style=\"width: 80%; margin-left: auto; margin-right: auto; 0\"/>"
   ]
  },
  {
   "cell_type": "markdown",
   "metadata": {
    "slideshow": {
     "slide_type": "subslide"
    }
   },
   "source": [
    "## Wie viel updaten wir die Parameter?\n",
    "\n",
    "<img src=\"img/ag/Figure-19-014.png\" style=\"width: 80%; margin-left: auto; margin-right: auto; 0\"/>"
   ]
  },
  {
   "cell_type": "markdown",
   "metadata": {
    "slideshow": {
     "slide_type": "subslide"
    }
   },
   "source": [
    "\n",
    "## Wie viel updaten wir die Parameter?\n",
    "\n",
    "<img src=\"img/ag/Figure-19-015.png\" style=\"width: 80%; margin-left: auto; margin-right: auto; 0\"/>"
   ]
  },
  {
   "cell_type": "markdown",
   "metadata": {
    "slideshow": {
     "slide_type": "subslide"
    }
   },
   "source": [
    "\n",
    "## Wie viel updaten wir die Parameter?\n",
    "\n",
    "<img src=\"img/ag/Figure-19-016.png\" style=\"width: 80%; margin-left: auto; margin-right: auto; 0\"/>"
   ]
  },
  {
   "cell_type": "markdown",
   "metadata": {
    "slideshow": {
     "slide_type": "slide"
    }
   },
   "source": [
    "## Modelle\n",
    "\n",
    "<img src=\"img/ag/Figure-11-001.png\" style=\"width: 100%;\"/>"
   ]
  },
  {
   "cell_type": "markdown",
   "metadata": {
    "slideshow": {
     "slide_type": "subslide"
    }
   },
   "source": [
    "## Für Neuronale Netze:\n",
    "\n",
    "Was repräsentiert werden kann hängt ab von\n",
    "\n",
    "- Anzahl der Layers\n",
    "- Anzahl der Neutronen per Layer\n",
    "- Komplexität der Verbindungen zwischen Neutronen"
   ]
  },
  {
   "cell_type": "markdown",
   "metadata": {
    "slideshow": {
     "slide_type": "subslide"
    }
   },
   "source": [
    "### Was kann man (theoretisch) lernen?\n",
    "\n",
    "Schwierig aber irrelevant"
   ]
  },
  {
   "cell_type": "markdown",
   "metadata": {
    "slideshow": {
     "slide_type": "subslide"
    }
   },
   "source": [
    "### Was kann man praktisch lernen?\n",
    "\n",
    "Sehr viel, wenn man genug Zeit und Daten hat"
   ]
  },
  {
   "cell_type": "markdown",
   "metadata": {
    "slideshow": {
     "slide_type": "subslide"
    }
   },
   "source": [
    "### Was kann man effizient lernen?\n",
    "\n",
    "Sehr viel, wenn man sich geschickt anstellt\n",
    "(und ein Problem hat, an dem viele andere Leute arbeiten)"
   ]
  },
  {
   "cell_type": "markdown",
   "metadata": {
    "slideshow": {
     "slide_type": "slide"
    }
   },
   "source": [
    "# Bias/Variance Tradeoff\n",
    "\n",
    "- Modelle mit geringer Expressivität (representational power)\n",
    "  - Können schnell trainiert werden\n",
    "  - Arbeiten mit wenig Trainingsdaten\n",
    "  - Sind robust gegenüber Fehlern in den Trainingsdaten\n",
    "\n",
    "- Wir sind nicht an einer möglichst exakten Wiedergabe unserer Daten interessiert\n",
    "\n",
    "- Entscheidend ist wie gut unser Modell auf unbekannte Daten generalisiert"
   ]
  },
  {
   "cell_type": "markdown",
   "metadata": {
    "slideshow": {
     "slide_type": "subslide"
    }
   },
   "source": [
    "<img src=\"img/ag/Figure-09-002.png\" style=\"width: 60%; margin-left: auto; margin-right: auto;\"/>"
   ]
  },
  {
   "cell_type": "markdown",
   "metadata": {
    "slideshow": {
     "slide_type": "subslide"
    }
   },
   "source": [
    "<img src=\"img/ag/Figure-09-004.png\" style=\"width: 60%; margin-left: auto; margin-right: auto;\"/>"
   ]
  },
  {
   "cell_type": "markdown",
   "metadata": {
    "slideshow": {
     "slide_type": "subslide"
    }
   },
   "source": [
    "<img src=\"img/ag/Figure-09-003.png\" style=\"width: 60%; margin-left: auto; margin-right: auto;\"/>"
   ]
  },
  {
   "cell_type": "markdown",
   "metadata": {
    "slideshow": {
     "slide_type": "subslide"
    }
   },
   "source": [
    "<img src=\"img/ag/Figure-09-005.png\" style=\"width: 60%; margin-left: auto; margin-right: auto;\"/>"
   ]
  },
  {
   "cell_type": "markdown",
   "metadata": {
    "slideshow": {
     "slide_type": "subslide"
    }
   },
   "source": [
    "\n",
    "### Generalisierung und Rauschen\n",
    "<img src=\"img/ag/Figure-09-008.png\" style=\"width: 40%; margin-left: auto; margin-right: auto;\"/>"
   ]
  },
  {
   "cell_type": "markdown",
   "metadata": {
    "slideshow": {
     "slide_type": "subslide"
    }
   },
   "source": [
    "<img src=\"img/ag/Figure-09-009.png\" style=\"width: 80%; margin-left: auto; margin-right: auto;\"/>"
   ]
  },
  {
   "cell_type": "markdown",
   "metadata": {
    "slideshow": {
     "slide_type": "subslide"
    }
   },
   "source": [
    "<img src=\"img/ag/Figure-09-010.png\" style=\"width: 40%; margin-left: auto; margin-right: auto;\"/>"
   ]
  },
  {
   "cell_type": "markdown",
   "metadata": {
    "slideshow": {
     "slide_type": "subslide"
    }
   },
   "source": [
    "## Komplexität der Entscheidungsgrenze\n",
    "\n",
    "<img src=\"img/ag/Figure-09-006.png\" style=\"width: 100%; margin-left: auto; margin-right: auto;\"/>"
   ]
  },
  {
   "cell_type": "markdown",
   "metadata": {
    "slideshow": {
     "slide_type": "subslide"
    }
   },
   "source": [
    "<img src=\"img/ag/Figure-09-001.png\" style=\"width: 50%; margin-left: auto; margin-right: auto;\"/>"
   ]
  },
  {
   "cell_type": "markdown",
   "metadata": {
    "slideshow": {
     "slide_type": "slide"
    }
   },
   "source": [
    "## Datenverteilung und Qualität\n"
   ]
  },
  {
   "cell_type": "markdown",
   "metadata": {},
   "source": [
    "### Erinnerung: die Trainings-Schleife\n",
    "\n",
    "<img src=\"img/ag/Figure-08-001.png\" style=\"width: 20%; margin-left: auto; margin-right: auto;\"/>"
   ]
  },
  {
   "cell_type": "markdown",
   "metadata": {
    "slideshow": {
     "slide_type": "subslide"
    }
   },
   "source": [
    "<img src=\"img/ag/Figure-08-001.png\" style=\"width: 60%; margin-left: auto; margin-right: auto;\"/>"
   ]
  },
  {
   "cell_type": "markdown",
   "metadata": {
    "slideshow": {
     "slide_type": "subslide"
    }
   },
   "source": [
    "## Was lernt ein Klassifizierer?\n",
    "\n",
    "<img src=\"img/ag/Figure-08-002.png\" style=\"width: 60%; margin-left: auto; margin-right: auto;\"/>"
   ]
  },
  {
   "cell_type": "markdown",
   "metadata": {
    "slideshow": {
     "slide_type": "subslide"
    }
   },
   "source": [
    "<img src=\"img/ag/Figure-08-003.png\" style=\"width: 100%; margin-left: auto; margin-right: auto;\"/>"
   ]
  },
  {
   "cell_type": "markdown",
   "metadata": {
    "slideshow": {
     "slide_type": "subslide"
    }
   },
   "source": [
    "<img src=\"img/ag/Figure-08-004.png\" style=\"width: 70%; margin-left: auto; margin-right: auto;\"/>"
   ]
  },
  {
   "cell_type": "markdown",
   "metadata": {
    "slideshow": {
     "slide_type": "slide"
    }
   },
   "source": [
    "# Wie gut sind wir?\n",
    "\n",
    "Wie wissen wir, wie gut unser Modell wirklich ist?"
   ]
  },
  {
   "cell_type": "markdown",
   "metadata": {
    "slideshow": {
     "slide_type": "subslide"
    }
   },
   "source": [
    "## Was kann schief gehen?\n",
    "\n",
    "<img src=\"img/ag/Figure-03-015.png\" style=\"width: 100%; margin-left: auto; margin-right: auto; 0\"/>"
   ]
  },
  {
   "cell_type": "markdown",
   "metadata": {
    "slideshow": {
     "slide_type": "subslide"
    }
   },
   "source": [
    "## Was kann schief gehen?\n",
    "\n",
    "<img src=\"img/ag/Figure-03-017.png\" style=\"width: 100%; margin-left: auto; margin-right: auto; 0\"/>"
   ]
  },
  {
   "cell_type": "markdown",
   "metadata": {
    "slideshow": {
     "slide_type": "subslide"
    }
   },
   "source": [
    "## Was kann schief gehen?\n",
    "\n",
    "<img src=\"img/ag/Figure-03-018.png\" style=\"width: 80%; margin-left: auto; margin-right: auto; 0\"/>"
   ]
  },
  {
   "cell_type": "markdown",
   "metadata": {
    "slideshow": {
     "slide_type": "subslide"
    }
   },
   "source": [
    "## Accuracy: Wie viel haben wir richtig gemacht?\n",
    "\n",
    "\n",
    "<img src=\"img/ag/Figure-03-023.png\" style=\"width: 60%; margin-left: auto; margin-right: auto; 0\"/>"
   ]
  },
  {
   "cell_type": "markdown",
   "metadata": {
    "slideshow": {
     "slide_type": "subslide"
    }
   },
   "source": [
    "## Precision: Wie gut sind unsere positiven Elemente?\n",
    "\n",
    "\n",
    "<img src=\"img/ag/Figure-03-024.png\" style=\"width: 60%; margin-left: auto; margin-right: auto; 0\"/>"
   ]
  },
  {
   "cell_type": "markdown",
   "metadata": {
    "slideshow": {
     "slide_type": "subslide"
    }
   },
   "source": [
    "## Recall: Wie viele positive Elemente haben wir übersehen?\n",
    "\n",
    "\n",
    "<img src=\"img/ag/Figure-03-026.png\" style=\"width: 60%; margin-left: auto; margin-right: auto; 0\"/>"
   ]
  },
  {
   "cell_type": "markdown",
   "metadata": {
    "slideshow": {
     "slide_type": "slide"
    }
   },
   "source": [
    "# Beispiel: MNIST Data\n",
    "\n",
    "<img src=\"img/ag/Figure-01-023.png\" style=\"float: right;width: 40%;\"/>\n",
    "\n",
    "Wir trainieren ein Modell um handgeschriebene Ziffern zu erkennen:"
   ]
  },
  {
   "cell_type": "markdown",
   "metadata": {
    "slideshow": {
     "slide_type": "subslide"
    }
   },
   "source": [
    "#### Importieren der Abhängigkeiten"
   ]
  },
  {
   "cell_type": "code",
   "execution_count": null,
   "metadata": {
    "pycharm": {
     "name": "#%%\n"
    }
   },
   "outputs": [],
   "source": [
    "import numpy as np\n",
    "from matplotlib import pyplot as plt\n",
    "from tensorflow.keras.datasets import mnist\n",
    "from tensorflow.keras.models import Sequential\n",
    "from tensorflow.keras.layers import (Input, Dense, Flatten, Conv2D, MaxPooling2D)\n",
    "from tensorflow.keras.callbacks import TensorBoard\n",
    "from tensorflow.keras.utils import to_categorical\n",
    "from tensorflow.keras.metrics import Precision, Recall\n",
    "from tensorflow import keras\n",
    "import os\n",
    "import shutil"
   ]
  },
  {
   "cell_type": "markdown",
   "metadata": {
    "slideshow": {
     "slide_type": "subslide"
    }
   },
   "source": [
    "#### Laden der Daten"
   ]
  },
  {
   "cell_type": "code",
   "execution_count": 7,
   "metadata": {
    "pycharm": {
     "name": "#%%\n"
    }
   },
   "outputs": [],
   "source": [
    "(X_train_in, y_train_in), (X_test_in, y_test_in) = mnist.load_data()"
   ]
  },
  {
   "cell_type": "code",
   "execution_count": 8,
   "metadata": {},
   "outputs": [
    {
     "data": {
      "text/plain": [
       "((60000, 28, 28), dtype('uint8'), 47040000, 47040000)"
      ]
     },
     "execution_count": 8,
     "metadata": {},
     "output_type": "execute_result"
    }
   ],
   "source": [
    "X_train_in.shape, X_train_in.dtype, X_train_in.size, 60000 * 28 * 28"
   ]
  },
  {
   "cell_type": "code",
   "execution_count": 9,
   "metadata": {},
   "outputs": [
    {
     "data": {
      "text/plain": [
       "(28, 28)"
      ]
     },
     "execution_count": 9,
     "metadata": {},
     "output_type": "execute_result"
    }
   ],
   "source": [
    "X_train_in[234].shape"
   ]
  },
  {
   "cell_type": "markdown",
   "metadata": {
    "slideshow": {
     "slide_type": "subslide"
    }
   },
   "source": [
    "### Plotten der Daten"
   ]
  },
  {
   "cell_type": "code",
   "execution_count": 10,
   "metadata": {
    "pycharm": {
     "name": "#%%\n"
    }
   },
   "outputs": [],
   "source": [
    "def plot_random_datapoint():\n",
    "    sample = np.random.randint(0, X_train_in.shape[0])\n",
    "\n",
    "    plt.figure(figsize = (10,10))\n",
    "    mnist_img = X_train_in[sample]\n",
    "    plt.imshow(mnist_img, cmap=\"Greys\")\n",
    "\n",
    "    # Get the `Axes` instance on the current figure\n",
    "    ax = plt.gca()\n",
    "\n",
    "    plt.tick_params(\n",
    "        axis='both', which='major', bottom=True, left=True,\n",
    "        labelbottom=False, labelleft=False)\n",
    "\n",
    "    plt.tick_params(\n",
    "        axis='both', which='minor', bottom=False, left=False,\n",
    "        labelbottom=True, labelleft=True)\n",
    "\n",
    "    ax.set_xticks(np.arange(-.5, 28, 1))\n",
    "    ax.set_yticks(np.arange(-.5, 28, 1))\n",
    "\n",
    "    ax.set_xticks(np.arange(0, 28, 1), minor=True);\n",
    "    ax.set_xticklabels([str(i) for i in np.arange(0, 28, 1)], minor=True);\n",
    "    ax.set_yticks(np.arange(0, 28, 1), minor=True);\n",
    "    ax.set_yticklabels([str(i) for i in np.arange(0, 28, 1)], minor=True);\n",
    "\n",
    "    ax.grid(color='black', linestyle='-', linewidth=1.5)\n",
    "    plt.colorbar(fraction=0.046, pad=0.04, ticks=[0,32,64,96,128,160,192,224,255])"
   ]
  },
  {
   "cell_type": "code",
   "execution_count": 11,
   "metadata": {
    "pycharm": {
     "name": "#%%\n"
    },
    "slideshow": {
     "slide_type": "subslide"
    }
   },
   "outputs": [
    {
     "data": {
      "image/png": "[encoded data removed]",
      "text/plain": [
       "<Figure size 720x720 with 2 Axes>"
      ]
     },
     "metadata": {
      "needs_background": "light"
     },
     "output_type": "display_data"
    }
   ],
   "source": [
    "plot_random_datapoint()"
   ]
  },
  {
   "cell_type": "markdown",
   "metadata": {
    "slideshow": {
     "slide_type": "subslide"
    }
   },
   "source": [
    "#### Preprocessing der Daten"
   ]
  },
  {
   "cell_type": "code",
   "execution_count": 12,
   "metadata": {
    "pycharm": {
     "name": "#%%\n"
    }
   },
   "outputs": [],
   "source": [
    "def preprocess_data(data):\n",
    "    reshaped_data = data.reshape(-1, 28, 28, 1)\n",
    "    float_data = reshaped_data.astype('float32')\n",
    "    return float_data / 255.0"
   ]
  },
  {
   "cell_type": "code",
   "execution_count": 13,
   "metadata": {
    "pycharm": {
     "name": "#%%\n"
    },
    "slideshow": {
     "slide_type": "subslide"
    }
   },
   "outputs": [],
   "source": [
    "X_train = preprocess_data(X_train_in)\n",
    "X_test = preprocess_data(X_test_in)"
   ]
  },
  {
   "cell_type": "code",
   "execution_count": 14,
   "metadata": {
    "pycharm": {
     "name": "#%%\n"
    }
   },
   "outputs": [
    {
     "data": {
      "text/plain": [
       "((60000, 28, 28, 1), (10000, 28, 28, 1))"
      ]
     },
     "execution_count": 14,
     "metadata": {},
     "output_type": "execute_result"
    }
   ],
   "source": [
    "X_train.shape, X_test.shape\n"
   ]
  },
  {
   "cell_type": "code",
   "execution_count": 15,
   "metadata": {
    "pycharm": {
     "name": "#%%\n"
    }
   },
   "outputs": [
    {
     "data": {
      "text/plain": [
       "(0, 9)"
      ]
     },
     "execution_count": 15,
     "metadata": {},
     "output_type": "execute_result"
    }
   ],
   "source": [
    "min(y_train_in), max(y_train_in)"
   ]
  },
  {
   "cell_type": "code",
   "execution_count": 16,
   "metadata": {
    "pycharm": {
     "name": "#%%\n"
    },
    "slideshow": {
     "slide_type": "subslide"
    }
   },
   "outputs": [],
   "source": [
    "n_classes = max(y_train_in) + 1\n",
    "y_train = to_categorical(y_train_in, n_classes)\n",
    "y_test = to_categorical(y_test_in, n_classes)"
   ]
  },
  {
   "cell_type": "code",
   "execution_count": 17,
   "metadata": {
    "pycharm": {
     "name": "#%%\n"
    },
    "slideshow": {
     "slide_type": "-"
    }
   },
   "outputs": [
    {
     "data": {
      "text/plain": [
       "(5, 7)"
      ]
     },
     "execution_count": 17,
     "metadata": {},
     "output_type": "execute_result"
    }
   ],
   "source": [
    "y_train_in[0], y_test_in[0]"
   ]
  },
  {
   "cell_type": "code",
   "execution_count": 18,
   "metadata": {
    "pycharm": {
     "name": "#%%\n"
    }
   },
   "outputs": [
    {
     "data": {
      "text/plain": [
       "(array([0., 0., 0., 0., 0., 1., 0., 0., 0., 0.], dtype=float32),\n",
       " array([0., 0., 0., 0., 0., 0., 0., 1., 0., 0.], dtype=float32))"
      ]
     },
     "execution_count": 18,
     "metadata": {},
     "output_type": "execute_result"
    }
   ],
   "source": [
    "y_train[0], y_test[0]"
   ]
  },
  {
   "cell_type": "markdown",
   "metadata": {
    "slideshow": {
     "slide_type": "subslide"
    }
   },
   "source": [
    "Reduziere die Größe der Trainingsdaten um den Effekt von zu wenigen Daten zu illustrieren:"
   ]
  },
  {
   "cell_type": "code",
   "execution_count": 19,
   "metadata": {
    "pycharm": {
     "name": "#%%\n"
    }
   },
   "outputs": [
    {
     "name": "stdout",
     "output_type": "stream",
     "text": [
      "X_train has         60000 samples.\n",
      "X_train_medium has   6000 samples.\n",
      "X_train_small has     600 samples.\n",
      "X_train_tiny has      120 samples.\n"
     ]
    }
   ],
   "source": [
    "X_train_medium = X_train[:6000, :]\n",
    "y_train_medium = y_train[:6000]\n",
    "X_train_small = X_train[:600, :]\n",
    "y_train_small = y_train[:600]\n",
    "X_train_tiny = X_train[:120, :]\n",
    "y_train_tiny = y_train[:120]\n",
    "print(f\"X_train has        {X_train.shape[0]:6} samples.\")\n",
    "print(f\"X_train_medium has {X_train_medium.shape[0]:6} samples.\")\n",
    "print(f\"X_train_small has  {X_train_small.shape[0]:6} samples.\")\n",
    "print(f\"X_train_tiny has   {X_train_tiny.shape[0]:6} samples.\")"
   ]
  },
  {
   "cell_type": "code",
   "execution_count": 50,
   "metadata": {
    "pycharm": {
     "name": "#%%\n"
    }
   },
   "outputs": [],
   "source": [
    "def create_model():\n",
    "    model = Sequential([\n",
    "        Input(shape=(28, 28, 1)),\n",
    "        Flatten(),\n",
    "        Dense(128, activation='relu'),\n",
    "        Dense(n_classes, activation='softmax')\n",
    "        ])\n",
    "    return model"
   ]
  },
  {
   "cell_type": "markdown",
   "metadata": {
    "slideshow": {
     "slide_type": "slide"
    }
   },
   "source": [
    "### Instanziieren der Modelle\n",
    "\n",
    "Wir instanziieren ein Modell für jeden Trainingsdatensatz um verfolgen zu\n",
    "können, wie gut die Modelle lernen."
   ]
  },
  {
   "cell_type": "code",
   "execution_count": 52,
   "metadata": {
    "pycharm": {
     "name": "#%%\n"
    }
   },
   "outputs": [],
   "source": [
    "model_tiny = create_model()\n",
    "model_small = create_model()\n",
    "model_medium = create_model()\n",
    "model_large = create_model()"
   ]
  },
  {
   "cell_type": "code",
   "execution_count": 54,
   "metadata": {
    "pycharm": {
     "name": "#%%\n"
    },
    "slideshow": {
     "slide_type": "subslide"
    }
   },
   "outputs": [
    {
     "name": "stdout",
     "output_type": "stream",
     "text": [
      "Model: \"sequential_11\"\n",
      "_________________________________________________________________\n",
      "Layer (type)                 Output Shape              Param #   \n",
      "=================================================================\n",
      "flatten_11 (Flatten)         (None, 784)               0         \n",
      "_________________________________________________________________\n",
      "dense_22 (Dense)             (None, 128)               100480    \n",
      "_________________________________________________________________\n",
      "dense_23 (Dense)             (None, 10)                1290      \n",
      "=================================================================\n",
      "Total params: 101,770\n",
      "Trainable params: 101,770\n",
      "Non-trainable params: 0\n",
      "_________________________________________________________________\n"
     ]
    }
   ],
   "source": [
    "model_large.summary()"
   ]
  },
  {
   "cell_type": "code",
   "execution_count": 56,
   "metadata": {},
   "outputs": [
    {
     "data": {
      "text/plain": [
       "100480"
      ]
     },
     "execution_count": 56,
     "metadata": {},
     "output_type": "execute_result"
    }
   ],
   "source": [
    "784 * 128 + 128"
   ]
  },
  {
   "cell_type": "markdown",
   "metadata": {
    "slideshow": {
     "slide_type": "subslide"
    }
   },
   "source": [
    "#### Kompilieren der Modelle"
   ]
  },
  {
   "cell_type": "code",
   "execution_count": 57,
   "metadata": {
    "pycharm": {
     "name": "#%%\n"
    }
   },
   "outputs": [],
   "source": [
    "model_tiny.compile(loss='categorical_crossentropy',\n",
    "                   optimizer='adam',\n",
    "                   metrics=['accuracy',\n",
    "                            Precision(class_id=0, name='precision'),\n",
    "                            Recall(class_id=0, name='recall')])\n",
    "model_small.compile(loss='categorical_crossentropy',\n",
    "                    optimizer='adam',\n",
    "                    metrics=['accuracy',\n",
    "                             Precision(class_id=0, name='precision'),\n",
    "                             Recall(class_id=0, name='recall')])\n",
    "model_medium.compile(loss='categorical_crossentropy',\n",
    "                     optimizer='adam',\n",
    "                     metrics=['accuracy',\n",
    "                              Precision(class_id=0, name='precision'),\n",
    "                              Recall(class_id=0, name='recall')])\n",
    "model_large.compile(loss='categorical_crossentropy',\n",
    "                    optimizer='adam',\n",
    "                    metrics=['accuracy',\n",
    "                             Precision(class_id=0, name='precision'),\n",
    "                             Recall(class_id=0, name='recall')])"
   ]
  },
  {
   "cell_type": "markdown",
   "metadata": {
    "slideshow": {
     "slide_type": "subslide"
    }
   },
   "source": [
    "#### Löschen des TensorBoard Verzeichnisses"
   ]
  },
  {
   "cell_type": "code",
   "execution_count": 58,
   "metadata": {
    "pycharm": {
     "name": "#%%\n"
    }
   },
   "outputs": [],
   "source": [
    "shutil.rmtree('logs', True)\n",
    "os.mkdir('logs')"
   ]
  },
  {
   "cell_type": "markdown",
   "metadata": {
    "slideshow": {
     "slide_type": "subslide"
    }
   },
   "source": [
    "#### Trainieren!"
   ]
  },
  {
   "cell_type": "code",
   "execution_count": 46,
   "metadata": {
    "pycharm": {
     "name": "#%%\n"
    }
   },
   "outputs": [],
   "source": [
    "def train_model(model, X_train, y_train, tensor_board_suffix, epochs=40):\n",
    "    tensorboard = TensorBoard(f'logs/deep-net-{tensor_board_suffix}')\n",
    "    model.fit(X_train, y_train,\n",
    "              batch_size=min(X_train.shape[0]//2, 100),\n",
    "              epochs=epochs, verbose=1,\n",
    "              validation_data=(X_test, y_test),\n",
    "              callbacks=[tensorboard])"
   ]
  },
  {
   "cell_type": "code",
   "execution_count": 59,
   "metadata": {
    "pycharm": {
     "name": "#%%\n"
    },
    "slideshow": {
     "slide_type": "subslide"
    }
   },
   "outputs": [
    {
     "name": "stdout",
     "output_type": "stream",
     "text": [
      "Epoch 1/40\n",
      "2/2 [==============================] - ETA: 0s - loss: 2.2137 - accuracy: 0.1667 - precision: 0.0000e+00 - recall: 0.0000e+00WARNING:tensorflow:Method (on_train_batch_end) is slow compared to the batch update (0.740147). Check your callbacks.\n",
      "2/2 [==============================] - 2s 1s/step - loss: 2.2137 - accuracy: 0.1667 - precision: 0.0000e+00 - recall: 0.0000e+00 - val_loss: 2.1644 - val_accuracy: 0.2120 - val_precision: 0.9444 - val_recall: 0.0694\n",
      "Epoch 2/40\n",
      "2/2 [==============================] - 0s 172ms/step - loss: 1.8669 - accuracy: 0.4833 - precision: 1.0000 - recall: 0.1176 - val_loss: 2.0050 - val_accuracy: 0.3540 - val_precision: 0.9543 - val_recall: 0.4480\n",
      "Epoch 3/40\n",
      "2/2 [==============================] - 0s 165ms/step - loss: 1.5829 - accuracy: 0.7167 - precision: 1.0000 - recall: 0.5294 - val_loss: 1.8579 - val_accuracy: 0.4458 - val_precision: 0.9225 - val_recall: 0.6194\n",
      "Epoch 4/40\n",
      "2/2 [==============================] - 0s 150ms/step - loss: 1.3537 - accuracy: 0.7750 - precision: 1.0000 - recall: 0.9412 - val_loss: 1.7160 - val_accuracy: 0.5060 - val_precision: 0.9125 - val_recall: 0.6918\n",
      "Epoch 5/40\n",
      "2/2 [==============================] - 0s 168ms/step - loss: 1.1512 - accuracy: 0.8250 - precision: 1.0000 - recall: 0.9412 - val_loss: 1.5868 - val_accuracy: 0.5559 - val_precision: 0.9145 - val_recall: 0.7316\n",
      "Epoch 6/40\n",
      "2/2 [==============================] - 0s 162ms/step - loss: 0.9753 - accuracy: 0.8583 - precision: 1.0000 - recall: 0.9412 - val_loss: 1.4802 - val_accuracy: 0.5878 - val_precision: 0.9031 - val_recall: 0.7704\n",
      "Epoch 7/40\n",
      "2/2 [==============================] - 0s 149ms/step - loss: 0.8282 - accuracy: 0.8917 - precision: 1.0000 - recall: 0.9412 - val_loss: 1.3842 - val_accuracy: 0.6155 - val_precision: 0.8984 - val_recall: 0.7939\n",
      "Epoch 8/40\n",
      "2/2 [==============================] - 0s 167ms/step - loss: 0.6954 - accuracy: 0.9167 - precision: 1.0000 - recall: 0.9412 - val_loss: 1.3108 - val_accuracy: 0.6330 - val_precision: 0.8831 - val_recall: 0.8173\n",
      "Epoch 9/40\n",
      "2/2 [==============================] - 0s 152ms/step - loss: 0.5897 - accuracy: 0.9417 - precision: 1.0000 - recall: 0.9412 - val_loss: 1.2467 - val_accuracy: 0.6446 - val_precision: 0.8654 - val_recall: 0.8398\n",
      "Epoch 10/40\n",
      "2/2 [==============================] - 0s 153ms/step - loss: 0.4956 - accuracy: 0.9500 - precision: 1.0000 - recall: 0.9412 - val_loss: 1.1961 - val_accuracy: 0.6560 - val_precision: 0.8607 - val_recall: 0.8571\n",
      "Epoch 11/40\n",
      "2/2 [==============================] - 0s 158ms/step - loss: 0.4197 - accuracy: 0.9667 - precision: 1.0000 - recall: 0.9412 - val_loss: 1.1536 - val_accuracy: 0.6675 - val_precision: 0.8564 - val_recall: 0.8704\n",
      "Epoch 12/40\n",
      "2/2 [==============================] - 0s 168ms/step - loss: 0.3582 - accuracy: 0.9750 - precision: 1.0000 - recall: 1.0000 - val_loss: 1.1194 - val_accuracy: 0.6741 - val_precision: 0.8536 - val_recall: 0.8806\n",
      "Epoch 13/40\n",
      "2/2 [==============================] - 0s 157ms/step - loss: 0.3052 - accuracy: 0.9833 - precision: 1.0000 - recall: 1.0000 - val_loss: 1.0937 - val_accuracy: 0.6805 - val_precision: 0.8545 - val_recall: 0.8867\n",
      "Epoch 14/40\n",
      "2/2 [==============================] - 0s 172ms/step - loss: 0.2614 - accuracy: 0.9833 - precision: 1.0000 - recall: 1.0000 - val_loss: 1.0739 - val_accuracy: 0.6819 - val_precision: 0.8537 - val_recall: 0.8929\n",
      "Epoch 15/40\n",
      "2/2 [==============================] - 0s 145ms/step - loss: 0.2228 - accuracy: 0.9833 - precision: 1.0000 - recall: 1.0000 - val_loss: 1.0584 - val_accuracy: 0.6851 - val_precision: 0.8500 - val_recall: 0.8959\n",
      "Epoch 16/40\n",
      "2/2 [==============================] - 0s 176ms/step - loss: 0.1911 - accuracy: 0.9917 - precision: 1.0000 - recall: 1.0000 - val_loss: 1.0471 - val_accuracy: 0.6881 - val_precision: 0.8552 - val_recall: 0.8980\n",
      "Epoch 17/40\n",
      "2/2 [==============================] - 0s 185ms/step - loss: 0.1650 - accuracy: 0.9917 - precision: 1.0000 - recall: 1.0000 - val_loss: 1.0388 - val_accuracy: 0.6912 - val_precision: 0.8623 - val_recall: 0.8949\n",
      "Epoch 18/40\n",
      "2/2 [==============================] - 0s 219ms/step - loss: 0.1443 - accuracy: 1.0000 - precision: 1.0000 - recall: 1.0000 - val_loss: 1.0347 - val_accuracy: 0.6940 - val_precision: 0.8622 - val_recall: 0.8939\n",
      "Epoch 19/40\n",
      "2/2 [==============================] - 0s 244ms/step - loss: 0.1243 - accuracy: 1.0000 - precision: 1.0000 - recall: 1.0000 - val_loss: 1.0309 - val_accuracy: 0.6958 - val_precision: 0.8648 - val_recall: 0.8939\n",
      "Epoch 20/40\n",
      "2/2 [==============================] - 0s 164ms/step - loss: 0.1094 - accuracy: 1.0000 - precision: 1.0000 - recall: 1.0000 - val_loss: 1.0321 - val_accuracy: 0.6962 - val_precision: 0.8629 - val_recall: 0.8929\n",
      "Epoch 21/40\n",
      "2/2 [==============================] - 0s 212ms/step - loss: 0.0969 - accuracy: 1.0000 - precision: 1.0000 - recall: 1.0000 - val_loss: 1.0334 - val_accuracy: 0.6968 - val_precision: 0.8598 - val_recall: 0.8949\n",
      "Epoch 22/40\n",
      "2/2 [==============================] - 0s 165ms/step - loss: 0.0861 - accuracy: 1.0000 - precision: 1.0000 - recall: 1.0000 - val_loss: 1.0367 - val_accuracy: 0.6979 - val_precision: 0.8571 - val_recall: 0.8939\n",
      "Epoch 23/40\n",
      "2/2 [==============================] - 0s 162ms/step - loss: 0.0767 - accuracy: 1.0000 - precision: 1.0000 - recall: 1.0000 - val_loss: 1.0392 - val_accuracy: 0.6977 - val_precision: 0.8581 - val_recall: 0.8949\n",
      "Epoch 24/40\n",
      "2/2 [==============================] - 0s 155ms/step - loss: 0.0690 - accuracy: 1.0000 - precision: 1.0000 - recall: 1.0000 - val_loss: 1.0401 - val_accuracy: 0.6989 - val_precision: 0.8599 - val_recall: 0.8959\n",
      "Epoch 25/40\n",
      "2/2 [==============================] - 0s 159ms/step - loss: 0.0624 - accuracy: 1.0000 - precision: 1.0000 - recall: 1.0000 - val_loss: 1.0413 - val_accuracy: 0.7005 - val_precision: 0.8606 - val_recall: 0.8949\n",
      "Epoch 26/40\n",
      "2/2 [==============================] - 0s 173ms/step - loss: 0.0564 - accuracy: 1.0000 - precision: 1.0000 - recall: 1.0000 - val_loss: 1.0414 - val_accuracy: 0.7014 - val_precision: 0.8623 - val_recall: 0.8949\n",
      "Epoch 27/40\n",
      "2/2 [==============================] - 0s 147ms/step - loss: 0.0518 - accuracy: 1.0000 - precision: 1.0000 - recall: 1.0000 - val_loss: 1.0411 - val_accuracy: 0.7028 - val_precision: 0.8592 - val_recall: 0.8969\n",
      "Epoch 28/40\n",
      "2/2 [==============================] - 0s 145ms/step - loss: 0.0473 - accuracy: 1.0000 - precision: 1.0000 - recall: 1.0000 - val_loss: 1.0423 - val_accuracy: 0.7041 - val_precision: 0.8580 - val_recall: 0.9000\n",
      "Epoch 29/40\n",
      "2/2 [==============================] - 0s 142ms/step - loss: 0.0437 - accuracy: 1.0000 - precision: 1.0000 - recall: 1.0000 - val_loss: 1.0421 - val_accuracy: 0.7053 - val_precision: 0.8589 - val_recall: 0.9010\n",
      "Epoch 30/40\n",
      "2/2 [==============================] - 0s 160ms/step - loss: 0.0405 - accuracy: 1.0000 - precision: 1.0000 - recall: 1.0000 - val_loss: 1.0412 - val_accuracy: 0.7072 - val_precision: 0.8578 - val_recall: 0.8990\n",
      "Epoch 31/40\n",
      "2/2 [==============================] - 0s 145ms/step - loss: 0.0378 - accuracy: 1.0000 - precision: 1.0000 - recall: 1.0000 - val_loss: 1.0411 - val_accuracy: 0.7077 - val_precision: 0.8563 - val_recall: 0.9000\n",
      "Epoch 32/40\n",
      "2/2 [==============================] - 0s 153ms/step - loss: 0.0352 - accuracy: 1.0000 - precision: 1.0000 - recall: 1.0000 - val_loss: 1.0414 - val_accuracy: 0.7084 - val_precision: 0.8533 - val_recall: 0.9020\n",
      "Epoch 33/40\n",
      "2/2 [==============================] - 0s 142ms/step - loss: 0.0328 - accuracy: 1.0000 - precision: 1.0000 - recall: 1.0000 - val_loss: 1.0417 - val_accuracy: 0.7094 - val_precision: 0.8544 - val_recall: 0.9041\n",
      "Epoch 34/40\n",
      "2/2 [==============================] - 0s 147ms/step - loss: 0.0310 - accuracy: 1.0000 - precision: 1.0000 - recall: 1.0000 - val_loss: 1.0421 - val_accuracy: 0.7096 - val_precision: 0.8527 - val_recall: 0.9041\n",
      "Epoch 35/40\n",
      "2/2 [==============================] - 0s 144ms/step - loss: 0.0293 - accuracy: 1.0000 - precision: 1.0000 - recall: 1.0000 - val_loss: 1.0430 - val_accuracy: 0.7092 - val_precision: 0.8527 - val_recall: 0.9041\n",
      "Epoch 36/40\n",
      "2/2 [==============================] - 0s 146ms/step - loss: 0.0275 - accuracy: 1.0000 - precision: 1.0000 - recall: 1.0000 - val_loss: 1.0445 - val_accuracy: 0.7098 - val_precision: 0.8527 - val_recall: 0.9041\n"
     ]
    },
    {
     "name": "stdout",
     "output_type": "stream",
     "text": [
      "Epoch 37/40\n",
      "2/2 [==============================] - 0s 139ms/step - loss: 0.0262 - accuracy: 1.0000 - precision: 1.0000 - recall: 1.0000 - val_loss: 1.0458 - val_accuracy: 0.7098 - val_precision: 0.8529 - val_recall: 0.9051\n",
      "Epoch 38/40\n",
      "2/2 [==============================] - 0s 142ms/step - loss: 0.0249 - accuracy: 1.0000 - precision: 1.0000 - recall: 1.0000 - val_loss: 1.0468 - val_accuracy: 0.7100 - val_precision: 0.8529 - val_recall: 0.9051\n",
      "Epoch 39/40\n",
      "2/2 [==============================] - 0s 136ms/step - loss: 0.0237 - accuracy: 1.0000 - precision: 1.0000 - recall: 1.0000 - val_loss: 1.0481 - val_accuracy: 0.7104 - val_precision: 0.8514 - val_recall: 0.9061\n",
      "Epoch 40/40\n",
      "2/2 [==============================] - 0s 138ms/step - loss: 0.0225 - accuracy: 1.0000 - precision: 1.0000 - recall: 1.0000 - val_loss: 1.0489 - val_accuracy: 0.7110 - val_precision: 0.8506 - val_recall: 0.9061\n"
     ]
    }
   ],
   "source": [
    "train_model(model_tiny, X_train_tiny, y_train_tiny, 'tiny')"
   ]
  },
  {
   "cell_type": "code",
   "execution_count": 60,
   "metadata": {
    "pycharm": {
     "name": "#%%\n"
    },
    "slideshow": {
     "slide_type": "subslide"
    }
   },
   "outputs": [
    {
     "name": "stdout",
     "output_type": "stream",
     "text": [
      "Epoch 1/40\n",
      "2/6 [=========>....................] - ETA: 2s - loss: 2.3652 - accuracy: 0.1000 - precision: 0.0000e+00 - recall: 0.0000e+00WARNING:tensorflow:Method (on_train_batch_end) is slow compared to the batch update (0.737495). Check your callbacks.\n",
      "6/6 [==============================] - 2s 334ms/step - loss: 2.1097 - accuracy: 0.3350 - precision: 0.0000e+00 - recall: 0.0000e+00 - val_loss: 1.7986 - val_accuracy: 0.5884 - val_precision: 0.9844 - val_recall: 0.0643\n",
      "Epoch 2/40\n",
      "6/6 [==============================] - 0s 40ms/step - loss: 1.4830 - accuracy: 0.7717 - precision: 1.0000 - recall: 0.5172 - val_loss: 1.3623 - val_accuracy: 0.6987 - val_precision: 0.9642 - val_recall: 0.6051\n",
      "Epoch 3/40\n",
      "6/6 [==============================] - 0s 36ms/step - loss: 1.0455 - accuracy: 0.8200 - precision: 0.9535 - recall: 0.7069 - val_loss: 1.0570 - val_accuracy: 0.7246 - val_precision: 0.9434 - val_recall: 0.7143\n",
      "Epoch 4/40\n",
      "6/6 [==============================] - 0s 36ms/step - loss: 0.7552 - accuracy: 0.8467 - precision: 0.9600 - recall: 0.8276 - val_loss: 0.8676 - val_accuracy: 0.7614 - val_precision: 0.9290 - val_recall: 0.8143\n",
      "Epoch 5/40\n",
      "6/6 [==============================] - 0s 37ms/step - loss: 0.5766 - accuracy: 0.8733 - precision: 0.9636 - recall: 0.9138 - val_loss: 0.7407 - val_accuracy: 0.7872 - val_precision: 0.9251 - val_recall: 0.8571\n",
      "Epoch 6/40\n",
      "6/6 [==============================] - 0s 38ms/step - loss: 0.4643 - accuracy: 0.8933 - precision: 0.9643 - recall: 0.9310 - val_loss: 0.6616 - val_accuracy: 0.8054 - val_precision: 0.9290 - val_recall: 0.8816\n",
      "Epoch 7/40\n",
      "6/6 [==============================] - 0s 36ms/step - loss: 0.3884 - accuracy: 0.9000 - precision: 0.9818 - recall: 0.9310 - val_loss: 0.6062 - val_accuracy: 0.8176 - val_precision: 0.9386 - val_recall: 0.8888\n",
      "Epoch 8/40\n",
      "6/6 [==============================] - 0s 36ms/step - loss: 0.3306 - accuracy: 0.9167 - precision: 0.9825 - recall: 0.9655 - val_loss: 0.5692 - val_accuracy: 0.8276 - val_precision: 0.9330 - val_recall: 0.9092\n",
      "Epoch 9/40\n",
      "6/6 [==============================] - 0s 37ms/step - loss: 0.2876 - accuracy: 0.9267 - precision: 0.9825 - recall: 0.9655 - val_loss: 0.5376 - val_accuracy: 0.8374 - val_precision: 0.9422 - val_recall: 0.9143\n",
      "Epoch 10/40\n",
      "6/6 [==============================] - 0s 35ms/step - loss: 0.2509 - accuracy: 0.9483 - precision: 0.9828 - recall: 0.9828 - val_loss: 0.5229 - val_accuracy: 0.8385 - val_precision: 0.9562 - val_recall: 0.9143\n",
      "Epoch 11/40\n",
      "6/6 [==============================] - 0s 35ms/step - loss: 0.2223 - accuracy: 0.9600 - precision: 1.0000 - recall: 0.9828 - val_loss: 0.5065 - val_accuracy: 0.8439 - val_precision: 0.9418 - val_recall: 0.9245\n",
      "Epoch 12/40\n",
      "6/6 [==============================] - 0s 36ms/step - loss: 0.1964 - accuracy: 0.9717 - precision: 1.0000 - recall: 0.9828 - val_loss: 0.4975 - val_accuracy: 0.8463 - val_precision: 0.9459 - val_recall: 0.9286\n",
      "Epoch 13/40\n",
      "6/6 [==============================] - 0s 35ms/step - loss: 0.1751 - accuracy: 0.9783 - precision: 1.0000 - recall: 0.9828 - val_loss: 0.4868 - val_accuracy: 0.8490 - val_precision: 0.9487 - val_recall: 0.9255\n",
      "Epoch 14/40\n",
      "6/6 [==============================] - 0s 35ms/step - loss: 0.1587 - accuracy: 0.9833 - precision: 1.0000 - recall: 0.9828 - val_loss: 0.4866 - val_accuracy: 0.8504 - val_precision: 0.9516 - val_recall: 0.9235\n",
      "Epoch 15/40\n",
      "6/6 [==============================] - 0s 36ms/step - loss: 0.1406 - accuracy: 0.9867 - precision: 1.0000 - recall: 0.9828 - val_loss: 0.4740 - val_accuracy: 0.8538 - val_precision: 0.9421 - val_recall: 0.9306\n",
      "Epoch 16/40\n",
      "6/6 [==============================] - 0s 41ms/step - loss: 0.1278 - accuracy: 0.9900 - precision: 1.0000 - recall: 0.9828 - val_loss: 0.4734 - val_accuracy: 0.8520 - val_precision: 0.9395 - val_recall: 0.9357\n",
      "Epoch 17/40\n",
      "6/6 [==============================] - 0s 36ms/step - loss: 0.1153 - accuracy: 0.9950 - precision: 1.0000 - recall: 0.9828 - val_loss: 0.4781 - val_accuracy: 0.8520 - val_precision: 0.9423 - val_recall: 0.9337\n",
      "Epoch 18/40\n",
      "6/6 [==============================] - 0s 37ms/step - loss: 0.1036 - accuracy: 0.9950 - precision: 1.0000 - recall: 0.9828 - val_loss: 0.4683 - val_accuracy: 0.8539 - val_precision: 0.9442 - val_recall: 0.9327\n",
      "Epoch 19/40\n",
      "6/6 [==============================] - 0s 40ms/step - loss: 0.0944 - accuracy: 0.9950 - precision: 1.0000 - recall: 0.9828 - val_loss: 0.4672 - val_accuracy: 0.8549 - val_precision: 0.9432 - val_recall: 0.9327\n",
      "Epoch 20/40\n",
      "6/6 [==============================] - 0s 36ms/step - loss: 0.0860 - accuracy: 0.9967 - precision: 1.0000 - recall: 0.9828 - val_loss: 0.4709 - val_accuracy: 0.8547 - val_precision: 0.9294 - val_recall: 0.9408\n",
      "Epoch 21/40\n",
      "6/6 [==============================] - 0s 37ms/step - loss: 0.0777 - accuracy: 0.9967 - precision: 1.0000 - recall: 1.0000 - val_loss: 0.4687 - val_accuracy: 0.8538 - val_precision: 0.9340 - val_recall: 0.9388\n",
      "Epoch 22/40\n",
      "6/6 [==============================] - 0s 36ms/step - loss: 0.0719 - accuracy: 0.9983 - precision: 1.0000 - recall: 1.0000 - val_loss: 0.4702 - val_accuracy: 0.8535 - val_precision: 0.9331 - val_recall: 0.9388\n",
      "Epoch 23/40\n",
      "6/6 [==============================] - 0s 40ms/step - loss: 0.0655 - accuracy: 1.0000 - precision: 1.0000 - recall: 1.0000 - val_loss: 0.4660 - val_accuracy: 0.8576 - val_precision: 0.9358 - val_recall: 0.9378\n",
      "Epoch 24/40\n",
      "6/6 [==============================] - 0s 35ms/step - loss: 0.0602 - accuracy: 1.0000 - precision: 1.0000 - recall: 1.0000 - val_loss: 0.4683 - val_accuracy: 0.8569 - val_precision: 0.9341 - val_recall: 0.9398\n",
      "Epoch 25/40\n",
      "6/6 [==============================] - 0s 35ms/step - loss: 0.0553 - accuracy: 1.0000 - precision: 1.0000 - recall: 1.0000 - val_loss: 0.4711 - val_accuracy: 0.8567 - val_precision: 0.9279 - val_recall: 0.9449\n",
      "Epoch 26/40\n",
      "6/6 [==============================] - 0s 38ms/step - loss: 0.0513 - accuracy: 1.0000 - precision: 1.0000 - recall: 1.0000 - val_loss: 0.4708 - val_accuracy: 0.8564 - val_precision: 0.9315 - val_recall: 0.9429\n",
      "Epoch 27/40\n",
      "6/6 [==============================] - 0s 34ms/step - loss: 0.0473 - accuracy: 1.0000 - precision: 1.0000 - recall: 1.0000 - val_loss: 0.4718 - val_accuracy: 0.8565 - val_precision: 0.9331 - val_recall: 0.9398\n",
      "Epoch 28/40\n",
      "6/6 [==============================] - 0s 34ms/step - loss: 0.0440 - accuracy: 1.0000 - precision: 1.0000 - recall: 1.0000 - val_loss: 0.4714 - val_accuracy: 0.8578 - val_precision: 0.9333 - val_recall: 0.9429\n",
      "Epoch 29/40\n",
      "6/6 [==============================] - 0s 32ms/step - loss: 0.0408 - accuracy: 1.0000 - precision: 1.0000 - recall: 1.0000 - val_loss: 0.4725 - val_accuracy: 0.8585 - val_precision: 0.9297 - val_recall: 0.9449\n",
      "Epoch 30/40\n",
      "6/6 [==============================] - 0s 34ms/step - loss: 0.0382 - accuracy: 1.0000 - precision: 1.0000 - recall: 1.0000 - val_loss: 0.4757 - val_accuracy: 0.8571 - val_precision: 0.9290 - val_recall: 0.9480\n",
      "Epoch 31/40\n",
      "6/6 [==============================] - 0s 34ms/step - loss: 0.0359 - accuracy: 1.0000 - precision: 1.0000 - recall: 1.0000 - val_loss: 0.4754 - val_accuracy: 0.8568 - val_precision: 0.9306 - val_recall: 0.9439\n",
      "Epoch 32/40\n",
      "6/6 [==============================] - 0s 33ms/step - loss: 0.0335 - accuracy: 1.0000 - precision: 1.0000 - recall: 1.0000 - val_loss: 0.4785 - val_accuracy: 0.8577 - val_precision: 0.9297 - val_recall: 0.9449\n",
      "Epoch 33/40\n",
      "6/6 [==============================] - 0s 34ms/step - loss: 0.0315 - accuracy: 1.0000 - precision: 1.0000 - recall: 1.0000 - val_loss: 0.4787 - val_accuracy: 0.8583 - val_precision: 0.9305 - val_recall: 0.9429\n",
      "Epoch 34/40\n",
      "6/6 [==============================] - 0s 35ms/step - loss: 0.0297 - accuracy: 1.0000 - precision: 1.0000 - recall: 1.0000 - val_loss: 0.4780 - val_accuracy: 0.8587 - val_precision: 0.9298 - val_recall: 0.9459\n",
      "Epoch 35/40\n",
      "6/6 [==============================] - 0s 33ms/step - loss: 0.0279 - accuracy: 1.0000 - precision: 1.0000 - recall: 1.0000 - val_loss: 0.4803 - val_accuracy: 0.8588 - val_precision: 0.9273 - val_recall: 0.9500\n",
      "Epoch 36/40\n",
      "6/6 [==============================] - 0s 35ms/step - loss: 0.0263 - accuracy: 1.0000 - precision: 1.0000 - recall: 1.0000 - val_loss: 0.4812 - val_accuracy: 0.8582 - val_precision: 0.9273 - val_recall: 0.9500\n"
     ]
    },
    {
     "name": "stdout",
     "output_type": "stream",
     "text": [
      "Epoch 37/40\n",
      "6/6 [==============================] - 0s 33ms/step - loss: 0.0249 - accuracy: 1.0000 - precision: 1.0000 - recall: 1.0000 - val_loss: 0.4825 - val_accuracy: 0.8584 - val_precision: 0.9272 - val_recall: 0.9490\n",
      "Epoch 38/40\n",
      "6/6 [==============================] - 0s 32ms/step - loss: 0.0236 - accuracy: 1.0000 - precision: 1.0000 - recall: 1.0000 - val_loss: 0.4851 - val_accuracy: 0.8593 - val_precision: 0.9281 - val_recall: 0.9490\n",
      "Epoch 39/40\n",
      "6/6 [==============================] - 0s 32ms/step - loss: 0.0224 - accuracy: 1.0000 - precision: 1.0000 - recall: 1.0000 - val_loss: 0.4855 - val_accuracy: 0.8592 - val_precision: 0.9281 - val_recall: 0.9490\n",
      "Epoch 40/40\n",
      "6/6 [==============================] - 0s 33ms/step - loss: 0.0213 - accuracy: 1.0000 - precision: 1.0000 - recall: 1.0000 - val_loss: 0.4860 - val_accuracy: 0.8590 - val_precision: 0.9263 - val_recall: 0.9490\n"
     ]
    }
   ],
   "source": [
    "train_model(model_small, X_train_small, y_train_small, 'small')"
   ]
  },
  {
   "cell_type": "code",
   "execution_count": 61,
   "metadata": {
    "pycharm": {
     "name": "#%%\n"
    },
    "slideshow": {
     "slide_type": "subslide"
    }
   },
   "outputs": [
    {
     "name": "stdout",
     "output_type": "stream",
     "text": [
      "Epoch 1/40\n",
      " 2/60 [>.............................] - ETA: 39s - loss: 2.2827 - accuracy: 0.1650 - precision: 0.0000e+00 - recall: 0.0000e+00WARNING:tensorflow:Method (on_train_batch_end) is slow compared to the batch update (0.723964). Check your callbacks.\n",
      "WARNING:tensorflow:Method (on_train_batch_end) is slow compared to the batch update (0.101551). Check your callbacks.\n",
      "60/60 [==============================] - 2s 35ms/step - loss: 0.8872 - accuracy: 0.7808 - precision: 0.9661 - recall: 0.6740 - val_loss: 0.4358 - val_accuracy: 0.8813 - val_precision: 0.9482 - val_recall: 0.9337\n",
      "Epoch 2/40\n",
      "60/60 [==============================] - 0s 6ms/step - loss: 0.3474 - accuracy: 0.9043 - precision: 0.9683 - recall: 0.9291 - val_loss: 0.3413 - val_accuracy: 0.9037 - val_precision: 0.9677 - val_recall: 0.9480\n",
      "Epoch 3/40\n",
      "60/60 [==============================] - 0s 6ms/step - loss: 0.2739 - accuracy: 0.9280 - precision: 0.9759 - recall: 0.9561 - val_loss: 0.3048 - val_accuracy: 0.9124 - val_precision: 0.9652 - val_recall: 0.9622\n",
      "Epoch 4/40\n",
      "60/60 [==============================] - 0s 6ms/step - loss: 0.2296 - accuracy: 0.9410 - precision: 0.9845 - recall: 0.9662 - val_loss: 0.2847 - val_accuracy: 0.9172 - val_precision: 0.9682 - val_recall: 0.9643\n",
      "Epoch 5/40\n",
      "60/60 [==============================] - 1s 9ms/step - loss: 0.1948 - accuracy: 0.9477 - precision: 0.9813 - recall: 0.9764 - val_loss: 0.2647 - val_accuracy: 0.9225 - val_precision: 0.9691 - val_recall: 0.9612\n",
      "Epoch 6/40\n",
      "60/60 [==============================] - 0s 7ms/step - loss: 0.1659 - accuracy: 0.9562 - precision: 0.9865 - recall: 0.9848 - val_loss: 0.2575 - val_accuracy: 0.9225 - val_precision: 0.9617 - val_recall: 0.9735\n",
      "Epoch 7/40\n",
      "60/60 [==============================] - 0s 6ms/step - loss: 0.1452 - accuracy: 0.9628 - precision: 0.9882 - recall: 0.9865 - val_loss: 0.2507 - val_accuracy: 0.9262 - val_precision: 0.9580 - val_recall: 0.9786\n",
      "Epoch 8/40\n",
      "60/60 [==============================] - 0s 6ms/step - loss: 0.1281 - accuracy: 0.9670 - precision: 0.9915 - recall: 0.9882 - val_loss: 0.2374 - val_accuracy: 0.9274 - val_precision: 0.9610 - val_recall: 0.9796\n",
      "Epoch 9/40\n",
      "60/60 [==============================] - 0s 6ms/step - loss: 0.1104 - accuracy: 0.9733 - precision: 0.9915 - recall: 0.9899 - val_loss: 0.2330 - val_accuracy: 0.9311 - val_precision: 0.9656 - val_recall: 0.9745\n",
      "Epoch 10/40\n",
      "60/60 [==============================] - 0s 6ms/step - loss: 0.0958 - accuracy: 0.9787 - precision: 0.9932 - recall: 0.9916 - val_loss: 0.2333 - val_accuracy: 0.9296 - val_precision: 0.9562 - val_recall: 0.9806\n",
      "Epoch 11/40\n",
      "60/60 [==============================] - 0s 6ms/step - loss: 0.0842 - accuracy: 0.9827 - precision: 0.9916 - recall: 0.9932 - val_loss: 0.2342 - val_accuracy: 0.9290 - val_precision: 0.9618 - val_recall: 0.9776\n",
      "Epoch 12/40\n",
      "60/60 [==============================] - 0s 7ms/step - loss: 0.0768 - accuracy: 0.9850 - precision: 0.9966 - recall: 0.9949 - val_loss: 0.2190 - val_accuracy: 0.9356 - val_precision: 0.9647 - val_recall: 0.9755\n",
      "Epoch 13/40\n",
      "60/60 [==============================] - 0s 6ms/step - loss: 0.0672 - accuracy: 0.9857 - precision: 0.9983 - recall: 0.9949 - val_loss: 0.2267 - val_accuracy: 0.9326 - val_precision: 0.9619 - val_recall: 0.9796\n",
      "Epoch 14/40\n",
      "60/60 [==============================] - 0s 6ms/step - loss: 0.0619 - accuracy: 0.9872 - precision: 0.9983 - recall: 0.9932 - val_loss: 0.2159 - val_accuracy: 0.9370 - val_precision: 0.9677 - val_recall: 0.9776\n",
      "Epoch 15/40\n",
      "60/60 [==============================] - 0s 7ms/step - loss: 0.0538 - accuracy: 0.9898 - precision: 0.9983 - recall: 0.9966 - val_loss: 0.2204 - val_accuracy: 0.9362 - val_precision: 0.9601 - val_recall: 0.9827\n",
      "Epoch 16/40\n",
      "60/60 [==============================] - 0s 6ms/step - loss: 0.0464 - accuracy: 0.9932 - precision: 1.0000 - recall: 0.9983 - val_loss: 0.2187 - val_accuracy: 0.9381 - val_precision: 0.9600 - val_recall: 0.9806\n",
      "Epoch 17/40\n",
      "60/60 [==============================] - 0s 6ms/step - loss: 0.0432 - accuracy: 0.9933 - precision: 1.0000 - recall: 0.9983 - val_loss: 0.2131 - val_accuracy: 0.9385 - val_precision: 0.9667 - val_recall: 0.9786\n",
      "Epoch 18/40\n",
      "60/60 [==============================] - 0s 6ms/step - loss: 0.0384 - accuracy: 0.9940 - precision: 1.0000 - recall: 0.9966 - val_loss: 0.2254 - val_accuracy: 0.9350 - val_precision: 0.9619 - val_recall: 0.9786\n",
      "Epoch 19/40\n",
      "60/60 [==============================] - 0s 7ms/step - loss: 0.0347 - accuracy: 0.9948 - precision: 0.9983 - recall: 0.9983 - val_loss: 0.2175 - val_accuracy: 0.9375 - val_precision: 0.9647 - val_recall: 0.9755\n",
      "Epoch 20/40\n",
      "60/60 [==============================] - 0s 7ms/step - loss: 0.0306 - accuracy: 0.9965 - precision: 1.0000 - recall: 0.9983 - val_loss: 0.2177 - val_accuracy: 0.9379 - val_precision: 0.9646 - val_recall: 0.9745\n",
      "Epoch 21/40\n",
      "60/60 [==============================] - 0s 6ms/step - loss: 0.0265 - accuracy: 0.9975 - precision: 1.0000 - recall: 0.9983 - val_loss: 0.2228 - val_accuracy: 0.9372 - val_precision: 0.9581 - val_recall: 0.9806\n",
      "Epoch 22/40\n",
      "60/60 [==============================] - 0s 6ms/step - loss: 0.0242 - accuracy: 0.9980 - precision: 1.0000 - recall: 0.9983 - val_loss: 0.2194 - val_accuracy: 0.9392 - val_precision: 0.9562 - val_recall: 0.9806\n",
      "Epoch 23/40\n",
      "60/60 [==============================] - 0s 6ms/step - loss: 0.0215 - accuracy: 0.9987 - precision: 1.0000 - recall: 1.0000 - val_loss: 0.2199 - val_accuracy: 0.9379 - val_precision: 0.9600 - val_recall: 0.9786\n",
      "Epoch 24/40\n",
      "60/60 [==============================] - 0s 6ms/step - loss: 0.0194 - accuracy: 0.9988 - precision: 1.0000 - recall: 1.0000 - val_loss: 0.2213 - val_accuracy: 0.9408 - val_precision: 0.9601 - val_recall: 0.9816\n",
      "Epoch 25/40\n",
      "60/60 [==============================] - 0s 7ms/step - loss: 0.0178 - accuracy: 0.9992 - precision: 1.0000 - recall: 1.0000 - val_loss: 0.2242 - val_accuracy: 0.9390 - val_precision: 0.9619 - val_recall: 0.9796\n",
      "Epoch 26/40\n",
      "60/60 [==============================] - 0s 6ms/step - loss: 0.0159 - accuracy: 0.9993 - precision: 1.0000 - recall: 1.0000 - val_loss: 0.2248 - val_accuracy: 0.9400 - val_precision: 0.9648 - val_recall: 0.9786\n",
      "Epoch 27/40\n",
      "60/60 [==============================] - 0s 6ms/step - loss: 0.0146 - accuracy: 0.9992 - precision: 1.0000 - recall: 1.0000 - val_loss: 0.2255 - val_accuracy: 0.9384 - val_precision: 0.9637 - val_recall: 0.9755\n",
      "Epoch 28/40\n",
      "60/60 [==============================] - 0s 6ms/step - loss: 0.0129 - accuracy: 0.9997 - precision: 1.0000 - recall: 1.0000 - val_loss: 0.2253 - val_accuracy: 0.9392 - val_precision: 0.9619 - val_recall: 0.9796\n",
      "Epoch 29/40\n",
      "60/60 [==============================] - 0s 7ms/step - loss: 0.0117 - accuracy: 0.9998 - precision: 1.0000 - recall: 1.0000 - val_loss: 0.2299 - val_accuracy: 0.9387 - val_precision: 0.9571 - val_recall: 0.9796\n",
      "Epoch 30/40\n",
      "60/60 [==============================] - 0s 6ms/step - loss: 0.0105 - accuracy: 1.0000 - precision: 1.0000 - recall: 1.0000 - val_loss: 0.2279 - val_accuracy: 0.9399 - val_precision: 0.9592 - val_recall: 0.9827\n",
      "Epoch 31/40\n",
      "60/60 [==============================] - 0s 7ms/step - loss: 0.0096 - accuracy: 1.0000 - precision: 1.0000 - recall: 1.0000 - val_loss: 0.2306 - val_accuracy: 0.9391 - val_precision: 0.9563 - val_recall: 0.9816\n",
      "Epoch 32/40\n",
      "60/60 [==============================] - 0s 6ms/step - loss: 0.0088 - accuracy: 1.0000 - precision: 1.0000 - recall: 1.0000 - val_loss: 0.2312 - val_accuracy: 0.9396 - val_precision: 0.9619 - val_recall: 0.9786\n",
      "Epoch 33/40\n",
      "60/60 [==============================] - 0s 6ms/step - loss: 0.0079 - accuracy: 1.0000 - precision: 1.0000 - recall: 1.0000 - val_loss: 0.2343 - val_accuracy: 0.9393 - val_precision: 0.9591 - val_recall: 0.9806\n",
      "Epoch 34/40\n",
      "60/60 [==============================] - 0s 6ms/step - loss: 0.0074 - accuracy: 1.0000 - precision: 1.0000 - recall: 1.0000 - val_loss: 0.2349 - val_accuracy: 0.9391 - val_precision: 0.9563 - val_recall: 0.9827\n",
      "Epoch 35/40\n",
      "60/60 [==============================] - 0s 5ms/step - loss: 0.0069 - accuracy: 1.0000 - precision: 1.0000 - recall: 1.0000 - val_loss: 0.2348 - val_accuracy: 0.9417 - val_precision: 0.9648 - val_recall: 0.9796\n",
      "Epoch 36/40\n",
      "60/60 [==============================] - 0s 5ms/step - loss: 0.0063 - accuracy: 1.0000 - precision: 1.0000 - recall: 1.0000 - val_loss: 0.2355 - val_accuracy: 0.9403 - val_precision: 0.9610 - val_recall: 0.9796\n",
      "Epoch 37/40\n",
      "60/60 [==============================] - 0s 5ms/step - loss: 0.0059 - accuracy: 1.0000 - precision: 1.0000 - recall: 1.0000 - val_loss: 0.2392 - val_accuracy: 0.9398 - val_precision: 0.9572 - val_recall: 0.9806\n",
      "Epoch 38/40\n",
      "60/60 [==============================] - 0s 5ms/step - loss: 0.0055 - accuracy: 1.0000 - precision: 1.0000 - recall: 1.0000 - val_loss: 0.2409 - val_accuracy: 0.9405 - val_precision: 0.9563 - val_recall: 0.9827\n",
      "Epoch 39/40\n",
      "60/60 [==============================] - 0s 5ms/step - loss: 0.0051 - accuracy: 1.0000 - precision: 1.0000 - recall: 1.0000 - val_loss: 0.2413 - val_accuracy: 0.9399 - val_precision: 0.9572 - val_recall: 0.9816\n",
      "Epoch 40/40\n",
      "60/60 [==============================] - 0s 5ms/step - loss: 0.0047 - accuracy: 1.0000 - precision: 1.0000 - recall: 1.0000 - val_loss: 0.2421 - val_accuracy: 0.9403 - val_precision: 0.9591 - val_recall: 0.9806\n"
     ]
    }
   ],
   "source": [
    "train_model(model_medium, X_train_medium, y_train_medium, 'medium')"
   ]
  },
  {
   "cell_type": "code",
   "execution_count": 62,
   "metadata": {
    "pycharm": {
     "is_executing": true,
     "name": "#%%\n"
    },
    "slideshow": {
     "slide_type": "subslide"
    }
   },
   "outputs": [
    {
     "name": "stdout",
     "output_type": "stream",
     "text": [
      "Epoch 1/40\n",
      "  2/600 [..............................] - ETA: 7:31 - loss: 2.1995 - accuracy: 0.2000 - precision: 0.0000e+00 - recall: 0.0000e+00WARNING:tensorflow:Method (on_train_batch_end) is slow compared to the batch update (0.783215). Check your callbacks.\n",
      "600/600 [==============================] - 3s 6ms/step - loss: 0.3266 - accuracy: 0.9105 - precision: 0.9694 - recall: 0.9311 - val_loss: 0.1767 - val_accuracy: 0.9477 - val_precision: 0.9657 - val_recall: 0.9776\n",
      "Epoch 2/40\n",
      "600/600 [==============================] - 2s 3ms/step - loss: 0.1540 - accuracy: 0.9562 - precision: 0.9788 - recall: 0.9725 - val_loss: 0.1316 - val_accuracy: 0.9616 - val_precision: 0.9621 - val_recall: 0.9847\n",
      "Epoch 3/40\n",
      "600/600 [==============================] - 2s 3ms/step - loss: 0.1110 - accuracy: 0.9678 - precision: 0.9846 - recall: 0.9802 - val_loss: 0.1034 - val_accuracy: 0.9684 - val_precision: 0.9807 - val_recall: 0.9827\n",
      "Epoch 4/40\n",
      "600/600 [==============================] - 2s 3ms/step - loss: 0.0856 - accuracy: 0.9749 - precision: 0.9878 - recall: 0.9833 - val_loss: 0.0882 - val_accuracy: 0.9730 - val_precision: 0.9817 - val_recall: 0.9847\n",
      "Epoch 5/40\n",
      "600/600 [==============================] - 2s 3ms/step - loss: 0.0699 - accuracy: 0.9791 - precision: 0.9902 - recall: 0.9870 - val_loss: 0.0860 - val_accuracy: 0.9729 - val_precision: 0.9718 - val_recall: 0.9847\n",
      "Epoch 6/40\n",
      "600/600 [==============================] - 2s 3ms/step - loss: 0.0565 - accuracy: 0.9836 - precision: 0.9897 - recall: 0.9890 - val_loss: 0.0784 - val_accuracy: 0.9744 - val_precision: 0.9797 - val_recall: 0.9847\n",
      "Epoch 7/40\n",
      "600/600 [==============================] - 2s 3ms/step - loss: 0.0466 - accuracy: 0.9868 - precision: 0.9916 - recall: 0.9907 - val_loss: 0.0748 - val_accuracy: 0.9770 - val_precision: 0.9797 - val_recall: 0.9867\n",
      "Epoch 8/40\n",
      "600/600 [==============================] - 2s 3ms/step - loss: 0.0393 - accuracy: 0.9889 - precision: 0.9943 - recall: 0.9929 - val_loss: 0.0725 - val_accuracy: 0.9786 - val_precision: 0.9837 - val_recall: 0.9867\n",
      "Epoch 9/40\n",
      "600/600 [==============================] - 2s 3ms/step - loss: 0.0328 - accuracy: 0.9911 - precision: 0.9949 - recall: 0.9948 - val_loss: 0.0808 - val_accuracy: 0.9760 - val_precision: 0.9877 - val_recall: 0.9857\n",
      "Epoch 10/40\n",
      "600/600 [==============================] - 2s 3ms/step - loss: 0.0276 - accuracy: 0.9926 - precision: 0.9961 - recall: 0.9958 - val_loss: 0.0679 - val_accuracy: 0.9774 - val_precision: 0.9827 - val_recall: 0.9857\n",
      "Epoch 11/40\n",
      "600/600 [==============================] - 2s 3ms/step - loss: 0.0245 - accuracy: 0.9935 - precision: 0.9971 - recall: 0.9966 - val_loss: 0.0700 - val_accuracy: 0.9785 - val_precision: 0.9907 - val_recall: 0.9827\n",
      "Epoch 12/40\n",
      "600/600 [==============================] - 1s 2ms/step - loss: 0.0199 - accuracy: 0.9949 - precision: 0.9973 - recall: 0.9980 - val_loss: 0.0821 - val_accuracy: 0.9749 - val_precision: 0.9758 - val_recall: 0.9857\n",
      "Epoch 13/40\n",
      "600/600 [==============================] - 1s 2ms/step - loss: 0.0165 - accuracy: 0.9957 - precision: 0.9985 - recall: 0.9976 - val_loss: 0.0746 - val_accuracy: 0.9774 - val_precision: 0.9681 - val_recall: 0.9908\n",
      "Epoch 14/40\n",
      "600/600 [==============================] - 1s 2ms/step - loss: 0.0141 - accuracy: 0.9966 - precision: 0.9976 - recall: 0.9983 - val_loss: 0.0729 - val_accuracy: 0.9779 - val_precision: 0.9878 - val_recall: 0.9878\n",
      "Epoch 15/40\n",
      "600/600 [==============================] - 2s 3ms/step - loss: 0.0120 - accuracy: 0.9973 - precision: 0.9995 - recall: 0.9992 - val_loss: 0.0790 - val_accuracy: 0.9779 - val_precision: 0.9778 - val_recall: 0.9878\n",
      "Epoch 16/40\n",
      "600/600 [==============================] - 1s 2ms/step - loss: 0.0101 - accuracy: 0.9981 - precision: 0.9988 - recall: 0.9988 - val_loss: 0.0822 - val_accuracy: 0.9778 - val_precision: 0.9682 - val_recall: 0.9929\n",
      "Epoch 17/40\n",
      "600/600 [==============================] - 1s 2ms/step - loss: 0.0089 - accuracy: 0.9979 - precision: 0.9988 - recall: 0.9985 - val_loss: 0.0836 - val_accuracy: 0.9779 - val_precision: 0.9798 - val_recall: 0.9908\n",
      "Epoch 18/40\n",
      "600/600 [==============================] - 1s 2ms/step - loss: 0.0070 - accuracy: 0.9986 - precision: 0.9995 - recall: 0.9998 - val_loss: 0.0791 - val_accuracy: 0.9783 - val_precision: 0.9837 - val_recall: 0.9867\n",
      "Epoch 19/40\n",
      "600/600 [==============================] - 1s 2ms/step - loss: 0.0061 - accuracy: 0.9990 - precision: 0.9997 - recall: 0.9997 - val_loss: 0.0834 - val_accuracy: 0.9780 - val_precision: 0.9817 - val_recall: 0.9878\n",
      "Epoch 20/40\n",
      "600/600 [==============================] - 1s 2ms/step - loss: 0.0060 - accuracy: 0.9988 - precision: 0.9986 - recall: 0.9990 - val_loss: 0.0820 - val_accuracy: 0.9773 - val_precision: 0.9738 - val_recall: 0.9867\n",
      "Epoch 21/40\n",
      "600/600 [==============================] - 2s 3ms/step - loss: 0.0044 - accuracy: 0.9994 - precision: 0.9995 - recall: 0.9998 - val_loss: 0.0809 - val_accuracy: 0.9794 - val_precision: 0.9838 - val_recall: 0.9888\n",
      "Epoch 22/40\n",
      "600/600 [==============================] - 1s 2ms/step - loss: 0.0036 - accuracy: 0.9993 - precision: 0.9998 - recall: 0.9998 - val_loss: 0.0964 - val_accuracy: 0.9770 - val_precision: 0.9798 - val_recall: 0.9898\n",
      "Epoch 23/40\n",
      "600/600 [==============================] - 2s 3ms/step - loss: 0.0086 - accuracy: 0.9975 - precision: 0.9971 - recall: 0.9980 - val_loss: 0.0885 - val_accuracy: 0.9786 - val_precision: 0.9837 - val_recall: 0.9867\n",
      "Epoch 24/40\n",
      "600/600 [==============================] - 1s 2ms/step - loss: 0.0026 - accuracy: 0.9997 - precision: 1.0000 - recall: 0.9998 - val_loss: 0.0888 - val_accuracy: 0.9790 - val_precision: 0.9877 - val_recall: 0.9867\n",
      "Epoch 25/40\n",
      "600/600 [==============================] - 1s 2ms/step - loss: 0.0024 - accuracy: 0.9997 - precision: 1.0000 - recall: 1.0000 - val_loss: 0.0954 - val_accuracy: 0.9781 - val_precision: 0.9798 - val_recall: 0.9898\n",
      "Epoch 26/40\n",
      "600/600 [==============================] - 1s 2ms/step - loss: 0.0041 - accuracy: 0.9989 - precision: 0.9986 - recall: 0.9986 - val_loss: 0.0946 - val_accuracy: 0.9782 - val_precision: 0.9897 - val_recall: 0.9837\n",
      "Epoch 27/40\n",
      "600/600 [==============================] - 1s 2ms/step - loss: 0.0015 - accuracy: 0.9999 - precision: 0.9998 - recall: 0.9997 - val_loss: 0.0885 - val_accuracy: 0.9794 - val_precision: 0.9847 - val_recall: 0.9878\n",
      "Epoch 28/40\n",
      "600/600 [==============================] - 1s 2ms/step - loss: 8.0598e-04 - accuracy: 1.0000 - precision: 1.0000 - recall: 1.0000 - val_loss: 0.0899 - val_accuracy: 0.9798 - val_precision: 0.9848 - val_recall: 0.9888\n",
      "Epoch 29/40\n",
      "600/600 [==============================] - 1s 2ms/step - loss: 0.0036 - accuracy: 0.9990 - precision: 0.9997 - recall: 0.9997 - val_loss: 0.1511 - val_accuracy: 0.9698 - val_precision: 0.9463 - val_recall: 0.9888\n",
      "Epoch 30/40\n",
      "600/600 [==============================] - 2s 3ms/step - loss: 0.0084 - accuracy: 0.9972 - precision: 0.9980 - recall: 0.9980 - val_loss: 0.1057 - val_accuracy: 0.9763 - val_precision: 0.9787 - val_recall: 0.9867\n",
      "Epoch 31/40\n",
      "600/600 [==============================] - 2s 3ms/step - loss: 0.0020 - accuracy: 0.9997 - precision: 0.9995 - recall: 0.9998 - val_loss: 0.0959 - val_accuracy: 0.9779 - val_precision: 0.9857 - val_recall: 0.9837\n",
      "Epoch 32/40\n",
      "600/600 [==============================] - 2s 3ms/step - loss: 5.9052e-04 - accuracy: 1.0000 - precision: 1.0000 - recall: 1.0000 - val_loss: 0.0973 - val_accuracy: 0.9790 - val_precision: 0.9778 - val_recall: 0.9878\n",
      "Epoch 33/40\n",
      "600/600 [==============================] - 2s 4ms/step - loss: 4.0400e-04 - accuracy: 1.0000 - precision: 1.0000 - recall: 1.0000 - val_loss: 0.0954 - val_accuracy: 0.9798 - val_precision: 0.9808 - val_recall: 0.9888\n",
      "Epoch 34/40\n",
      "600/600 [==============================] - 2s 3ms/step - loss: 3.2933e-04 - accuracy: 1.0000 - precision: 1.0000 - recall: 1.0000 - val_loss: 0.0957 - val_accuracy: 0.9801 - val_precision: 0.9808 - val_recall: 0.9898\n",
      "Epoch 35/40\n",
      "600/600 [==============================] - 2s 3ms/step - loss: 3.1516e-04 - accuracy: 1.0000 - precision: 1.0000 - recall: 1.0000 - val_loss: 0.0962 - val_accuracy: 0.9799 - val_precision: 0.9788 - val_recall: 0.9898\n",
      "Epoch 36/40\n",
      "600/600 [==============================] - 1s 2ms/step - loss: 3.6955e-04 - accuracy: 1.0000 - precision: 1.0000 - recall: 1.0000 - val_loss: 0.1074 - val_accuracy: 0.9781 - val_precision: 0.9817 - val_recall: 0.9847\n",
      "Epoch 37/40\n",
      "600/600 [==============================] - 1s 2ms/step - loss: 0.0128 - accuracy: 0.9957 - precision: 0.9968 - recall: 0.9975 - val_loss: 0.1078 - val_accuracy: 0.9783 - val_precision: 0.9797 - val_recall: 0.9867\n",
      "Epoch 38/40\n",
      "600/600 [==============================] - 2s 3ms/step - loss: 0.0023 - accuracy: 0.9994 - precision: 0.9992 - recall: 0.9993 - val_loss: 0.1021 - val_accuracy: 0.9797 - val_precision: 0.9857 - val_recall: 0.9857\n",
      "Epoch 39/40\n",
      "600/600 [==============================] - 1s 2ms/step - loss: 4.7832e-04 - accuracy: 1.0000 - precision: 1.0000 - recall: 1.0000 - val_loss: 0.0988 - val_accuracy: 0.9801 - val_precision: 0.9847 - val_recall: 0.9857\n",
      "Epoch 40/40\n",
      "600/600 [==============================] - 1s 2ms/step - loss: 2.7204e-04 - accuracy: 1.0000 - precision: 1.0000 - recall: 1.0000 - val_loss: 0.0986 - val_accuracy: 0.9799 - val_precision: 0.9847 - val_recall: 0.9857\n"
     ]
    }
   ],
   "source": [
    "train_model(model_large, X_train, y_train, 'large')"
   ]
  },
  {
   "cell_type": "code",
   "execution_count": 63,
   "metadata": {},
   "outputs": [],
   "source": [
    "model_large.save('large-model.h5')"
   ]
  },
  {
   "cell_type": "code",
   "execution_count": 28,
   "metadata": {},
   "outputs": [],
   "source": [
    "import tensorflow as tf\n",
    "loaded_model = tf.keras.models.load_model('large-model.h5')"
   ]
  },
  {
   "cell_type": "code",
   "execution_count": 29,
   "metadata": {},
   "outputs": [
    {
     "name": "stdout",
     "output_type": "stream",
     "text": [
      "Model: \"sequential_11\"\n",
      "_________________________________________________________________\n",
      "Layer (type)                 Output Shape              Param #   \n",
      "=================================================================\n",
      "flatten_11 (Flatten)         (None, 784)               0         \n",
      "_________________________________________________________________\n",
      "dense_22 (Dense)             (None, 128)               100480    \n",
      "_________________________________________________________________\n",
      "dense_23 (Dense)             (None, 10)                1290      \n",
      "=================================================================\n",
      "Total params: 101,770\n",
      "Trainable params: 101,770\n",
      "Non-trainable params: 0\n",
      "_________________________________________________________________\n"
     ]
    }
   ],
   "source": [
    "loaded_model.summary()"
   ]
  },
  {
   "cell_type": "code",
   "execution_count": 34,
   "metadata": {},
   "outputs": [
    {
     "data": {
      "text/plain": [
       "((10000, 28, 28, 1), (1, 28, 28, 1))"
      ]
     },
     "execution_count": 34,
     "metadata": {},
     "output_type": "execute_result"
    }
   ],
   "source": [
    "X_test.shape, X_test[0:1].shape"
   ]
  },
  {
   "cell_type": "code",
   "execution_count": 35,
   "metadata": {},
   "outputs": [
    {
     "ename": "InternalError",
     "evalue": "GPU sync failed",
     "output_type": "error",
     "traceback": [
      "\u001b[1;31m---------------------------------------------------------------------------\u001b[0m",
      "\u001b[1;31mInternalError\u001b[0m                             Traceback (most recent call last)",
      "\u001b[1;32m<ipython-input-35-fcc227b370e7>\u001b[0m in \u001b[0;36m<module>\u001b[1;34m\u001b[0m\n\u001b[1;32m----> 1\u001b[1;33m \u001b[0mprediction\u001b[0m \u001b[1;33m=\u001b[0m \u001b[0mloaded_model\u001b[0m\u001b[1;33m.\u001b[0m\u001b[0mpredict\u001b[0m\u001b[1;33m(\u001b[0m\u001b[0mX_test\u001b[0m\u001b[1;33m[\u001b[0m\u001b[1;36m0\u001b[0m\u001b[1;33m:\u001b[0m\u001b[1;36m1\u001b[0m\u001b[1;33m]\u001b[0m\u001b[1;33m)\u001b[0m\u001b[1;33m\u001b[0m\u001b[1;33m\u001b[0m\u001b[0m\n\u001b[0m",
      "\u001b[1;32mc:\\users\\tc\\.venv\\br\\lib\\site-packages\\tensorflow\\python\\keras\\engine\\training.py\u001b[0m in \u001b[0;36m_method_wrapper\u001b[1;34m(self, *args, **kwargs)\u001b[0m\n\u001b[0;32m    128\u001b[0m       raise ValueError('{} is not supported in multi-worker mode.'.format(\n\u001b[0;32m    129\u001b[0m           method.__name__))\n\u001b[1;32m--> 130\u001b[1;33m     \u001b[1;32mreturn\u001b[0m \u001b[0mmethod\u001b[0m\u001b[1;33m(\u001b[0m\u001b[0mself\u001b[0m\u001b[1;33m,\u001b[0m \u001b[1;33m*\u001b[0m\u001b[0margs\u001b[0m\u001b[1;33m,\u001b[0m \u001b[1;33m**\u001b[0m\u001b[0mkwargs\u001b[0m\u001b[1;33m)\u001b[0m\u001b[1;33m\u001b[0m\u001b[1;33m\u001b[0m\u001b[0m\n\u001b[0m\u001b[0;32m    131\u001b[0m \u001b[1;33m\u001b[0m\u001b[0m\n\u001b[0;32m    132\u001b[0m   return tf_decorator.make_decorator(\n",
      "\u001b[1;32mc:\\users\\tc\\.venv\\br\\lib\\site-packages\\tensorflow\\python\\keras\\engine\\training.py\u001b[0m in \u001b[0;36mpredict\u001b[1;34m(self, x, batch_size, verbose, steps, callbacks, max_queue_size, workers, use_multiprocessing)\u001b[0m\n\u001b[0;32m   1567\u001b[0m     \u001b[1;32mwith\u001b[0m \u001b[0mself\u001b[0m\u001b[1;33m.\u001b[0m\u001b[0mdistribute_strategy\u001b[0m\u001b[1;33m.\u001b[0m\u001b[0mscope\u001b[0m\u001b[1;33m(\u001b[0m\u001b[1;33m)\u001b[0m\u001b[1;33m:\u001b[0m\u001b[1;33m\u001b[0m\u001b[1;33m\u001b[0m\u001b[0m\n\u001b[0;32m   1568\u001b[0m       \u001b[1;31m# Creates a `tf.data.Dataset` and handles batch and epoch iteration.\u001b[0m\u001b[1;33m\u001b[0m\u001b[1;33m\u001b[0m\u001b[1;33m\u001b[0m\u001b[0m\n\u001b[1;32m-> 1569\u001b[1;33m       data_handler = data_adapter.DataHandler(\n\u001b[0m\u001b[0;32m   1570\u001b[0m           \u001b[0mx\u001b[0m\u001b[1;33m=\u001b[0m\u001b[0mx\u001b[0m\u001b[1;33m,\u001b[0m\u001b[1;33m\u001b[0m\u001b[1;33m\u001b[0m\u001b[0m\n\u001b[0;32m   1571\u001b[0m           \u001b[0mbatch_size\u001b[0m\u001b[1;33m=\u001b[0m\u001b[0mbatch_size\u001b[0m\u001b[1;33m,\u001b[0m\u001b[1;33m\u001b[0m\u001b[1;33m\u001b[0m\u001b[0m\n",
      "\u001b[1;32mc:\\users\\tc\\.venv\\br\\lib\\site-packages\\tensorflow\\python\\keras\\engine\\data_adapter.py\u001b[0m in \u001b[0;36m__init__\u001b[1;34m(self, x, y, sample_weight, batch_size, steps_per_epoch, initial_epoch, epochs, shuffle, class_weight, max_queue_size, workers, use_multiprocessing, model, steps_per_execution)\u001b[0m\n\u001b[0;32m   1100\u001b[0m     \u001b[1;32melse\u001b[0m\u001b[1;33m:\u001b[0m\u001b[1;33m\u001b[0m\u001b[1;33m\u001b[0m\u001b[0m\n\u001b[0;32m   1101\u001b[0m       \u001b[0mself\u001b[0m\u001b[1;33m.\u001b[0m\u001b[0m_steps_per_execution\u001b[0m \u001b[1;33m=\u001b[0m \u001b[0msteps_per_execution\u001b[0m\u001b[1;33m\u001b[0m\u001b[1;33m\u001b[0m\u001b[0m\n\u001b[1;32m-> 1102\u001b[1;33m       \u001b[0mself\u001b[0m\u001b[1;33m.\u001b[0m\u001b[0m_steps_per_execution_value\u001b[0m \u001b[1;33m=\u001b[0m \u001b[0msteps_per_execution\u001b[0m\u001b[1;33m.\u001b[0m\u001b[0mnumpy\u001b[0m\u001b[1;33m(\u001b[0m\u001b[1;33m)\u001b[0m\u001b[1;33m.\u001b[0m\u001b[0mitem\u001b[0m\u001b[1;33m(\u001b[0m\u001b[1;33m)\u001b[0m\u001b[1;33m\u001b[0m\u001b[1;33m\u001b[0m\u001b[0m\n\u001b[0m\u001b[0;32m   1103\u001b[0m \u001b[1;33m\u001b[0m\u001b[0m\n\u001b[0;32m   1104\u001b[0m     \u001b[0madapter_cls\u001b[0m \u001b[1;33m=\u001b[0m \u001b[0mselect_data_adapter\u001b[0m\u001b[1;33m(\u001b[0m\u001b[0mx\u001b[0m\u001b[1;33m,\u001b[0m \u001b[0my\u001b[0m\u001b[1;33m)\u001b[0m\u001b[1;33m\u001b[0m\u001b[1;33m\u001b[0m\u001b[0m\n",
      "\u001b[1;32mc:\\users\\tc\\.venv\\br\\lib\\site-packages\\tensorflow\\python\\ops\\resource_variable_ops.py\u001b[0m in \u001b[0;36mnumpy\u001b[1;34m(self)\u001b[0m\n\u001b[0;32m    606\u001b[0m   \u001b[1;32mdef\u001b[0m \u001b[0mnumpy\u001b[0m\u001b[1;33m(\u001b[0m\u001b[0mself\u001b[0m\u001b[1;33m)\u001b[0m\u001b[1;33m:\u001b[0m\u001b[1;33m\u001b[0m\u001b[1;33m\u001b[0m\u001b[0m\n\u001b[0;32m    607\u001b[0m     \u001b[1;32mif\u001b[0m \u001b[0mcontext\u001b[0m\u001b[1;33m.\u001b[0m\u001b[0mexecuting_eagerly\u001b[0m\u001b[1;33m(\u001b[0m\u001b[1;33m)\u001b[0m\u001b[1;33m:\u001b[0m\u001b[1;33m\u001b[0m\u001b[1;33m\u001b[0m\u001b[0m\n\u001b[1;32m--> 608\u001b[1;33m       \u001b[1;32mreturn\u001b[0m \u001b[0mself\u001b[0m\u001b[1;33m.\u001b[0m\u001b[0mread_value\u001b[0m\u001b[1;33m(\u001b[0m\u001b[1;33m)\u001b[0m\u001b[1;33m.\u001b[0m\u001b[0mnumpy\u001b[0m\u001b[1;33m(\u001b[0m\u001b[1;33m)\u001b[0m\u001b[1;33m\u001b[0m\u001b[1;33m\u001b[0m\u001b[0m\n\u001b[0m\u001b[0;32m    609\u001b[0m     raise NotImplementedError(\n\u001b[0;32m    610\u001b[0m         \"numpy() is only available when eager execution is enabled.\")\n",
      "\u001b[1;32mc:\\users\\tc\\.venv\\br\\lib\\site-packages\\tensorflow\\python\\framework\\ops.py\u001b[0m in \u001b[0;36mnumpy\u001b[1;34m(self)\u001b[0m\n\u001b[0;32m   1061\u001b[0m     \"\"\"\n\u001b[0;32m   1062\u001b[0m     \u001b[1;31m# TODO(slebedev): Consider avoiding a copy for non-CPU or remote tensors.\u001b[0m\u001b[1;33m\u001b[0m\u001b[1;33m\u001b[0m\u001b[1;33m\u001b[0m\u001b[0m\n\u001b[1;32m-> 1063\u001b[1;33m     \u001b[0mmaybe_arr\u001b[0m \u001b[1;33m=\u001b[0m \u001b[0mself\u001b[0m\u001b[1;33m.\u001b[0m\u001b[0m_numpy\u001b[0m\u001b[1;33m(\u001b[0m\u001b[1;33m)\u001b[0m  \u001b[1;31m# pylint: disable=protected-access\u001b[0m\u001b[1;33m\u001b[0m\u001b[1;33m\u001b[0m\u001b[0m\n\u001b[0m\u001b[0;32m   1064\u001b[0m     \u001b[1;32mreturn\u001b[0m \u001b[0mmaybe_arr\u001b[0m\u001b[1;33m.\u001b[0m\u001b[0mcopy\u001b[0m\u001b[1;33m(\u001b[0m\u001b[1;33m)\u001b[0m \u001b[1;32mif\u001b[0m \u001b[0misinstance\u001b[0m\u001b[1;33m(\u001b[0m\u001b[0mmaybe_arr\u001b[0m\u001b[1;33m,\u001b[0m \u001b[0mnp\u001b[0m\u001b[1;33m.\u001b[0m\u001b[0mndarray\u001b[0m\u001b[1;33m)\u001b[0m \u001b[1;32melse\u001b[0m \u001b[0mmaybe_arr\u001b[0m\u001b[1;33m\u001b[0m\u001b[1;33m\u001b[0m\u001b[0m\n\u001b[0;32m   1065\u001b[0m \u001b[1;33m\u001b[0m\u001b[0m\n",
      "\u001b[1;32mc:\\users\\tc\\.venv\\br\\lib\\site-packages\\tensorflow\\python\\framework\\ops.py\u001b[0m in \u001b[0;36m_numpy\u001b[1;34m(self)\u001b[0m\n\u001b[0;32m   1029\u001b[0m       \u001b[1;32mreturn\u001b[0m \u001b[0mself\u001b[0m\u001b[1;33m.\u001b[0m\u001b[0m_numpy_internal\u001b[0m\u001b[1;33m(\u001b[0m\u001b[1;33m)\u001b[0m\u001b[1;33m\u001b[0m\u001b[1;33m\u001b[0m\u001b[0m\n\u001b[0;32m   1030\u001b[0m     \u001b[1;32mexcept\u001b[0m \u001b[0mcore\u001b[0m\u001b[1;33m.\u001b[0m\u001b[0m_NotOkStatusException\u001b[0m \u001b[1;32mas\u001b[0m \u001b[0me\u001b[0m\u001b[1;33m:\u001b[0m  \u001b[1;31m# pylint: disable=protected-access\u001b[0m\u001b[1;33m\u001b[0m\u001b[1;33m\u001b[0m\u001b[0m\n\u001b[1;32m-> 1031\u001b[1;33m       \u001b[0msix\u001b[0m\u001b[1;33m.\u001b[0m\u001b[0mraise_from\u001b[0m\u001b[1;33m(\u001b[0m\u001b[0mcore\u001b[0m\u001b[1;33m.\u001b[0m\u001b[0m_status_to_exception\u001b[0m\u001b[1;33m(\u001b[0m\u001b[0me\u001b[0m\u001b[1;33m.\u001b[0m\u001b[0mcode\u001b[0m\u001b[1;33m,\u001b[0m \u001b[0me\u001b[0m\u001b[1;33m.\u001b[0m\u001b[0mmessage\u001b[0m\u001b[1;33m)\u001b[0m\u001b[1;33m,\u001b[0m \u001b[1;32mNone\u001b[0m\u001b[1;33m)\u001b[0m  \u001b[1;31m# pylint: disable=protected-access\u001b[0m\u001b[1;33m\u001b[0m\u001b[1;33m\u001b[0m\u001b[0m\n\u001b[0m\u001b[0;32m   1032\u001b[0m \u001b[1;33m\u001b[0m\u001b[0m\n\u001b[0;32m   1033\u001b[0m   \u001b[1;33m@\u001b[0m\u001b[0mproperty\u001b[0m\u001b[1;33m\u001b[0m\u001b[1;33m\u001b[0m\u001b[0m\n",
      "\u001b[1;32mc:\\users\\tc\\.venv\\br\\lib\\site-packages\\six.py\u001b[0m in \u001b[0;36mraise_from\u001b[1;34m(value, from_value)\u001b[0m\n",
      "\u001b[1;31mInternalError\u001b[0m: GPU sync failed"
     ]
    }
   ],
   "source": [
    "prediction = loaded_model.predict(X_test[0:1])"
   ]
  },
  {
   "cell_type": "code",
   "execution_count": 32,
   "metadata": {},
   "outputs": [
    {
     "ename": "NameError",
     "evalue": "name 'prediction' is not defined",
     "output_type": "error",
     "traceback": [
      "\u001b[1;31m---------------------------------------------------------------------------\u001b[0m",
      "\u001b[1;31mNameError\u001b[0m                                 Traceback (most recent call last)",
      "\u001b[1;32m<ipython-input-32-5e9be1833eae>\u001b[0m in \u001b[0;36m<module>\u001b[1;34m\u001b[0m\n\u001b[1;32m----> 1\u001b[1;33m \u001b[0mnp\u001b[0m\u001b[1;33m.\u001b[0m\u001b[0margmax\u001b[0m\u001b[1;33m(\u001b[0m\u001b[0mprediction\u001b[0m\u001b[1;33m)\u001b[0m\u001b[1;33m,\u001b[0m \u001b[0my_test_in\u001b[0m\u001b[1;33m[\u001b[0m\u001b[1;36m0\u001b[0m\u001b[1;33m]\u001b[0m\u001b[1;33m\u001b[0m\u001b[1;33m\u001b[0m\u001b[0m\n\u001b[0m",
      "\u001b[1;31mNameError\u001b[0m: name 'prediction' is not defined"
     ]
    }
   ],
   "source": [
    "np.argmax(prediction), y_test_in[0]"
   ]
  },
  {
   "cell_type": "markdown",
   "metadata": {},
   "source": [
    "# Laden eines Bildes"
   ]
  },
  {
   "cell_type": "code",
   "execution_count": 20,
   "metadata": {},
   "outputs": [],
   "source": [
    "from PIL import Image"
   ]
  },
  {
   "cell_type": "code",
   "execution_count": 21,
   "metadata": {},
   "outputs": [],
   "source": [
    "my8 = Image.open('number8.png')"
   ]
  },
  {
   "cell_type": "code",
   "execution_count": 22,
   "metadata": {},
   "outputs": [
    {
     "data": {
      "image/png": "[encoded data removed]",
      "text/plain": [
       "<PIL.PngImagePlugin.PngImageFile image mode=RGB size=28x28 at 0x23C1C61CB20>"
      ]
     },
     "execution_count": 22,
     "metadata": {},
     "output_type": "execute_result"
    }
   ],
   "source": [
    "my8"
   ]
  },
  {
   "cell_type": "code",
   "execution_count": 23,
   "metadata": {},
   "outputs": [],
   "source": [
    "my8_gray = my8.convert('L')"
   ]
  },
  {
   "cell_type": "code",
   "execution_count": 24,
   "metadata": {},
   "outputs": [],
   "source": [
    "my_8_array = 255 - np.array(my8_gray)"
   ]
  },
  {
   "cell_type": "code",
   "execution_count": 25,
   "metadata": {},
   "outputs": [
    {
     "data": {
      "text/plain": [
       "(28, 28)"
      ]
     },
     "execution_count": 25,
     "metadata": {},
     "output_type": "execute_result"
    }
   ],
   "source": [
    "my_8_array.shape"
   ]
  },
  {
   "cell_type": "code",
   "execution_count": 26,
   "metadata": {},
   "outputs": [],
   "source": [
    "my_8_input = my_8_array.reshape((1, 28, 28, 1)).astype('float32') / 255"
   ]
  },
  {
   "cell_type": "code",
   "execution_count": 27,
   "metadata": {},
   "outputs": [
    {
     "ename": "NameError",
     "evalue": "name 'loaded_model' is not defined",
     "output_type": "error",
     "traceback": [
      "\u001b[1;31m---------------------------------------------------------------------------\u001b[0m",
      "\u001b[1;31mNameError\u001b[0m                                 Traceback (most recent call last)",
      "\u001b[1;32m<ipython-input-27-a3ab52c3dfe2>\u001b[0m in \u001b[0;36m<module>\u001b[1;34m\u001b[0m\n\u001b[1;32m----> 1\u001b[1;33m \u001b[0mmy_8_prediction\u001b[0m \u001b[1;33m=\u001b[0m \u001b[0mloaded_model\u001b[0m\u001b[1;33m.\u001b[0m\u001b[0mpredict\u001b[0m\u001b[1;33m(\u001b[0m\u001b[0mmy_8_input\u001b[0m\u001b[1;33m)\u001b[0m\u001b[1;33m\u001b[0m\u001b[1;33m\u001b[0m\u001b[0m\n\u001b[0m\u001b[0;32m      2\u001b[0m \u001b[0mnp\u001b[0m\u001b[1;33m.\u001b[0m\u001b[0margmax\u001b[0m\u001b[1;33m(\u001b[0m\u001b[0mmy_8_prediction\u001b[0m\u001b[1;33m)\u001b[0m\u001b[1;33m,\u001b[0m \u001b[0mnp\u001b[0m\u001b[1;33m.\u001b[0m\u001b[0mmin\u001b[0m\u001b[1;33m(\u001b[0m\u001b[0mmy_8_input\u001b[0m\u001b[1;33m)\u001b[0m\u001b[1;33m,\u001b[0m \u001b[0mnp\u001b[0m\u001b[1;33m.\u001b[0m\u001b[0mmax\u001b[0m\u001b[1;33m(\u001b[0m\u001b[0mmy_8_input\u001b[0m\u001b[1;33m)\u001b[0m\u001b[1;33m\u001b[0m\u001b[1;33m\u001b[0m\u001b[0m\n",
      "\u001b[1;31mNameError\u001b[0m: name 'loaded_model' is not defined"
     ]
    }
   ],
   "source": [
    "my_8_prediction = loaded_model.predict(my_8_input)\n",
    "np.argmax(my_8_prediction), np.min(my_8_input), np.max(my_8_input)"
   ]
  },
  {
   "cell_type": "code",
   "execution_count": 138,
   "metadata": {},
   "outputs": [],
   "source": [
    "def plot_datapoint(mnist_img):\n",
    "\n",
    "    plt.figure(figsize = (10,10))\n",
    "    plt.imshow(mnist_img, cmap=\"Greys\")\n",
    "\n",
    "    # Get the `Axes` instance on the current figure\n",
    "    ax = plt.gca()\n",
    "\n",
    "    plt.tick_params(\n",
    "        axis='both', which='major', bottom=True, left=True,\n",
    "        labelbottom=False, labelleft=False)\n",
    "\n",
    "    plt.tick_params(\n",
    "        axis='both', which='minor', bottom=False, left=False,\n",
    "        labelbottom=True, labelleft=True)\n",
    "\n",
    "    ax.set_xticks(np.arange(-.5, 28, 1))\n",
    "    ax.set_yticks(np.arange(-.5, 28, 1))\n",
    "\n",
    "    ax.set_xticks(np.arange(0, 28, 1), minor=True);\n",
    "    ax.set_xticklabels([str(i) for i in np.arange(0, 28, 1)], minor=True);\n",
    "    ax.set_yticks(np.arange(0, 28, 1), minor=True);\n",
    "    ax.set_yticklabels([str(i) for i in np.arange(0, 28, 1)], minor=True);\n",
    "\n",
    "    ax.grid(color='black', linestyle='-', linewidth=1.5)\n",
    "    plt.colorbar(fraction=0.046, pad=0.04, ticks=[0,32,64,96,128,160,192,224,255])"
   ]
  },
  {
   "cell_type": "code",
   "execution_count": 139,
   "metadata": {},
   "outputs": [
    {
     "data": {
      "text/plain": [
       "((60000, 28, 28), (28, 28))"
      ]
     },
     "execution_count": 139,
     "metadata": {},
     "output_type": "execute_result"
    }
   ],
   "source": [
    "X_train_in.shape, X_train_in[0].shape"
   ]
  },
  {
   "cell_type": "code",
   "execution_count": 121,
   "metadata": {},
   "outputs": [
    {
     "data": {
      "image/png": "[encoded data removed]",
      "text/plain": [
       "<Figure size 720x720 with 2 Axes>"
      ]
     },
     "metadata": {
      "needs_background": "light"
     },
     "output_type": "display_data"
    }
   ],
   "source": [
    "plot_datapoint(my8_gray)"
   ]
  },
  {
   "cell_type": "markdown",
   "metadata": {
    "slideshow": {
     "slide_type": "slide"
    }
   },
   "source": [
    "## Overfitting durch zu großes Modell\n",
    "\n",
    "Das folgende Modell ist zu groß für das Problem. Dadurch kommt es zu Overfitting:"
   ]
  },
  {
   "cell_type": "code",
   "execution_count": 140,
   "metadata": {
    "slideshow": {
     "slide_type": "subslide"
    }
   },
   "outputs": [],
   "source": [
    "def create_overfitting_model():\n",
    "    model = Sequential([\n",
    "        Input(shape=(28, 28, 1)),\n",
    "        Flatten(),\n",
    "        Dense(512, activation='relu'),\n",
    "        Dense(512, activation='relu'),\n",
    "        Dense(512, activation='relu'),\n",
    "        Dense(512, activation='relu'),\n",
    "        Dense(n_classes, activation='softmax')\n",
    "        ])\n",
    "    return model"
   ]
  },
  {
   "cell_type": "code",
   "execution_count": 141,
   "metadata": {
    "slideshow": {
     "slide_type": "subslide"
    }
   },
   "outputs": [
    {
     "name": "stdout",
     "output_type": "stream",
     "text": [
      "Model: \"sequential_12\"\n",
      "_________________________________________________________________\n",
      "Layer (type)                 Output Shape              Param #   \n",
      "=================================================================\n",
      "flatten_12 (Flatten)         (None, 784)               0         \n",
      "_________________________________________________________________\n",
      "dense_24 (Dense)             (None, 512)               401920    \n",
      "_________________________________________________________________\n",
      "dense_25 (Dense)             (None, 512)               262656    \n",
      "_________________________________________________________________\n",
      "dense_26 (Dense)             (None, 512)               262656    \n",
      "_________________________________________________________________\n",
      "dense_27 (Dense)             (None, 512)               262656    \n",
      "_________________________________________________________________\n",
      "dense_28 (Dense)             (None, 10)                5130      \n",
      "=================================================================\n",
      "Total params: 1,195,018\n",
      "Trainable params: 1,195,018\n",
      "Non-trainable params: 0\n",
      "_________________________________________________________________\n"
     ]
    }
   ],
   "source": [
    "overfitting_model = create_overfitting_model()\n",
    "overfitting_model.compile(loss='categorical_crossentropy',\n",
    "                          optimizer='adam',\n",
    "                          metrics=['accuracy',\n",
    "                                   Precision(class_id=0, name='precision'),\n",
    "                                   Recall(class_id=0, name='recall')])\n",
    "overfitting_model.summary()"
   ]
  },
  {
   "cell_type": "code",
   "execution_count": 142,
   "metadata": {
    "slideshow": {
     "slide_type": "subslide"
    }
   },
   "outputs": [],
   "source": [
    "def train_overfitting_model(model, X_train, y_train, tensor_board_suffix, epochs=40):\n",
    "    tensorboard = TensorBoard(f'logs/deep-net-{tensor_board_suffix}')\n",
    "    model.fit(X_train, y_train,\n",
    "              batch_size=16,\n",
    "              epochs=epochs, verbose=1,\n",
    "              validation_data=(X_test, y_test),\n",
    "              callbacks=[tensorboard])"
   ]
  },
  {
   "cell_type": "code",
   "execution_count": 143,
   "metadata": {
    "slideshow": {
     "slide_type": "subslide"
    }
   },
   "outputs": [
    {
     "name": "stdout",
     "output_type": "stream",
     "text": [
      "Epoch 1/100\n",
      " 2/38 [>.............................] - ETA: 31s - loss: 2.2621 - accuracy: 0.1562 - precision: 0.0000e+00 - recall: 0.0000e+00WARNING:tensorflow:Method (on_train_batch_end) is slow compared to the batch update (0.917140). Check your callbacks.\n",
      "38/38 [==============================] - 4s 96ms/step - loss: 1.1918 - accuracy: 0.6350 - precision: 0.9024 - recall: 0.6379 - val_loss: 0.8427 - val_accuracy: 0.7403 - val_precision: 0.9694 - val_recall: 0.8724\n",
      "Epoch 2/100\n",
      "38/38 [==============================] - 1s 38ms/step - loss: 0.4205 - accuracy: 0.8517 - precision: 0.9649 - recall: 0.9483 - val_loss: 0.5628 - val_accuracy: 0.8295 - val_precision: 0.8438 - val_recall: 0.9643\n",
      "Epoch 3/100\n",
      "38/38 [==============================] - 1s 38ms/step - loss: 0.1779 - accuracy: 0.9467 - precision: 0.9828 - recall: 0.9828 - val_loss: 0.5437 - val_accuracy: 0.8552 - val_precision: 0.9819 - val_recall: 0.8286\n",
      "Epoch 4/100\n",
      "38/38 [==============================] - 1s 38ms/step - loss: 0.0857 - accuracy: 0.9733 - precision: 1.0000 - recall: 1.0000 - val_loss: 0.6470 - val_accuracy: 0.8395 - val_precision: 0.9302 - val_recall: 0.9388\n",
      "Epoch 5/100\n",
      "38/38 [==============================] - 2s 45ms/step - loss: 0.0284 - accuracy: 0.9967 - precision: 1.0000 - recall: 1.0000 - val_loss: 0.6374 - val_accuracy: 0.8536 - val_precision: 0.9167 - val_recall: 0.9653\n",
      "Epoch 6/100\n",
      "38/38 [==============================] - 2s 49ms/step - loss: 0.0136 - accuracy: 0.9933 - precision: 1.0000 - recall: 1.0000 - val_loss: 0.7375 - val_accuracy: 0.8440 - val_precision: 0.9487 - val_recall: 0.8296\n",
      "Epoch 7/100\n",
      "38/38 [==============================] - 1s 36ms/step - loss: 0.0784 - accuracy: 0.9733 - precision: 0.9322 - recall: 0.9483 - val_loss: 0.9706 - val_accuracy: 0.8074 - val_precision: 0.9052 - val_recall: 0.9061\n",
      "Epoch 8/100\n",
      "38/38 [==============================] - 2s 40ms/step - loss: 0.1744 - accuracy: 0.9500 - precision: 1.0000 - recall: 0.9655 - val_loss: 0.6240 - val_accuracy: 0.8422 - val_precision: 0.8141 - val_recall: 0.9694\n",
      "Epoch 9/100\n",
      "38/38 [==============================] - 2s 40ms/step - loss: 0.0572 - accuracy: 0.9817 - precision: 0.9655 - recall: 0.9655 - val_loss: 0.7700 - val_accuracy: 0.8563 - val_precision: 0.8336 - val_recall: 0.9765\n",
      "Epoch 10/100\n",
      "38/38 [==============================] - 1s 38ms/step - loss: 0.0467 - accuracy: 0.9900 - precision: 1.0000 - recall: 0.9828 - val_loss: 0.8396 - val_accuracy: 0.8358 - val_precision: 0.8817 - val_recall: 0.9204\n",
      "Epoch 11/100\n",
      "38/38 [==============================] - 1s 36ms/step - loss: 0.0403 - accuracy: 0.9917 - precision: 0.9831 - recall: 1.0000 - val_loss: 0.8330 - val_accuracy: 0.8295 - val_precision: 0.9123 - val_recall: 0.9337\n",
      "Epoch 12/100\n",
      "38/38 [==============================] - 1s 38ms/step - loss: 0.0513 - accuracy: 0.9850 - precision: 1.0000 - recall: 1.0000 - val_loss: 0.8412 - val_accuracy: 0.8288 - val_precision: 0.8770 - val_recall: 0.9673\n",
      "Epoch 13/100\n",
      "38/38 [==============================] - 2s 41ms/step - loss: 0.0106 - accuracy: 0.9967 - precision: 1.0000 - recall: 1.0000 - val_loss: 0.7320 - val_accuracy: 0.8638 - val_precision: 0.8434 - val_recall: 0.9724\n",
      "Epoch 14/100\n",
      "38/38 [==============================] - 1s 38ms/step - loss: 0.0111 - accuracy: 0.9967 - precision: 1.0000 - recall: 1.0000 - val_loss: 0.8562 - val_accuracy: 0.8540 - val_precision: 0.9017 - val_recall: 0.9643\n",
      "Epoch 15/100\n",
      "38/38 [==============================] - 1s 35ms/step - loss: 0.0180 - accuracy: 0.9950 - precision: 1.0000 - recall: 1.0000 - val_loss: 0.9307 - val_accuracy: 0.8467 - val_precision: 0.8676 - val_recall: 0.9633\n",
      "Epoch 16/100\n",
      "38/38 [==============================] - 1s 35ms/step - loss: 0.0269 - accuracy: 0.9933 - precision: 1.0000 - recall: 1.0000 - val_loss: 0.8181 - val_accuracy: 0.8572 - val_precision: 0.8865 - val_recall: 0.9327\n",
      "Epoch 17/100\n",
      "38/38 [==============================] - 1s 37ms/step - loss: 8.1217e-04 - accuracy: 1.0000 - precision: 1.0000 - recall: 1.0000 - val_loss: 0.7622 - val_accuracy: 0.8673 - val_precision: 0.8666 - val_recall: 0.9745\n",
      "Epoch 18/100\n",
      "38/38 [==============================] - 1s 35ms/step - loss: 1.0608e-04 - accuracy: 1.0000 - precision: 1.0000 - recall: 1.0000 - val_loss: 0.7646 - val_accuracy: 0.8684 - val_precision: 0.8682 - val_recall: 0.9745\n",
      "Epoch 19/100\n",
      "38/38 [==============================] - 1s 35ms/step - loss: 7.8172e-05 - accuracy: 1.0000 - precision: 1.0000 - recall: 1.0000 - val_loss: 0.7691 - val_accuracy: 0.8688 - val_precision: 0.8706 - val_recall: 0.9745\n",
      "Epoch 20/100\n",
      "38/38 [==============================] - 1s 37ms/step - loss: 6.2693e-05 - accuracy: 1.0000 - precision: 1.0000 - recall: 1.0000 - val_loss: 0.7729 - val_accuracy: 0.8686 - val_precision: 0.8728 - val_recall: 0.9735\n",
      "Epoch 21/100\n",
      "38/38 [==============================] - 1s 36ms/step - loss: 5.3056e-05 - accuracy: 1.0000 - precision: 1.0000 - recall: 1.0000 - val_loss: 0.7786 - val_accuracy: 0.8692 - val_precision: 0.8729 - val_recall: 0.9745\n",
      "Epoch 22/100\n",
      "38/38 [==============================] - 1s 35ms/step - loss: 4.4645e-05 - accuracy: 1.0000 - precision: 1.0000 - recall: 1.0000 - val_loss: 0.7842 - val_accuracy: 0.8690 - val_precision: 0.8736 - val_recall: 0.9735\n",
      "Epoch 23/100\n",
      "38/38 [==============================] - 1s 35ms/step - loss: 3.7973e-05 - accuracy: 1.0000 - precision: 1.0000 - recall: 1.0000 - val_loss: 0.7890 - val_accuracy: 0.8697 - val_precision: 0.8736 - val_recall: 0.9735\n",
      "Epoch 24/100\n",
      "38/38 [==============================] - 1s 35ms/step - loss: 3.2266e-05 - accuracy: 1.0000 - precision: 1.0000 - recall: 1.0000 - val_loss: 0.7956 - val_accuracy: 0.8697 - val_precision: 0.8736 - val_recall: 0.9735\n",
      "Epoch 25/100\n",
      "38/38 [==============================] - 1s 34ms/step - loss: 2.7592e-05 - accuracy: 1.0000 - precision: 1.0000 - recall: 1.0000 - val_loss: 0.8013 - val_accuracy: 0.8704 - val_precision: 0.8736 - val_recall: 0.9735\n",
      "Epoch 26/100\n",
      "38/38 [==============================] - 1s 34ms/step - loss: 2.3334e-05 - accuracy: 1.0000 - precision: 1.0000 - recall: 1.0000 - val_loss: 0.8090 - val_accuracy: 0.8707 - val_precision: 0.8760 - val_recall: 0.9735\n",
      "Epoch 27/100\n",
      "38/38 [==============================] - 1s 38ms/step - loss: 1.9758e-05 - accuracy: 1.0000 - precision: 1.0000 - recall: 1.0000 - val_loss: 0.8178 - val_accuracy: 0.8705 - val_precision: 0.8760 - val_recall: 0.9735\n",
      "Epoch 28/100\n",
      "38/38 [==============================] - 1s 37ms/step - loss: 1.6732e-05 - accuracy: 1.0000 - precision: 1.0000 - recall: 1.0000 - val_loss: 0.8265 - val_accuracy: 0.8703 - val_precision: 0.8793 - val_recall: 0.9735\n",
      "Epoch 29/100\n",
      "38/38 [==============================] - 1s 36ms/step - loss: 1.4037e-05 - accuracy: 1.0000 - precision: 1.0000 - recall: 1.0000 - val_loss: 0.8362 - val_accuracy: 0.8705 - val_precision: 0.8801 - val_recall: 0.9735\n",
      "Epoch 30/100\n",
      "38/38 [==============================] - 2s 41ms/step - loss: 1.1646e-05 - accuracy: 1.0000 - precision: 1.0000 - recall: 1.0000 - val_loss: 0.8450 - val_accuracy: 0.8711 - val_precision: 0.8833 - val_recall: 0.9735\n",
      "Epoch 31/100\n",
      "38/38 [==============================] - 1s 36ms/step - loss: 9.8538e-06 - accuracy: 1.0000 - precision: 1.0000 - recall: 1.0000 - val_loss: 0.8560 - val_accuracy: 0.8709 - val_precision: 0.8833 - val_recall: 0.9735\n",
      "Epoch 32/100\n",
      "38/38 [==============================] - 2s 40ms/step - loss: 8.2704e-06 - accuracy: 1.0000 - precision: 1.0000 - recall: 1.0000 - val_loss: 0.8656 - val_accuracy: 0.8714 - val_precision: 0.8833 - val_recall: 0.9735\n",
      "Epoch 33/100\n",
      "38/38 [==============================] - 2s 40ms/step - loss: 7.0955e-06 - accuracy: 1.0000 - precision: 1.0000 - recall: 1.0000 - val_loss: 0.8761 - val_accuracy: 0.8716 - val_precision: 0.8825 - val_recall: 0.9735\n",
      "Epoch 34/100\n",
      "38/38 [==============================] - 2s 41ms/step - loss: 6.0837e-06 - accuracy: 1.0000 - precision: 1.0000 - recall: 1.0000 - val_loss: 0.8854 - val_accuracy: 0.8712 - val_precision: 0.8825 - val_recall: 0.9735\n",
      "Epoch 35/100\n",
      "38/38 [==============================] - 1s 38ms/step - loss: 5.2871e-06 - accuracy: 1.0000 - precision: 1.0000 - recall: 1.0000 - val_loss: 0.8938 - val_accuracy: 0.8714 - val_precision: 0.8834 - val_recall: 0.9745\n",
      "Epoch 36/100\n"
     ]
    },
    {
     "name": "stdout",
     "output_type": "stream",
     "text": [
      "38/38 [==============================] - 1s 37ms/step - loss: 4.6243e-06 - accuracy: 1.0000 - precision: 1.0000 - recall: 1.0000 - val_loss: 0.9026 - val_accuracy: 0.8713 - val_precision: 0.8834 - val_recall: 0.9745\n",
      "Epoch 37/100\n",
      "38/38 [==============================] - 1s 39ms/step - loss: 4.1018e-06 - accuracy: 1.0000 - precision: 1.0000 - recall: 1.0000 - val_loss: 0.9118 - val_accuracy: 0.8712 - val_precision: 0.8834 - val_recall: 0.9745\n",
      "Epoch 38/100\n",
      "38/38 [==============================] - 1s 38ms/step - loss: 3.6252e-06 - accuracy: 1.0000 - precision: 1.0000 - recall: 1.0000 - val_loss: 0.9198 - val_accuracy: 0.8712 - val_precision: 0.8826 - val_recall: 0.9745\n",
      "Epoch 39/100\n",
      "38/38 [==============================] - 1s 39ms/step - loss: 3.2042e-06 - accuracy: 1.0000 - precision: 1.0000 - recall: 1.0000 - val_loss: 0.9279 - val_accuracy: 0.8710 - val_precision: 0.8818 - val_recall: 0.9745\n",
      "Epoch 40/100\n",
      "38/38 [==============================] - 1s 37ms/step - loss: 2.8558e-06 - accuracy: 1.0000 - precision: 1.0000 - recall: 1.0000 - val_loss: 0.9349 - val_accuracy: 0.8711 - val_precision: 0.8810 - val_recall: 0.9745\n",
      "Epoch 41/100\n",
      "38/38 [==============================] - 1s 36ms/step - loss: 2.5908e-06 - accuracy: 1.0000 - precision: 1.0000 - recall: 1.0000 - val_loss: 0.9424 - val_accuracy: 0.8710 - val_precision: 0.8810 - val_recall: 0.9745\n",
      "Epoch 42/100\n",
      "38/38 [==============================] - 1s 36ms/step - loss: 2.3001e-06 - accuracy: 1.0000 - precision: 1.0000 - recall: 1.0000 - val_loss: 0.9508 - val_accuracy: 0.8711 - val_precision: 0.8810 - val_recall: 0.9745\n",
      "Epoch 43/100\n",
      "38/38 [==============================] - 1s 37ms/step - loss: 2.0941e-06 - accuracy: 1.0000 - precision: 1.0000 - recall: 1.0000 - val_loss: 0.9586 - val_accuracy: 0.8714 - val_precision: 0.8810 - val_recall: 0.9745\n",
      "Epoch 44/100\n",
      "38/38 [==============================] - 1s 37ms/step - loss: 1.8714e-06 - accuracy: 1.0000 - precision: 1.0000 - recall: 1.0000 - val_loss: 0.9666 - val_accuracy: 0.8710 - val_precision: 0.8794 - val_recall: 0.9745\n",
      "Epoch 45/100\n",
      "38/38 [==============================] - 1s 38ms/step - loss: 1.6872e-06 - accuracy: 1.0000 - precision: 1.0000 - recall: 1.0000 - val_loss: 0.9749 - val_accuracy: 0.8711 - val_precision: 0.8786 - val_recall: 0.9745\n",
      "Epoch 46/100\n",
      "38/38 [==============================] - 1s 39ms/step - loss: 1.5463e-06 - accuracy: 1.0000 - precision: 1.0000 - recall: 1.0000 - val_loss: 0.9822 - val_accuracy: 0.8714 - val_precision: 0.8786 - val_recall: 0.9745\n",
      "Epoch 47/100\n",
      "38/38 [==============================] - 1s 38ms/step - loss: 1.4021e-06 - accuracy: 1.0000 - precision: 1.0000 - recall: 1.0000 - val_loss: 0.9882 - val_accuracy: 0.8713 - val_precision: 0.8786 - val_recall: 0.9745\n",
      "Epoch 48/100\n",
      "38/38 [==============================] - 2s 40ms/step - loss: 1.2745e-06 - accuracy: 1.0000 - precision: 1.0000 - recall: 1.0000 - val_loss: 0.9944 - val_accuracy: 0.8716 - val_precision: 0.8778 - val_recall: 0.9745\n",
      "Epoch 49/100\n",
      "38/38 [==============================] - 1s 36ms/step - loss: 1.1774e-06 - accuracy: 1.0000 - precision: 1.0000 - recall: 1.0000 - val_loss: 1.0016 - val_accuracy: 0.8714 - val_precision: 0.8778 - val_recall: 0.9745\n",
      "Epoch 50/100\n",
      "38/38 [==============================] - 1s 35ms/step - loss: 1.0743e-06 - accuracy: 1.0000 - precision: 1.0000 - recall: 1.0000 - val_loss: 1.0079 - val_accuracy: 0.8716 - val_precision: 0.8778 - val_recall: 0.9745\n",
      "Epoch 51/100\n",
      "38/38 [==============================] - 1s 36ms/step - loss: 1.0137e-06 - accuracy: 1.0000 - precision: 1.0000 - recall: 1.0000 - val_loss: 1.0120 - val_accuracy: 0.8716 - val_precision: 0.8778 - val_recall: 0.9745\n",
      "Epoch 52/100\n",
      "38/38 [==============================] - 2s 40ms/step - loss: 9.2625e-07 - accuracy: 1.0000 - precision: 1.0000 - recall: 1.0000 - val_loss: 1.0192 - val_accuracy: 0.8712 - val_precision: 0.8778 - val_recall: 0.9745\n",
      "Epoch 53/100\n",
      "38/38 [==============================] - 1s 38ms/step - loss: 8.6287e-07 - accuracy: 1.0000 - precision: 1.0000 - recall: 1.0000 - val_loss: 1.0233 - val_accuracy: 0.8714 - val_precision: 0.8778 - val_recall: 0.9745\n",
      "Epoch 54/100\n",
      "38/38 [==============================] - 1s 38ms/step - loss: 8.0784e-07 - accuracy: 1.0000 - precision: 1.0000 - recall: 1.0000 - val_loss: 1.0284 - val_accuracy: 0.8714 - val_precision: 0.8778 - val_recall: 0.9745\n",
      "Epoch 55/100\n",
      "38/38 [==============================] - 2s 44ms/step - loss: 7.6174e-07 - accuracy: 1.0000 - precision: 1.0000 - recall: 1.0000 - val_loss: 1.0332 - val_accuracy: 0.8716 - val_precision: 0.8778 - val_recall: 0.9745\n",
      "Epoch 56/100\n",
      "38/38 [==============================] - 2s 40ms/step - loss: 7.1366e-07 - accuracy: 1.0000 - precision: 1.0000 - recall: 1.0000 - val_loss: 1.0382 - val_accuracy: 0.8713 - val_precision: 0.8779 - val_recall: 0.9755\n",
      "Epoch 57/100\n",
      "38/38 [==============================] - 2s 42ms/step - loss: 6.6677e-07 - accuracy: 1.0000 - precision: 1.0000 - recall: 1.0000 - val_loss: 1.0423 - val_accuracy: 0.8715 - val_precision: 0.8779 - val_recall: 0.9755\n",
      "Epoch 58/100\n",
      "38/38 [==============================] - 1s 36ms/step - loss: 6.3200e-07 - accuracy: 1.0000 - precision: 1.0000 - recall: 1.0000 - val_loss: 1.0452 - val_accuracy: 0.8713 - val_precision: 0.8779 - val_recall: 0.9755\n",
      "Epoch 59/100\n",
      "38/38 [==============================] - 1s 36ms/step - loss: 5.9644e-07 - accuracy: 1.0000 - precision: 1.0000 - recall: 1.0000 - val_loss: 1.0503 - val_accuracy: 0.8713 - val_precision: 0.8779 - val_recall: 0.9755\n",
      "Epoch 60/100\n",
      "38/38 [==============================] - 1s 38ms/step - loss: 5.6624e-07 - accuracy: 1.0000 - precision: 1.0000 - recall: 1.0000 - val_loss: 1.0539 - val_accuracy: 0.8711 - val_precision: 0.8771 - val_recall: 0.9755\n",
      "Epoch 61/100\n",
      "38/38 [==============================] - 1s 37ms/step - loss: 5.3644e-07 - accuracy: 1.0000 - precision: 1.0000 - recall: 1.0000 - val_loss: 1.0570 - val_accuracy: 0.8713 - val_precision: 0.8786 - val_recall: 0.9745\n",
      "Epoch 62/100\n",
      "38/38 [==============================] - 1s 38ms/step - loss: 5.1021e-07 - accuracy: 1.0000 - precision: 1.0000 - recall: 1.0000 - val_loss: 1.0611 - val_accuracy: 0.8712 - val_precision: 0.8771 - val_recall: 0.9755\n",
      "Epoch 63/100\n",
      "38/38 [==============================] - 2s 40ms/step - loss: 4.8597e-07 - accuracy: 1.0000 - precision: 1.0000 - recall: 1.0000 - val_loss: 1.0643 - val_accuracy: 0.8713 - val_precision: 0.8778 - val_recall: 0.9745\n",
      "Epoch 64/100\n",
      "38/38 [==============================] - 1s 37ms/step - loss: 4.6452e-07 - accuracy: 1.0000 - precision: 1.0000 - recall: 1.0000 - val_loss: 1.0679 - val_accuracy: 0.8711 - val_precision: 0.8786 - val_recall: 0.9745\n",
      "Epoch 65/100\n",
      "38/38 [==============================] - 1s 39ms/step - loss: 4.4087e-07 - accuracy: 1.0000 - precision: 1.0000 - recall: 1.0000 - val_loss: 1.0712 - val_accuracy: 0.8713 - val_precision: 0.8778 - val_recall: 0.9745\n",
      "Epoch 66/100\n",
      "38/38 [==============================] - 1s 36ms/step - loss: 4.2299e-07 - accuracy: 1.0000 - precision: 1.0000 - recall: 1.0000 - val_loss: 1.0746 - val_accuracy: 0.8713 - val_precision: 0.8786 - val_recall: 0.9745\n",
      "Epoch 67/100\n",
      "38/38 [==============================] - 1s 38ms/step - loss: 4.0511e-07 - accuracy: 1.0000 - precision: 1.0000 - recall: 1.0000 - val_loss: 1.0784 - val_accuracy: 0.8707 - val_precision: 0.8778 - val_recall: 0.9745\n",
      "Epoch 68/100\n",
      "38/38 [==============================] - 1s 36ms/step - loss: 3.8882e-07 - accuracy: 1.0000 - precision: 1.0000 - recall: 1.0000 - val_loss: 1.0806 - val_accuracy: 0.8708 - val_precision: 0.8786 - val_recall: 0.9745\n",
      "Epoch 69/100\n",
      "38/38 [==============================] - 1s 34ms/step - loss: 3.7213e-07 - accuracy: 1.0000 - precision: 1.0000 - recall: 1.0000 - val_loss: 1.0833 - val_accuracy: 0.8711 - val_precision: 0.8786 - val_recall: 0.9745\n",
      "Epoch 70/100\n",
      "38/38 [==============================] - 1s 36ms/step - loss: 3.5743e-07 - accuracy: 1.0000 - precision: 1.0000 - recall: 1.0000 - val_loss: 1.0865 - val_accuracy: 0.8707 - val_precision: 0.8786 - val_recall: 0.9745\n",
      "Epoch 71/100\n",
      "38/38 [==============================] - 1s 34ms/step - loss: 3.4292e-07 - accuracy: 1.0000 - precision: 1.0000 - recall: 1.0000 - val_loss: 1.0892 - val_accuracy: 0.8707 - val_precision: 0.8786 - val_recall: 0.9745\n"
     ]
    },
    {
     "name": "stdout",
     "output_type": "stream",
     "text": [
      "Epoch 72/100\n",
      "38/38 [==============================] - 1s 36ms/step - loss: 3.3021e-07 - accuracy: 1.0000 - precision: 1.0000 - recall: 1.0000 - val_loss: 1.0913 - val_accuracy: 0.8706 - val_precision: 0.8793 - val_recall: 0.9735\n",
      "Epoch 73/100\n",
      "38/38 [==============================] - 1s 36ms/step - loss: 3.1511e-07 - accuracy: 1.0000 - precision: 1.0000 - recall: 1.0000 - val_loss: 1.0942 - val_accuracy: 0.8705 - val_precision: 0.8794 - val_recall: 0.9745\n",
      "Epoch 74/100\n",
      "38/38 [==============================] - 2s 41ms/step - loss: 3.0478e-07 - accuracy: 1.0000 - precision: 1.0000 - recall: 1.0000 - val_loss: 1.0986 - val_accuracy: 0.8702 - val_precision: 0.8778 - val_recall: 0.9745\n",
      "Epoch 75/100\n",
      "38/38 [==============================] - 2s 41ms/step - loss: 2.9127e-07 - accuracy: 1.0000 - precision: 1.0000 - recall: 1.0000 - val_loss: 1.1015 - val_accuracy: 0.8704 - val_precision: 0.8786 - val_recall: 0.9745\n",
      "Epoch 76/100\n",
      "38/38 [==============================] - 1s 37ms/step - loss: 2.7954e-07 - accuracy: 1.0000 - precision: 1.0000 - recall: 1.0000 - val_loss: 1.1030 - val_accuracy: 0.8701 - val_precision: 0.8770 - val_recall: 0.9745\n",
      "Epoch 77/100\n",
      "38/38 [==============================] - 1s 35ms/step - loss: 2.7100e-07 - accuracy: 1.0000 - precision: 1.0000 - recall: 1.0000 - val_loss: 1.1054 - val_accuracy: 0.8702 - val_precision: 0.8794 - val_recall: 0.9745\n",
      "Epoch 78/100\n",
      "38/38 [==============================] - 1s 36ms/step - loss: 2.6067e-07 - accuracy: 1.0000 - precision: 1.0000 - recall: 1.0000 - val_loss: 1.1077 - val_accuracy: 0.8703 - val_precision: 0.8794 - val_recall: 0.9745\n",
      "Epoch 79/100\n",
      "38/38 [==============================] - 1s 33ms/step - loss: 2.5213e-07 - accuracy: 1.0000 - precision: 1.0000 - recall: 1.0000 - val_loss: 1.1108 - val_accuracy: 0.8703 - val_precision: 0.8794 - val_recall: 0.9745\n",
      "Epoch 80/100\n",
      "38/38 [==============================] - 1s 37ms/step - loss: 2.4299e-07 - accuracy: 1.0000 - precision: 1.0000 - recall: 1.0000 - val_loss: 1.1133 - val_accuracy: 0.8703 - val_precision: 0.8794 - val_recall: 0.9745\n",
      "Epoch 81/100\n",
      "38/38 [==============================] - 1s 39ms/step - loss: 2.3544e-07 - accuracy: 1.0000 - precision: 1.0000 - recall: 1.0000 - val_loss: 1.1154 - val_accuracy: 0.8703 - val_precision: 0.8794 - val_recall: 0.9745\n",
      "Epoch 82/100\n",
      "38/38 [==============================] - 1s 39ms/step - loss: 2.2670e-07 - accuracy: 1.0000 - precision: 1.0000 - recall: 1.0000 - val_loss: 1.1186 - val_accuracy: 0.8702 - val_precision: 0.8786 - val_recall: 0.9745\n",
      "Epoch 83/100\n",
      "38/38 [==============================] - 1s 38ms/step - loss: 2.1875e-07 - accuracy: 1.0000 - precision: 1.0000 - recall: 1.0000 - val_loss: 1.1205 - val_accuracy: 0.8703 - val_precision: 0.8801 - val_recall: 0.9735\n",
      "Epoch 84/100\n",
      "38/38 [==============================] - 2s 41ms/step - loss: 2.1358e-07 - accuracy: 1.0000 - precision: 1.0000 - recall: 1.0000 - val_loss: 1.1231 - val_accuracy: 0.8704 - val_precision: 0.8802 - val_recall: 0.9745\n",
      "Epoch 85/100\n",
      "38/38 [==============================] - 2s 42ms/step - loss: 2.0723e-07 - accuracy: 1.0000 - precision: 1.0000 - recall: 1.0000 - val_loss: 1.1255 - val_accuracy: 0.8703 - val_precision: 0.8802 - val_recall: 0.9745\n",
      "Epoch 86/100\n",
      "38/38 [==============================] - 2s 45ms/step - loss: 1.9948e-07 - accuracy: 1.0000 - precision: 1.0000 - recall: 1.0000 - val_loss: 1.1276 - val_accuracy: 0.8703 - val_precision: 0.8794 - val_recall: 0.9745\n",
      "Epoch 87/100\n",
      "38/38 [==============================] - 1s 38ms/step - loss: 1.9491e-07 - accuracy: 1.0000 - precision: 1.0000 - recall: 1.0000 - val_loss: 1.1294 - val_accuracy: 0.8703 - val_precision: 0.8802 - val_recall: 0.9745\n",
      "Epoch 88/100\n",
      "38/38 [==============================] - 1s 38ms/step - loss: 1.8835e-07 - accuracy: 1.0000 - precision: 1.0000 - recall: 1.0000 - val_loss: 1.1323 - val_accuracy: 0.8701 - val_precision: 0.8794 - val_recall: 0.9745\n",
      "Epoch 89/100\n",
      "38/38 [==============================] - 1s 37ms/step - loss: 1.8358e-07 - accuracy: 1.0000 - precision: 1.0000 - recall: 1.0000 - val_loss: 1.1346 - val_accuracy: 0.8703 - val_precision: 0.8794 - val_recall: 0.9745\n",
      "Epoch 90/100\n",
      "38/38 [==============================] - 2s 40ms/step - loss: 1.7742e-07 - accuracy: 1.0000 - precision: 1.0000 - recall: 1.0000 - val_loss: 1.1356 - val_accuracy: 0.8702 - val_precision: 0.8802 - val_recall: 0.9745\n",
      "Epoch 91/100\n",
      "38/38 [==============================] - 1s 38ms/step - loss: 1.7345e-07 - accuracy: 1.0000 - precision: 1.0000 - recall: 1.0000 - val_loss: 1.1377 - val_accuracy: 0.8703 - val_precision: 0.8794 - val_recall: 0.9745\n",
      "Epoch 92/100\n",
      "38/38 [==============================] - 1s 37ms/step - loss: 1.6868e-07 - accuracy: 1.0000 - precision: 1.0000 - recall: 1.0000 - val_loss: 1.1400 - val_accuracy: 0.8700 - val_precision: 0.8801 - val_recall: 0.9735\n",
      "Epoch 93/100\n",
      "38/38 [==============================] - 1s 38ms/step - loss: 1.6212e-07 - accuracy: 1.0000 - precision: 1.0000 - recall: 1.0000 - val_loss: 1.1425 - val_accuracy: 0.8702 - val_precision: 0.8802 - val_recall: 0.9745\n",
      "Epoch 94/100\n",
      "38/38 [==============================] - 1s 34ms/step - loss: 1.5716e-07 - accuracy: 1.0000 - precision: 1.0000 - recall: 1.0000 - val_loss: 1.1437 - val_accuracy: 0.8701 - val_precision: 0.8802 - val_recall: 0.9745\n",
      "Epoch 95/100\n",
      "38/38 [==============================] - 1s 34ms/step - loss: 1.5398e-07 - accuracy: 1.0000 - precision: 1.0000 - recall: 1.0000 - val_loss: 1.1472 - val_accuracy: 0.8701 - val_precision: 0.8802 - val_recall: 0.9745\n",
      "Epoch 96/100\n",
      "38/38 [==============================] - 1s 38ms/step - loss: 1.5100e-07 - accuracy: 1.0000 - precision: 1.0000 - recall: 1.0000 - val_loss: 1.1487 - val_accuracy: 0.8702 - val_precision: 0.8802 - val_recall: 0.9745\n",
      "Epoch 97/100\n",
      "38/38 [==============================] - 1s 35ms/step - loss: 1.4563e-07 - accuracy: 1.0000 - precision: 1.0000 - recall: 1.0000 - val_loss: 1.1502 - val_accuracy: 0.8701 - val_precision: 0.8802 - val_recall: 0.9745\n",
      "Epoch 98/100\n",
      "38/38 [==============================] - 1s 35ms/step - loss: 1.4245e-07 - accuracy: 1.0000 - precision: 1.0000 - recall: 1.0000 - val_loss: 1.1531 - val_accuracy: 0.8700 - val_precision: 0.8802 - val_recall: 0.9745\n",
      "Epoch 99/100\n",
      "38/38 [==============================] - 1s 37ms/step - loss: 1.3828e-07 - accuracy: 1.0000 - precision: 1.0000 - recall: 1.0000 - val_loss: 1.1545 - val_accuracy: 0.8697 - val_precision: 0.8801 - val_recall: 0.9735\n",
      "Epoch 100/100\n",
      "38/38 [==============================] - 1s 34ms/step - loss: 1.3570e-07 - accuracy: 1.0000 - precision: 1.0000 - recall: 1.0000 - val_loss: 1.1567 - val_accuracy: 0.8698 - val_precision: 0.8801 - val_recall: 0.9735\n"
     ]
    }
   ],
   "source": [
    "train_overfitting_model(overfitting_model, X_train_small, y_train_small, 'overfit', epochs=100)"
   ]
  },
  {
   "cell_type": "markdown",
   "metadata": {
    "slideshow": {
     "slide_type": "slide"
    }
   },
   "source": [
    "## Bessere Netzwerkarchitektur\n",
    "\n",
    "<img src=\"img/ag/Figure-21-008.png\" style=\"width: 30%; margin-left: auto; margin-right: auto; 0\"/>"
   ]
  },
  {
   "cell_type": "markdown",
   "metadata": {
    "slideshow": {
     "slide_type": "subslide"
    }
   },
   "source": [
    "<img src=\"img/ag/Figure-21-009.png\" style=\"width: 40%; margin-left: auto; margin-right: auto; 0\"/>"
   ]
  },
  {
   "cell_type": "markdown",
   "metadata": {
    "slideshow": {
     "slide_type": "subslide"
    }
   },
   "source": [
    "<img src=\"img/ag/Figure-21-043.png\" style=\"width: 40%; margin-left: auto; margin-right: auto; 0\"/>"
   ]
  },
  {
   "cell_type": "code",
   "execution_count": 145,
   "metadata": {
    "pycharm": {
     "name": "#%%\n"
    },
    "slideshow": {
     "slide_type": "subslide"
    }
   },
   "outputs": [],
   "source": [
    "def create_conv_model():\n",
    "    model = Sequential()\n",
    "    model.add(Conv2D(32,\n",
    "                     kernel_size=(3, 3),\n",
    "                     activation='relu',\n",
    "                     input_shape=(28, 28, 1)))\n",
    "    model.add(Conv2D(64,\n",
    "                     kernel_size=(3, 3),\n",
    "                     activation='relu'))\n",
    "    model.add(MaxPooling2D(pool_size=(2, 2)))\n",
    "    model.add(Flatten())\n",
    "    model.add(Dense(128, activation='relu'))\n",
    "    model.add(Dense(n_classes, activation='softmax'))\n",
    "    return model"
   ]
  },
  {
   "cell_type": "code",
   "execution_count": 147,
   "metadata": {
    "pycharm": {
     "name": "#%%\n"
    },
    "slideshow": {
     "slide_type": "subslide"
    }
   },
   "outputs": [
    {
     "name": "stdout",
     "output_type": "stream",
     "text": [
      "Model: \"sequential_14\"\n",
      "_________________________________________________________________\n",
      "Layer (type)                 Output Shape              Param #   \n",
      "=================================================================\n",
      "conv2d_2 (Conv2D)            (None, 26, 26, 32)        320       \n",
      "_________________________________________________________________\n",
      "conv2d_3 (Conv2D)            (None, 24, 24, 64)        18496     \n",
      "_________________________________________________________________\n",
      "max_pooling2d_1 (MaxPooling2 (None, 12, 12, 64)        0         \n",
      "_________________________________________________________________\n",
      "flatten_14 (Flatten)         (None, 9216)              0         \n",
      "_________________________________________________________________\n",
      "dense_31 (Dense)             (None, 128)               1179776   \n",
      "_________________________________________________________________\n",
      "dense_32 (Dense)             (None, 10)                1290      \n",
      "=================================================================\n",
      "Total params: 1,199,882\n",
      "Trainable params: 1,199,882\n",
      "Non-trainable params: 0\n",
      "_________________________________________________________________\n"
     ]
    }
   ],
   "source": [
    "conv_model = create_conv_model()\n",
    "conv_model.compile(loss='categorical_crossentropy',\n",
    "                   optimizer='adam',\n",
    "                   metrics=['accuracy',\n",
    "                            Precision(class_id=0, name='precision'),\n",
    "                            Recall(class_id=0, name='recall')])\n",
    "conv_model.summary()"
   ]
  },
  {
   "cell_type": "code",
   "execution_count": null,
   "metadata": {
    "pycharm": {
     "name": "#%%\n"
    },
    "slideshow": {
     "slide_type": "subslide"
    }
   },
   "outputs": [],
   "source": [
    "# train_model(conv_model, X_train, y_train, 'conv', epochs=40)"
   ]
  },
  {
   "cell_type": "markdown",
   "metadata": {},
   "source": [
    "```python\n",
    "train_model(conv_model, X_train, y_train, 'huge', epochs=40)\n",
    "```\n",
    "\n",
    "```\n",
    "\n",
    "Epoch 40/40\n",
    "10/10 [==============================] - 4s 387ms/step -\n",
    "loss: 0.0098 - accuracy: 0.9967 - precision: 0.9971 - recall: 0.9966\n",
    "val_loss: 0.0203\n",
    "val_accuracy: 0.9938\n",
    "val_precision: 0.9941\n",
    "val_recall: 0.9932\n",
    "\n",
    "```"
   ]
  },
  {
   "cell_type": "markdown",
   "metadata": {
    "slideshow": {
     "slide_type": "slide"
    }
   },
   "source": [
    "## Data Engine (Tesla)\n",
    "\n",
    "<img src=\"img/data-engine.jpeg\" style=\"width: 100%; margin-left: auto; margin-right: auto;\"/>"
   ]
  },
  {
   "cell_type": "markdown",
   "metadata": {
    "slideshow": {
     "slide_type": "slide"
    }
   },
   "source": [
    "## Probleme: Abhängigkeiten\n",
    "\n",
    "Relevante Informationen sind nicht immer nahe in den Daten:\n",
    "\n",
    "\"Er hatte mit dem Mann, der ihm den Schlüssel, der zum Schloss, das ihn von großem Reichtum trennte, gehörte, gab, noch nicht gesprochen."
   ]
  },
  {
   "cell_type": "markdown",
   "metadata": {
    "slideshow": {
     "slide_type": "subslide"
    }
   },
   "source": [
    "# Memory / State\n",
    "<img src=\"img/ag/Figure-22-012.png\" style=\"width: 20%; margin-left: auto; margin-right: auto;\"/>"
   ]
  },
  {
   "cell_type": "markdown",
   "metadata": {
    "slideshow": {
     "slide_type": "subslide"
    }
   },
   "source": [
    "Funktioniert gut aber mit gewissen Schwächen.\n",
    "\n",
    "Man muss wissen, welche Information für das aktuell betrachtete Element relevant ist:"
   ]
  },
  {
   "cell_type": "markdown",
   "metadata": {},
   "source": [
    "- The cat didn't cross the street because *it* was too wide."
   ]
  },
  {
   "cell_type": "markdown",
   "metadata": {
    "slideshow": {
     "slide_type": "subslide"
    }
   },
   "source": [
    "<img src=\"img/garfield.jpg\" style=\"float: right;width: 60%;\"/>"
   ]
  },
  {
   "cell_type": "markdown",
   "metadata": {
    "slideshow": {
     "slide_type": "subslide"
    }
   },
   "source": [
    "<img src=\"img/garfield-yawn.png\" style=\"float: right;width: 60%;\"/>\n",
    "\n",
    "- The cat didn't cross the street because *it* was too tired."
   ]
  },
  {
   "cell_type": "markdown",
   "metadata": {
    "slideshow": {
     "slide_type": "subslide"
    }
   },
   "source": [
    "- The cat didn't cross the street because *it* was too wet.\n",
    "\n",
    "<img src=\"img/garfield-rain4.jpg\" style=\"float: right;width: 60%;\"/>"
   ]
  },
  {
   "cell_type": "markdown",
   "metadata": {
    "slideshow": {
     "slide_type": "subslide"
    }
   },
   "source": [
    "- The cat didn't cross the street because *it* was raining.\n",
    "\n",
    "<img src=\"img/garfield-rain2.gif\" style=\"float: right;width: 60%;\"/>"
   ]
  },
  {
   "cell_type": "markdown",
   "metadata": {
    "slideshow": {
     "slide_type": "slide"
    }
   },
   "source": [
    "# The Bitter Lesson (Rich Sutton)\n",
    "\n",
    "[T]he only thing that matters in the long run is the leveraging of computation.\n",
    "\n",
    "Corollary: And data. Lots of data."
   ]
  },
  {
   "cell_type": "code",
   "execution_count": null,
   "metadata": {},
   "outputs": [],
   "source": []
  }
 ],
 "metadata": {
  "celltoolbar": "Slideshow",
  "kernelspec": {
   "display_name": "Python [conda env:ml-course] *",
   "language": "python",
   "name": "conda-env-ml-course-py"
  },
  "language_info": {
   "codemirror_mode": {
    "name": "ipython",
    "version": 3
   },
   "file_extension": ".py",
   "mimetype": "text/x-python",
   "name": "python",
   "nbconvert_exporter": "python",
   "pygments_lexer": "ipython3",
   "version": "3.8.5"
  }
 },
 "nbformat": 4,
 "nbformat_minor": 4
}
