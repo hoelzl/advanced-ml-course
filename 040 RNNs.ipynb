{
 "cells": [
  {
   "cell_type": "markdown",
   "metadata": {
    "slideshow": {
     "slide_type": "slide"
    }
   },
   "source": [
    "# Rekurrente Netze (RNNs)\n"
   ]
  },
  {
   "cell_type": "markdown",
   "metadata": {
    "slideshow": {
     "slide_type": "slide"
    }
   },
   "source": [
    "## Sequentialle Daten\n",
    "\n",
    "<img src=\"img/ag/Figure-22-001.png\" style=\"width: 10%; margin-left: auto; margin-right: auto;\"/>"
   ]
  },
  {
   "cell_type": "markdown",
   "metadata": {
    "slideshow": {
     "slide_type": "slide"
    }
   },
   "source": [
    "## Floating Window\n",
    "\n",
    "<img src=\"img/ag/Figure-22-002.png\" style=\"width: 20%; margin-left: auto; margin-right: auto;\"/>"
   ]
  },
  {
   "cell_type": "markdown",
   "metadata": {
    "slideshow": {
     "slide_type": "slide"
    }
   },
   "source": [
    "## Verarbeitung mit MLP\n",
    "\n",
    "<img src=\"img/ag/Figure-22-002.png\" style=\"width: 20%; margin-left: 10%; margin-right: auto; float: left;\"/>\n",
    "<img src=\"img/ag/Figure-22-003.png\" style=\"width: 35%; margin-left: 10%; margin-right: auto; float: right;\"/>"
   ]
  },
  {
   "cell_type": "markdown",
   "metadata": {
    "slideshow": {
     "slide_type": "slide"
    }
   },
   "source": [
    "## MLP berücksichtigt die Reihenfolge nicht!\n",
    "\n",
    "<img src=\"img/ag/Figure-22-004.png\" style=\"width: 25%; margin-left: auto; margin-right: auto;\"/>"
   ]
  },
  {
   "cell_type": "markdown",
   "metadata": {
    "slideshow": {
     "slide_type": "slide"
    }
   },
   "source": [
    "## RNNs: Netzwerke mit Speicher\n",
    "\n",
    "<img src=\"img/ag/Figure-22-005.png\" style=\"width: 15%; margin-left: auto; margin-right: auto;\"/>"
   ]
  },
  {
   "cell_type": "markdown",
   "metadata": {
    "slideshow": {
     "slide_type": "slide"
    }
   },
   "source": [
    "## Zustand: Reperatur-Roboter\n",
    "\n",
    "<img src=\"img/ag/Figure-22-006.png\" style=\"width: 35%; margin-left: auto; margin-right: auto;\"/>"
   ]
  },
  {
   "cell_type": "markdown",
   "metadata": {
    "slideshow": {
     "slide_type": "slide"
    }
   },
   "source": [
    "## Zustand: Reperatur-Roboter\n",
    "\n",
    "<img src=\"img/ag/Figure-22-007.png\" style=\"width: 35%; margin-left: auto; margin-right: auto;\"/>"
   ]
  },
  {
   "cell_type": "markdown",
   "metadata": {
    "slideshow": {
     "slide_type": "slide"
    }
   },
   "source": [
    "## Zustand: Reperatur-Roboter\n",
    "\n",
    "<img src=\"img/ag/Figure-22-008.png\" style=\"width: 35%; margin-left: auto; margin-right: auto;\"/>"
   ]
  },
  {
   "cell_type": "markdown",
   "metadata": {
    "slideshow": {
     "slide_type": "slide"
    }
   },
   "source": [
    "## Zustand: Reperatur-Roboter\n",
    "\n",
    "<img src=\"img/ag/Figure-22-009.png\" style=\"width: 85%; margin-left: auto; margin-right: auto;\"/>"
   ]
  },
  {
   "cell_type": "markdown",
   "metadata": {
    "slideshow": {
     "slide_type": "slide"
    }
   },
   "source": [
    "# Arbeitsweise RNN\n",
    "\n",
    "<img src=\"img/ag/Figure-22-010.png\" style=\"width: 85%; margin-left: auto; margin-right: auto;\"/>"
   ]
  },
  {
   "cell_type": "markdown",
   "metadata": {
    "slideshow": {
     "slide_type": "slide"
    }
   },
   "source": [
    "## State wird nach der Verarbeitung geschrieben\n",
    "\n",
    "<img src=\"img/ag/Figure-22-011.png\" style=\"width: 35%; margin-left: 10%; margin-right: auto; float: left;\"/>\n",
    "<img src=\"img/ag/Figure-22-012.png\" style=\"width: 15%; margin-left: auto; margin-right: 10%; float: right;\"/>"
   ]
  },
  {
   "cell_type": "markdown",
   "metadata": {
    "slideshow": {
     "slide_type": "slide"
    }
   },
   "source": [
    "## Netzwerkstruktur (einzelner Wert)\n",
    "\n",
    "Welche Operation ist sinnvoll?\n",
    "\n",
    "<img src=\"img/ag/Figure-22-013.png\" style=\"width: 35%; margin-left: auto; margin-right: auto;\"/>"
   ]
  },
  {
   "cell_type": "markdown",
   "metadata": {
    "slideshow": {
     "slide_type": "slide"
    }
   },
   "source": [
    "## Netzwerkstruktur (einzelner Wert)\n",
    "\n",
    "<img src=\"img/ag/Figure-22-014.png\" style=\"width: 35%; margin-left: auto; margin-right: auto;\"/>"
   ]
  },
  {
   "cell_type": "markdown",
   "metadata": {
    "slideshow": {
     "slide_type": "slide"
    }
   },
   "source": [
    "## Repräsentation in Diagrammen\n",
    "\n",
    "<img src=\"img/ag/Figure-22-015.png\" style=\"width: 10%; margin-left: auto; margin-right: auto;\"/>"
   ]
  },
  {
   "cell_type": "markdown",
   "metadata": {
    "slideshow": {
     "slide_type": "slide"
    }
   },
   "source": [
    "## Entfaltete Darstellung\n",
    "\n",
    "<img src=\"img/ag/Figure-22-016.png\" style=\"width: 45%; margin-left: auto; margin-right: auto;\"/>"
   ]
  },
  {
   "cell_type": "markdown",
   "metadata": {
    "slideshow": {
     "slide_type": "slide"
    }
   },
   "source": [
    "## Netzwerkstruktur für mehrere Werte\n",
    "\n",
    "<img src=\"img/ag/Figure-22-018.png\" style=\"width: 35%; margin-left: auto; margin-right: auto;\"/>"
   ]
  },
  {
   "cell_type": "markdown",
   "metadata": {
    "slideshow": {
     "slide_type": "slide"
    }
   },
   "source": [
    "## Darstellung der Daten\n",
    "\n",
    "<img src=\"img/ag/Figure-22-019.png\" style=\"width: 65%; margin-left: auto; margin-right: auto;\"/>"
   ]
  },
  {
   "cell_type": "markdown",
   "metadata": {
    "slideshow": {
     "slide_type": "slide"
    }
   },
   "source": [
    "#  Darstellung der Daten\n",
    "\n",
    "<img src=\"img/ag/Figure-22-020.png\" style=\"width: 45%; margin-left: auto; margin-right: auto;\"/>"
   ]
  },
  {
   "cell_type": "markdown",
   "metadata": {
    "slideshow": {
     "slide_type": "slide"
    }
   },
   "source": [
    "#  Darstellung der Daten\n",
    "\n",
    "<img src=\"img/ag/Figure-22-021.png\" style=\"width: 45%; margin-left: auto; margin-right: auto;\"/>"
   ]
  },
  {
   "cell_type": "markdown",
   "metadata": {
    "slideshow": {
     "slide_type": "slide"
    }
   },
   "source": [
    "## Arbeitsweise\n",
    "\n",
    "<img src=\"img/ag/Figure-22-022.png\" style=\"width: 55%; margin-left: auto; margin-right: auto;\"/>"
   ]
  },
  {
   "cell_type": "markdown",
   "metadata": {
    "slideshow": {
     "slide_type": "slide"
    }
   },
   "source": [
    "## Probleme\n",
    "<div style=\"margin-top: 20pt; float:left;\">\n",
    "    <ul>\n",
    "        <li>Verlust der Gradienten</li>\n",
    "        <li>Explosion der Gradienten</li>\n",
    "        <li>Vergessen</li>\n",
    "    </ul>\n",
    "</div>\n",
    "\n",
    "<img src=\"img/ag/Figure-22-023.png\" style=\"width: 55%; margin-left: auto; margin-right: 5%; float: right;\"/>"
   ]
  },
  {
   "cell_type": "markdown",
   "metadata": {
    "lines_to_next_cell": 2,
    "slideshow": {
     "slide_type": "slide"
    }
   },
   "source": [
    "\n",
    "## LSTM\n",
    "\n",
    "<img src=\"img/ag/Figure-22-029.png\" style=\"width: 65%; margin-left: auto; margin-right: auto;\"/>"
   ]
  },
  {
   "cell_type": "markdown",
   "metadata": {
    "slideshow": {
     "slide_type": "slide"
    }
   },
   "source": [
    "## Gates\n",
    "\n",
    "<img src=\"img/ag/Figure-22-024.png\" style=\"width: 55%; margin-left: auto; margin-right: auto;\"/>"
   ]
  },
  {
   "cell_type": "markdown",
   "metadata": {
    "slideshow": {
     "slide_type": "slide"
    }
   },
   "source": [
    "## Gates\n",
    "\n",
    "<img src=\"img/ag/Figure-22-025.png\" style=\"width: 65%; margin-left: auto; margin-right: auto;\"/>"
   ]
  },
  {
   "cell_type": "markdown",
   "metadata": {
    "slideshow": {
     "slide_type": "slide"
    }
   },
   "source": [
    "## Forget-Gate\n",
    "\n",
    "<img src=\"img/ag/Figure-22-026.png\" style=\"width: 30%; margin-left: auto; margin-right: auto;\"/>"
   ]
  },
  {
   "cell_type": "markdown",
   "metadata": {
    "slideshow": {
     "slide_type": "slide"
    }
   },
   "source": [
    "## Remember Gate\n",
    "\n",
    "<img src=\"img/ag/Figure-22-027.png\" style=\"width: 65%; margin-left: auto; margin-right: auto;\"/>"
   ]
  },
  {
   "cell_type": "markdown",
   "metadata": {
    "slideshow": {
     "slide_type": "slide"
    }
   },
   "source": [
    "## Output Gate\n",
    "\n",
    "<img src=\"img/ag/Figure-22-028.png\" style=\"width: 55%; margin-left: auto; margin-right: auto;\"/>"
   ]
  },
  {
   "cell_type": "markdown",
   "metadata": {
    "slideshow": {
     "slide_type": "slide"
    }
   },
   "source": [
    "## LSTM\n",
    "\n",
    "<img src=\"img/ag/Figure-22-029.png\" style=\"width: 65%; margin-left: auto; margin-right: auto;\"/>"
   ]
  },
  {
   "cell_type": "markdown",
   "metadata": {
    "slideshow": {
     "slide_type": "slide"
    }
   },
   "source": [
    "## LSTM Funktionsweise\n",
    "\n",
    "<img src=\"img/ag/Figure-22-030.png\" style=\"width: 65%; margin-left: auto; margin-right: auto;\"/>"
   ]
  },
  {
   "cell_type": "markdown",
   "metadata": {
    "slideshow": {
     "slide_type": "slide"
    }
   },
   "source": [
    "## LSTM Funktionsweise\n",
    "\n",
    "<img src=\"img/ag/Figure-22-031.png\" style=\"width: 45%; margin-left: auto; margin-right: auto;\"/>"
   ]
  },
  {
   "cell_type": "markdown",
   "metadata": {
    "slideshow": {
     "slide_type": "slide"
    }
   },
   "source": [
    "## LSTM Funktionsweise\n",
    "\n",
    "<img src=\"img/ag/Figure-22-032.png\" style=\"width: 65%; margin-left: auto; margin-right: auto;\"/>"
   ]
  },
  {
   "cell_type": "markdown",
   "metadata": {
    "slideshow": {
     "slide_type": "slide"
    }
   },
   "source": [
    "## LSTM Funktionsweise\n",
    "\n",
    "<img src=\"img/ag/Figure-22-033.png\" style=\"width: 65%; margin-left: auto; margin-right: auto;\"/>"
   ]
  },
  {
   "cell_type": "markdown",
   "metadata": {
    "slideshow": {
     "slide_type": "slide"
    }
   },
   "source": [
    "## Verwendung von LSTMs\n",
    "\n",
    "<img src=\"img/ag/Figure-22-034.png\" style=\"width: 75%; margin-left: auto; margin-right: auto;\"/>"
   ]
  },
  {
   "cell_type": "markdown",
   "metadata": {
    "slideshow": {
     "slide_type": "slide"
    }
   },
   "source": [
    "## Darstellung von LSTM Layern\n",
    "\n",
    "<img src=\"img/ag/Figure-22-035.png\" style=\"width: 25%; margin-left: auto; margin-right: auto;\"/>"
   ]
  },
  {
   "cell_type": "markdown",
   "metadata": {
    "slideshow": {
     "slide_type": "slide"
    }
   },
   "source": [
    "## Conv/LSTM (Conv/RNN) Architektur\n",
    "\n",
    "<img src=\"img/ag/Figure-22-036.png\" style=\"width: 15%; margin-left: auto; margin-right: auto;\"/>"
   ]
  },
  {
   "cell_type": "markdown",
   "metadata": {
    "slideshow": {
     "slide_type": "slide"
    }
   },
   "source": [
    "## Tiefe RNN Netze\n",
    "\n",
    "<img src=\"img/ag/Figure-22-037.png\" style=\"width: 55%; margin-left: auto; margin-right: auto;\"/>"
   ]
  },
  {
   "cell_type": "markdown",
   "metadata": {
    "lines_to_next_cell": 2,
    "slideshow": {
     "slide_type": "slide"
    }
   },
   "source": [
    "## Bidirektionale RNNs\n",
    "\n",
    "<img src=\"img/ag/Figure-22-038.png\" style=\"width: 65%; margin-left: auto; margin-right: auto;\"/>"
   ]
  },
  {
   "cell_type": "markdown",
   "metadata": {
    "slideshow": {
     "slide_type": "slide"
    }
   },
   "source": [
    "## Tiefe Bidirektionale Netze\n",
    "\n",
    "<img src=\"img/ag/Figure-22-039.png\" style=\"width: 45%; margin-left: auto; margin-right: auto;\"/>"
   ]
  },
  {
   "cell_type": "markdown",
   "metadata": {
    "slideshow": {
     "slide_type": "slide"
    }
   },
   "source": [
    "# Anwendung: Generierung von Text\n",
    "\n",
    "<img src=\"img/ag/Figure-22-040.png\" style=\"width: 15%; margin-left: auto; margin-right: auto;\"/>"
   ]
  },
  {
   "cell_type": "markdown",
   "metadata": {
    "lines_to_next_cell": 2,
    "slideshow": {
     "slide_type": "slide"
    }
   },
   "source": [
    "## Trainieren mittels Sliding Window\n",
    "\n",
    "<img src=\"img/ag/Figure-22-042.png\" style=\"width: 25%; margin-left: auto; margin-right: auto;\"/>"
   ]
  }
 ],
 "metadata": {
  "celltoolbar": "Slideshow",
  "jupytext": {
   "cell_metadata_filter": "-all",
   "encoding": "# coding: utf-8",
   "executable": "/usr/bin/env python",
   "notebook_metadata_filter": "-all",
   "text_representation": {
    "extension": ".py",
    "format_name": "light"
   }
  },
  "kernelspec": {
   "display_name": "Python 3",
   "language": "python",
   "name": "python3"
  },
  "language_info": {
   "codemirror_mode": {
    "name": "ipython",
    "version": 3
   },
   "file_extension": ".py",
   "mimetype": "text/x-python",
   "name": "python",
   "nbconvert_exporter": "python",
   "pygments_lexer": "ipython3",
   "version": "3.8.5"
  }
 },
 "nbformat": 4,
 "nbformat_minor": 4
}
