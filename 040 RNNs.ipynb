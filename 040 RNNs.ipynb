{
 "cells": [
  {
   "cell_type": "code",
   "execution_count": null,
   "metadata": {
    "lines_to_next_cell": 0
   },
   "outputs": [],
   "source": []
  },
  {
   "cell_type": "markdown",
   "metadata": {},
   "source": [
    "# Rekurrente Netze (RNNs)\n"
   ]
  },
  {
   "cell_type": "markdown",
   "metadata": {},
   "source": [
    "## Sequentialle Daten\n",
    "\n",
    "<img src=\"img/ag/Figure-22-001.png\" style=\"width: 15%; margin-left: auto; margin-right: auto;\"/>"
   ]
  },
  {
   "cell_type": "markdown",
   "metadata": {},
   "source": [
    "## Floating Window\n",
    "\n",
    "<img src=\"img/ag/Figure-22-002.png\" style=\"width: 15%; margin-left: auto; margin-right: auto;\"/>"
   ]
  },
  {
   "cell_type": "markdown",
   "metadata": {},
   "source": [
    "## Verarbeitung mit MLP\n",
    "\n",
    "<img src=\"img/ag/Figure-22-003.png\" style=\"width: 15%; margin-left: auto; margin-right: auto;\"/>"
   ]
  },
  {
   "cell_type": "markdown",
   "metadata": {},
   "source": [
    "## MLP berücksichtigt die Reihenfolge nicht!\n",
    "\n",
    "<img src=\"img/ag/Figure-22-004.png\" style=\"width: 15%; margin-left: auto; margin-right: auto;\"/>"
   ]
  },
  {
   "cell_type": "markdown",
   "metadata": {},
   "source": [
    "## RNNs: Netzwerke mit Speicher\n",
    "\n",
    "<img src=\"img/ag/Figure-22-005.png\" style=\"width: 15%; margin-left: auto; margin-right: auto;\"/>"
   ]
  },
  {
   "cell_type": "markdown",
   "metadata": {},
   "source": [
    "## Zustand: Reperatur-Roboter\n",
    "\n",
    "<img src=\"img/ag/Figure-22-006.png\" style=\"width: 15%; margin-left: auto; margin-right: auto;\"/>"
   ]
  },
  {
   "cell_type": "markdown",
   "metadata": {},
   "source": [
    "## Zustand: Reperatur-Roboter\n",
    "\n",
    "<img src=\"img/ag/Figure-22-007.png\" style=\"width: 15%; margin-left: auto; margin-right: auto;\"/>"
   ]
  },
  {
   "cell_type": "markdown",
   "metadata": {},
   "source": [
    "## Zustand: Reperatur-Roboter\n",
    "\n",
    "<img src=\"img/ag/Figure-22-008.png\" style=\"width: 15%; margin-left: auto; margin-right: auto;\"/>"
   ]
  },
  {
   "cell_type": "markdown",
   "metadata": {},
   "source": [
    "## Zustand: Reperatur-Roboter\n",
    "\n",
    "<img src=\"img/ag/Figure-22-009.png\" style=\"width: 15%; margin-left: auto; margin-right: auto;\"/>"
   ]
  },
  {
   "cell_type": "markdown",
   "metadata": {},
   "source": [
    "# Zustand: Reperatur-Roboter\n",
    "\n",
    "<img src=\"img/ag/Figure-22-010.png\" style=\"width: 15%; margin-left: auto; margin-right: auto;\"/>"
   ]
  },
  {
   "cell_type": "markdown",
   "metadata": {},
   "source": [
    "# Symbolische Darstellung:\n",
    "\n",
    "<img src=\"img/ag/Figure-22-011.png\" style=\"width: 15%; margin-left: auto; margin-right: auto;\"/>"
   ]
  },
  {
   "cell_type": "markdown",
   "metadata": {},
   "source": [
    "## Symbolische Darstellung:\n",
    "\n",
    "<img src=\"img/ag/Figure-22-012.png\" style=\"width: 15%; margin-left: auto; margin-right: auto;\"/>"
   ]
  },
  {
   "cell_type": "markdown",
   "metadata": {},
   "source": [
    "## Netzwerkstruktur (einzelner Wert)\n",
    "\n",
    "Welche Operation ist sinnvoll?\n",
    "\n",
    "<img src=\"img/ag/Figure-22-013.png\" style=\"width: 15%; margin-left: auto; margin-right: auto;\"/>"
   ]
  },
  {
   "cell_type": "markdown",
   "metadata": {},
   "source": [
    "## Netzwerkstruktur (einzelner Wert)\n",
    "\n",
    "<img src=\"img/ag/Figure-22-014.png\" style=\"width: 15%; margin-left: auto; margin-right: auto;\"/>"
   ]
  },
  {
   "cell_type": "markdown",
   "metadata": {},
   "source": [
    "## Repräsentation in Diagrammen\n",
    "\n",
    "<img src=\"img/ag/Figure-22-015.png\" style=\"width: 15%; margin-left: auto; margin-right: auto;\"/>"
   ]
  },
  {
   "cell_type": "markdown",
   "metadata": {},
   "source": [
    "## Entfaltete Darstellung\n",
    "\n",
    "<img src=\"img/ag/Figure-22-016.png\" style=\"width: 15%; margin-left: auto; margin-right: auto;\"/>"
   ]
  },
  {
   "cell_type": "markdown",
   "metadata": {},
   "source": [
    "## Netzwerkstruktur für mehrere Werte\n",
    "\n",
    "<img src=\"img/ag/Figure-22-018.png\" style=\"width: 15%; margin-left: auto; margin-right: auto;\"/>"
   ]
  },
  {
   "cell_type": "markdown",
   "metadata": {},
   "source": [
    "## Darstellung der Daten\n",
    "\n",
    "<img src=\"img/ag/Figure-22-019.png\" style=\"width: 15%; margin-left: auto; margin-right: auto;\"/>"
   ]
  },
  {
   "cell_type": "markdown",
   "metadata": {},
   "source": [
    "#  Darstellung der Daten\n",
    "\n",
    "<img src=\"img/ag/Figure-22-020.png\" style=\"width: 15%; margin-left: auto; margin-right: auto;\"/>"
   ]
  },
  {
   "cell_type": "markdown",
   "metadata": {},
   "source": [
    "#  Darstellung der Daten\n",
    "\n",
    "<img src=\"img/ag/Figure-22-021.png\" style=\"width: 15%; margin-left: auto; margin-right: auto;\"/>"
   ]
  },
  {
   "cell_type": "markdown",
   "metadata": {},
   "source": [
    "## Arbeitsweise\n",
    "\n",
    "<img src=\"img/ag/Figure-22-022.png\" style=\"width: 15%; margin-left: auto; margin-right: auto;\"/>"
   ]
  },
  {
   "cell_type": "markdown",
   "metadata": {},
   "source": [
    "## Probleme\n",
    "- Verlust der Gradienten\n",
    "- Explosion der Gradienten\n",
    "- Vergessen\n",
    "\n",
    "<img src=\"img/ag/Figure-22-023.png\" style=\"width: 15%; margin-left: auto; margin-right: auto;\"/>"
   ]
  },
  {
   "cell_type": "markdown",
   "metadata": {
    "lines_to_next_cell": 2
   },
   "source": [
    "## LSTM\n",
    "\n",
    "<img src=\"img/ag/Figure-22-029.png\" style=\"width: 15%; margin-left: auto; margin-right: auto;\"/>"
   ]
  },
  {
   "cell_type": "markdown",
   "metadata": {},
   "source": [
    "## Gates\n",
    "\n",
    "<img src=\"img/ag/Figure-22-024.png\" style=\"width: 15%; margin-left: auto; margin-right: auto;\"/>"
   ]
  },
  {
   "cell_type": "markdown",
   "metadata": {},
   "source": [
    "## Gates\n",
    "\n",
    "<img src=\"img/ag/Figure-22-025.png\" style=\"width: 15%; margin-left: auto; margin-right: auto;\"/>"
   ]
  },
  {
   "cell_type": "markdown",
   "metadata": {},
   "source": [
    "## Forget-Gate\n",
    "\n",
    "<img src=\"img/ag/Figure-22-026.png\" style=\"width: 15%; margin-left: auto; margin-right: auto;\"/>"
   ]
  },
  {
   "cell_type": "markdown",
   "metadata": {},
   "source": [
    "## Remember Gate\n",
    "\n",
    "<img src=\"img/ag/Figure-22-027.png\" style=\"width: 15%; margin-left: auto; margin-right: auto;\"/>"
   ]
  },
  {
   "cell_type": "markdown",
   "metadata": {},
   "source": [
    "## Output Gate\n",
    "\n",
    "<img src=\"img/ag/Figure-22-028.png\" style=\"width: 15%; margin-left: auto; margin-right: auto;\"/>"
   ]
  },
  {
   "cell_type": "markdown",
   "metadata": {},
   "source": [
    "## LSTM\n",
    "\n",
    "<img src=\"img/ag/Figure-22-029.png\" style=\"width: 15%; margin-left: auto; margin-right: auto;\"/>"
   ]
  },
  {
   "cell_type": "markdown",
   "metadata": {},
   "source": [
    "## LSTM Funktionsweise\n",
    "\n",
    "<img src=\"img/ag/Figure-22-030.png\" style=\"width: 15%; margin-left: auto; margin-right: auto;\"/>"
   ]
  },
  {
   "cell_type": "markdown",
   "metadata": {},
   "source": [
    "## LSTM Funktionsweise\n",
    "\n",
    "<img src=\"img/ag/Figure-22-031.png\" style=\"width: 15%; margin-left: auto; margin-right: auto;\"/>"
   ]
  },
  {
   "cell_type": "markdown",
   "metadata": {},
   "source": [
    "## LSTM Funktionsweise\n",
    "\n",
    "<img src=\"img/ag/Figure-22-032.png\" style=\"width: 15%; margin-left: auto; margin-right: auto;\"/>"
   ]
  },
  {
   "cell_type": "markdown",
   "metadata": {},
   "source": [
    "## LSTM Funktionsweise\n",
    "\n",
    "<img src=\"img/ag/Figure-22-033.png\" style=\"width: 15%; margin-left: auto; margin-right: auto;\"/>"
   ]
  },
  {
   "cell_type": "markdown",
   "metadata": {},
   "source": [
    "## Verwendung von LSTMs\n",
    "\n",
    "<img src=\"img/ag/Figure-22-034.png\" style=\"width: 15%; margin-left: auto; margin-right: auto;\"/>"
   ]
  },
  {
   "cell_type": "markdown",
   "metadata": {},
   "source": [
    "## Darstellung von LSTM Layern\n",
    "\n",
    "<img src=\"img/ag/Figure-22-035.png\" style=\"width: 15%; margin-left: auto; margin-right: auto;\"/>"
   ]
  },
  {
   "cell_type": "markdown",
   "metadata": {},
   "source": [
    "## Conv/LSTM (Conv/RNN) Architektur\n",
    "\n",
    "<img src=\"img/ag/Figure-22-036.png\" style=\"width: 15%; margin-left: auto; margin-right: auto;\"/>"
   ]
  },
  {
   "cell_type": "markdown",
   "metadata": {},
   "source": [
    "## Tiefe RNN Netze\n",
    "\n",
    "<img src=\"img/ag/Figure-22-037.png\" style=\"width: 15%; margin-left: auto; margin-right: auto;\"/>"
   ]
  },
  {
   "cell_type": "markdown",
   "metadata": {
    "lines_to_next_cell": 2
   },
   "source": [
    "## Bidirektionale RNNs\n",
    "\n",
    "<img src=\"img/ag/Figure-22-038.png\" style=\"width: 15%; margin-left: auto; margin-right: auto;\"/>"
   ]
  },
  {
   "cell_type": "markdown",
   "metadata": {},
   "source": [
    "## Tiefe Bidirektionale Netze\n",
    "\n",
    "<img src=\"img/ag/Figure-22-039.png\" style=\"width: 15%; margin-left: auto; margin-right: auto;\"/>"
   ]
  },
  {
   "cell_type": "markdown",
   "metadata": {},
   "source": [
    "# Anwendung: Generierung von Text\n",
    "\n",
    "<img src=\"img/ag/Figure-22-040.png\" style=\"width: 15%; margin-left: auto; margin-right: auto;\"/>"
   ]
  },
  {
   "cell_type": "markdown",
   "metadata": {
    "lines_to_next_cell": 2
   },
   "source": [
    "## ## Trainieren mittels Sliding Window\n",
    "\n",
    "<img src=\"img/ag/Figure-22-042.png\" style=\"width: 15%; margin-left: auto; margin-right: auto;\"/>"
   ]
  },
  {
   "cell_type": "markdown",
   "metadata": {},
   "source": [
    "## \n",
    "\n",
    "<img src=\"img/ag/Figure-22-043.png\" style=\"width: 15%; margin-left: auto; margin-right: auto;\"/>"
   ]
  }
 ],
 "metadata": {
  "jupytext": {
   "cell_metadata_filter": "-all",
   "encoding": "# coding: utf-8",
   "executable": "/usr/bin/env python",
   "notebook_metadata_filter": "-all",
   "text_representation": {
    "extension": ".py",
    "format_name": "light"
   }
  },
  "kernelspec": {
   "display_name": "Python 3",
   "language": "python",
   "name": "python3"
  },
  "language_info": {
   "codemirror_mode": {
    "name": "ipython",
    "version": 3
   },
   "file_extension": ".py",
   "mimetype": "text/x-python",
   "name": "python",
   "nbconvert_exporter": "python",
   "pygments_lexer": "ipython3",
   "version": "3.8.5"
  }
 },
 "nbformat": 4,
 "nbformat_minor": 4
}
