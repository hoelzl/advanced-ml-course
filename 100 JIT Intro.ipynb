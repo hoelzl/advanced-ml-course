{
 "cells": [
  {
   "source": [
    "import torch\n",
    "import re\n",
    "def xprint(s):\n",
    "    s = str(s)\n",
    "    s = re.sub(' *#.*','',s)\n",
    "    print(s)"
   ],
   "cell_type": "code",
   "metadata": {},
   "execution_count": 5,
   "outputs": []
  },
  {
   "cell_type": "code",
   "execution_count": 6,
   "metadata": {},
   "outputs": [],
   "source": [
    "def myfn(x):\n",
    "    y = x[0]\n",
    "    for i in range(1, x.size(0)):\n",
    "        y = y + x[i]\n",
    "    return y"
   ]
  },
  {
   "cell_type": "code",
   "execution_count": 7,
   "metadata": {
    "scrolled": true
   },
   "outputs": [
    {
     "output_type": "stream",
     "name": "stdout",
     "text": [
      "def myfn(x: Tensor) -> Tensor:\n  y = torch.select(x, 0, 0)\n  y0 = torch.add(y, torch.select(x, 0, 1), alpha=1)\n  y1 = torch.add(y0, torch.select(x, 0, 2), alpha=1)\n  y2 = torch.add(y1, torch.select(x, 0, 3), alpha=1)\n  _0 = torch.add(y2, torch.select(x, 0, 4), alpha=1)\n  return _0\n\n"
     ]
    }
   ],
   "source": [
    "inp = torch.randn(5,5)\n",
    "traced_fn = torch.jit.trace(myfn, inp)\n",
    "print(traced_fn.code)"
   ]
  },
  {
   "cell_type": "code",
   "execution_count": 8,
   "metadata": {
    "scrolled": true
   },
   "outputs": [
    {
     "output_type": "stream",
     "name": "stdout",
     "text": [
      "def myfn(x: Tensor) -> Tensor:\n  y = torch.select(x, 0, 0)\n  _0 = torch.__range_length(1, torch.size(x, 0), 1)\n  y0 = y\n  for _1 in range(_0):\n    i = torch.__derive_index(_1, 1, 1)\n    y1 = torch.add(y0, torch.select(x, 0, i), alpha=1)\n    y0 = y1\n  return y0\n\n"
     ]
    }
   ],
   "source": [
    "scripted_fn = torch.jit.script(myfn)\n",
    "print(scripted_fn.code)"
   ]
  },
  {
   "cell_type": "code",
   "execution_count": 9,
   "metadata": {
    "scrolled": true
   },
   "outputs": [
    {
     "output_type": "stream",
     "name": "stdout",
     "text": [
      "graph(%x.1 : Tensor):\n  %10 : bool = prim::Constant[value=1]()\n  %2 : int = prim::Constant[value=0]()\n  %5 : int = prim::Constant[value=1]()\n  %y.1 : Tensor = aten::select(%x.1, %2, %2)\n  %7 : int = aten::size(%x.1, %2)\n  %9 : int = aten::__range_length(%5, %7, %5)\n  %y : Tensor = prim::Loop(%9, %10, %y.1)\n    block0(%11 : int, %y.6 : Tensor):\n      %i.1 : int = aten::__derive_index(%11, %5, %5)\n      %18 : Tensor = aten::select(%x.1, %2, %i.1)\n      %y.3 : Tensor = aten::add(%y.6, %18, %5)\n      -> (%10, %y.3)\n  return (%y)\n\n"
     ]
    }
   ],
   "source": [
    "xprint(scripted_fn.graph)"
   ]
  },
  {
   "cell_type": "code",
   "execution_count": 10,
   "metadata": {},
   "outputs": [],
   "source": [
    "from unet_wrapper import UNetWrapper"
   ]
  },
  {
   "cell_type": "code",
   "execution_count": 11,
   "metadata": {},
   "outputs": [],
   "source": [
    "seg_dict = torch.load('model.state', map_location='cpu')\n",
    "seg_model = UNetWrapper(in_channels=8, n_classes=1, depth=4, wf=3, padding=True,         \n",
    "batch_norm=True, up_mode='upconv') \n",
    "seg_model.load_state_dict(seg_dict['model_state'])\n",
    "seg_model.eval()\n",
    "for p in seg_model.parameters():\n",
    "    p.requires_grad_(False)\n",
    "\n",
    "traced_seg_model = torch.jit.trace(seg_model, torch.randn((1, 8, 512, 512), requires_grad=True))\n",
    "torch.jit.save(traced_seg_model, './src/batched_app/traced_seg_model.pt')"
   ]
  },
  {
   "cell_type": "code",
   "execution_count": 12,
   "metadata": {},
   "outputs": [
    {
     "output_type": "execute_result",
     "data": {
      "text/plain": [
       "UNetWrapper(\n",
       "  original_name=UNetWrapper\n",
       "  (input_batchnorm): BatchNorm2d(original_name=BatchNorm2d)\n",
       "  (unet): UNet(\n",
       "    original_name=UNet\n",
       "    (down_path): ModuleList(\n",
       "      original_name=ModuleList\n",
       "      (0): UNetConvBlock(\n",
       "        original_name=UNetConvBlock\n",
       "        (block): Sequential(\n",
       "          original_name=Sequential\n",
       "          (0): Conv2d(original_name=Conv2d)\n",
       "          (1): ReLU(original_name=ReLU)\n",
       "          (2): BatchNorm2d(original_name=BatchNorm2d)\n",
       "          (3): Conv2d(original_name=Conv2d)\n",
       "          (4): ReLU(original_name=ReLU)\n",
       "          (5): BatchNorm2d(original_name=BatchNorm2d)\n",
       "        )\n",
       "      )\n",
       "      (1): UNetConvBlock(\n",
       "        original_name=UNetConvBlock\n",
       "        (block): Sequential(\n",
       "          original_name=Sequential\n",
       "          (0): Conv2d(original_name=Conv2d)\n",
       "          (1): ReLU(original_name=ReLU)\n",
       "          (2): BatchNorm2d(original_name=BatchNorm2d)\n",
       "          (3): Conv2d(original_name=Conv2d)\n",
       "          (4): ReLU(original_name=ReLU)\n",
       "          (5): BatchNorm2d(original_name=BatchNorm2d)\n",
       "        )\n",
       "      )\n",
       "      (2): UNetConvBlock(\n",
       "        original_name=UNetConvBlock\n",
       "        (block): Sequential(\n",
       "          original_name=Sequential\n",
       "          (0): Conv2d(original_name=Conv2d)\n",
       "          (1): ReLU(original_name=ReLU)\n",
       "          (2): BatchNorm2d(original_name=BatchNorm2d)\n",
       "          (3): Conv2d(original_name=Conv2d)\n",
       "          (4): ReLU(original_name=ReLU)\n",
       "          (5): BatchNorm2d(original_name=BatchNorm2d)\n",
       "        )\n",
       "      )\n",
       "      (3): UNetConvBlock(\n",
       "        original_name=UNetConvBlock\n",
       "        (block): Sequential(\n",
       "          original_name=Sequential\n",
       "          (0): Conv2d(original_name=Conv2d)\n",
       "          (1): ReLU(original_name=ReLU)\n",
       "          (2): BatchNorm2d(original_name=BatchNorm2d)\n",
       "          (3): Conv2d(original_name=Conv2d)\n",
       "          (4): ReLU(original_name=ReLU)\n",
       "          (5): BatchNorm2d(original_name=BatchNorm2d)\n",
       "        )\n",
       "      )\n",
       "    )\n",
       "    (up_path): ModuleList(\n",
       "      original_name=ModuleList\n",
       "      (0): UNetUpBlock(\n",
       "        original_name=UNetUpBlock\n",
       "        (up): ConvTranspose2d(original_name=ConvTranspose2d)\n",
       "        (conv_block): UNetConvBlock(\n",
       "          original_name=UNetConvBlock\n",
       "          (block): Sequential(\n",
       "            original_name=Sequential\n",
       "            (0): Conv2d(original_name=Conv2d)\n",
       "            (1): ReLU(original_name=ReLU)\n",
       "            (2): BatchNorm2d(original_name=BatchNorm2d)\n",
       "            (3): Conv2d(original_name=Conv2d)\n",
       "            (4): ReLU(original_name=ReLU)\n",
       "            (5): BatchNorm2d(original_name=BatchNorm2d)\n",
       "          )\n",
       "        )\n",
       "      )\n",
       "      (1): UNetUpBlock(\n",
       "        original_name=UNetUpBlock\n",
       "        (up): ConvTranspose2d(original_name=ConvTranspose2d)\n",
       "        (conv_block): UNetConvBlock(\n",
       "          original_name=UNetConvBlock\n",
       "          (block): Sequential(\n",
       "            original_name=Sequential\n",
       "            (0): Conv2d(original_name=Conv2d)\n",
       "            (1): ReLU(original_name=ReLU)\n",
       "            (2): BatchNorm2d(original_name=BatchNorm2d)\n",
       "            (3): Conv2d(original_name=Conv2d)\n",
       "            (4): ReLU(original_name=ReLU)\n",
       "            (5): BatchNorm2d(original_name=BatchNorm2d)\n",
       "          )\n",
       "        )\n",
       "      )\n",
       "      (2): UNetUpBlock(\n",
       "        original_name=UNetUpBlock\n",
       "        (up): ConvTranspose2d(original_name=ConvTranspose2d)\n",
       "        (conv_block): UNetConvBlock(\n",
       "          original_name=UNetConvBlock\n",
       "          (block): Sequential(\n",
       "            original_name=Sequential\n",
       "            (0): Conv2d(original_name=Conv2d)\n",
       "            (1): ReLU(original_name=ReLU)\n",
       "            (2): BatchNorm2d(original_name=BatchNorm2d)\n",
       "            (3): Conv2d(original_name=Conv2d)\n",
       "            (4): ReLU(original_name=ReLU)\n",
       "            (5): BatchNorm2d(original_name=BatchNorm2d)\n",
       "          )\n",
       "        )\n",
       "      )\n",
       "    )\n",
       "    (last): Conv2d(original_name=Conv2d)\n",
       "  )\n",
       "  (final): Sigmoid(original_name=Sigmoid)\n",
       ")"
      ]
     },
     "metadata": {},
     "execution_count": 12
    }
   ],
   "source": [
    "traced_seg_model"
   ]
  },
  {
   "cell_type": "code",
   "execution_count": null,
   "metadata": {},
   "outputs": [],
   "source": []
  }
 ],
 "metadata": {
  "kernelspec": {
   "display_name": "Python 3",
   "language": "python",
   "name": "python3"
  },
  "language_info": {
   "codemirror_mode": {
    "name": "ipython",
    "version": 3
   },
   "file_extension": ".py",
   "mimetype": "text/x-python",
   "name": "python",
   "nbconvert_exporter": "python",
   "pygments_lexer": "ipython3",
   "version": "3.8.3-final"
  }
 },
 "nbformat": 4,
 "nbformat_minor": 2
}