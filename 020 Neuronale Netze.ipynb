{
 "cells": [
  {
   "cell_type": "markdown",
   "metadata": {
    "slideshow": {
     "slide_type": "slide"
    }
   },
   "source": [
    "# Neuronale Netze"
   ]
  },
  {
   "cell_type": "markdown",
   "metadata": {
    "slideshow": {
     "slide_type": "subslide"
    }
   },
   "source": [
    "<img src=\"img/ag/Figure-01-021.png\" style=\"float: center; width: 30%; margin-left: auto; margin-right: auto;\"/>"
   ]
  },
  {
   "cell_type": "markdown",
   "metadata": {
    "slideshow": {
     "slide_type": "subslide"
    }
   },
   "source": [
    "## Neuronen\n",
    "\n",
    "<img src=\"img/ag/Figure-10-001.png\" style=\"width: 80%; margin-left: auto; margin-right: auto;\"/>"
   ]
  },
  {
   "cell_type": "markdown",
   "metadata": {
    "slideshow": {
     "slide_type": "subslide"
    }
   },
   "source": [
    "## Künstliche Neuronen\n",
    "\n",
    "<img src=\"img/ag/Figure-10-006.png\" style=\"width: 60%; margin-left: auto; margin-right: auto;\"/>"
   ]
  },
  {
   "cell_type": "markdown",
   "metadata": {
    "slideshow": {
     "slide_type": "subslide"
    }
   },
   "source": [
    "## Künstliche Neuronen\n",
    "\n",
    "<img src=\"img/ag/Figure-10-004.png\" style=\"width: 30%; margin-left: auto; margin-right: auto;\"/>"
   ]
  },
  {
   "cell_type": "markdown",
   "metadata": {
    "slideshow": {
     "slide_type": "slide"
    }
   },
   "source": [
    "## Aktivierungsfunktionen"
   ]
  },
  {
   "cell_type": "code",
   "execution_count": null,
   "metadata": {},
   "outputs": [],
   "source": [
    "import torch.nn as nn\n",
    "import numpy as np\n",
    "act_x = torch.tensor(np.linspace(-6, 6, 100))"
   ]
  },
  {
   "cell_type": "code",
   "execution_count": null,
   "metadata": {},
   "outputs": [],
   "source": [
    "plt.figure(figsize=(16, 12))\n",
    "plt.subplot(3, 2, 1)\n",
    "plt.plot(act_x, nn.Sigmoid()(act_x))\n",
    "plt.subplot(3, 2, 2)\n",
    "plt.plot(act_x, nn.Tanh()(act_x))\n",
    "plt.subplot(3, 2, 3)\n",
    "plt.plot(act_x, nn.ReLU()(act_x))\n",
    "plt.subplot(3, 2, 4)\n",
    "plt.plot(act_x, - nn.ReLU()(act_x + 2))\n",
    "plt.subplot(3, 2, 5)\n",
    "plt.plot(act_x, nn.ReLU()(act_x) - nn.ReLU()(act_x + 2))\n",
    "plt.subplot(3, 2, 6)\n",
    "plt.plot(act_x, nn.Tanh()(act_x) - 1.5 * nn.Tanh()(act_x - 2))"
   ]
  },
  {
   "cell_type": "code",
   "execution_count": null,
   "metadata": {
    "slideshow": {
     "slide_type": "subslide"
    }
   },
   "outputs": [],
   "source": [
    "import torch\n",
    "import torch.nn as nn\n",
    "\n",
    "neuron = lambda x: nn.Tanh()(nn.Linear(4, 1)(x))"
   ]
  },
  {
   "cell_type": "code",
   "execution_count": null,
   "metadata": {},
   "outputs": [],
   "source": [
    "neuron(torch.tensor([1.0, 2.0, 3.0, 4.0]))"
   ]
  },
  {
   "cell_type": "code",
   "execution_count": null,
   "metadata": {},
   "outputs": [],
   "source": [
    "neuron = nn.Sequential(\n",
    "    nn.Linear(4, 1),\n",
    "    nn.Tanh()\n",
    ")"
   ]
  },
  {
   "cell_type": "code",
   "execution_count": null,
   "metadata": {},
   "outputs": [],
   "source": [
    "neuron(torch.tensor([1.0, 2.0, 3.0, 4.0]))"
   ]
  },
  {
   "cell_type": "markdown",
   "metadata": {
    "slideshow": {
     "slide_type": "subslide"
    }
   },
   "source": [
    "## Neuronale Netze\n",
    "\n",
    "<img src=\"img/ag/Figure-18-032.png\" style=\"width: 70%; margin-left: auto; margin-right: auto;\"/>"
   ]
  },
  {
   "cell_type": "code",
   "execution_count": null,
   "metadata": {},
   "outputs": [],
   "source": [
    "seq_model = nn.Sequential(\n",
    "    nn.Linear(2, 4),\n",
    "    nn.ReLU(),\n",
    "    nn.Linear(4, 3),\n",
    "    nn.ReLU(),\n",
    "    nn.Linear(3, 2)\n",
    ")"
   ]
  },
  {
   "cell_type": "code",
   "execution_count": null,
   "metadata": {},
   "outputs": [],
   "source": [
    "seq_model(torch.tensor([1.0, 2.0]))"
   ]
  },
  {
   "cell_type": "markdown",
   "metadata": {
    "slideshow": {
     "slide_type": "subslide"
    }
   },
   "source": [
    "## Erinnerung: Training\n",
    "\n",
    "<br/>\n",
    "<img src=\"img/ag/Figure-01-008.png\" style=\"width: 100%;\"/>"
   ]
  },
  {
   "cell_type": "markdown",
   "metadata": {
    "slideshow": {
     "slide_type": "slide"
    }
   },
   "source": [
    "## Training Neuraler Netze\n",
    "\n",
    "<img src=\"img/ag/Figure-18-033.png\" style=\"width: 100%; margin-left: auto; margin-right: auto;\"/>"
   ]
  },
  {
   "cell_type": "markdown",
   "metadata": {
    "slideshow": {
     "slide_type": "subslide"
    }
   },
   "source": [
    "\n",
    "## Training Neuraler Netze\n",
    "\n",
    "<img src=\"img/ag/Figure-18-034.png\" style=\"width: 40%; margin-left: auto; margin-right: auto;\"/>"
   ]
  },
  {
   "cell_type": "markdown",
   "metadata": {
    "slideshow": {
     "slide_type": "subslide"
    }
   },
   "source": [
    "## Training Neuraler Netze\n",
    "\n",
    "<img src=\"img/ag/Figure-18-035.png\" style=\"width: 100%; margin-left: auto; margin-right: auto; 0\"/>"
   ]
  },
  {
   "cell_type": "markdown",
   "metadata": {
    "slideshow": {
     "slide_type": "subslide"
    }
   },
   "source": [
    "## Training Neuraler Netze\n",
    "\n",
    "<img src=\"img/ag/Figure-18-036.png\" style=\"width: 50%; margin-left: auto; margin-right: auto;\"/>"
   ]
  },
  {
   "cell_type": "markdown",
   "metadata": {
    "slideshow": {
     "slide_type": "subslide"
    }
   },
   "source": [
    "## Training Neuraler Netze\n",
    "\n",
    "<img src=\"img/ag/Figure-18-037.png\" style=\"width: 100%; margin-left: auto; margin-right: auto; 0\"/>"
   ]
  },
  {
   "cell_type": "markdown",
   "metadata": {
    "slideshow": {
     "slide_type": "slide"
    }
   },
   "source": [
    "## Wie updaten wir die Parameter?\n",
    "\n",
    "<img src=\"img/ag/Figure-05-001.png\" style=\"float: left; width: 45%; margin-left: auto; margin-right: auto; 0\"/>\n",
    "<img src=\"img/ag/Figure-05-005.png\" style=\"float: right; width: 45%; margin-left: auto; margin-right: auto; 0\"/>"
   ]
  },
  {
   "cell_type": "markdown",
   "metadata": {
    "slideshow": {
     "slide_type": "subslide"
    }
   },
   "source": [
    "## Wie updaten wir die Parameter?\n",
    "\n",
    "<img src=\"img/ag/Figure-05-012.png\" style=\"width: 35%; margin-left: auto; margin-right: auto; 0\"/>"
   ]
  },
  {
   "cell_type": "markdown",
   "metadata": {
    "slideshow": {
     "slide_type": "subslide"
    }
   },
   "source": [
    "## Wie updaten wir die Parameter?\n",
    "\n",
    "<img src=\"img/ag/Figure-05-013.png\" style=\"width: 60%; margin-left: auto; margin-right: auto; 0\"/>"
   ]
  },
  {
   "cell_type": "markdown",
   "metadata": {
    "slideshow": {
     "slide_type": "slide"
    }
   },
   "source": [
    "# MNIST"
   ]
  },
  {
   "cell_type": "code",
   "execution_count": 28,
   "metadata": {},
   "outputs": [],
   "source": [
    "import torch\n",
    "import torchvision\n",
    "import torchvision.transforms as transforms\n",
    "import torch.nn as nn\n",
    "\n",
    "input_size = 28 * 28\n",
    "num_classes = 10\n",
    "num_epochs = 5\n",
    "batch_size = 100\n",
    "learning_rate = 0.005"
   ]
  },
  {
   "cell_type": "code",
   "execution_count": 29,
   "metadata": {
    "slideshow": {
     "slide_type": "subslide"
    }
   },
   "outputs": [],
   "source": [
    "mnist_transforms = transforms.Compose([\n",
    "    transforms.Resize(28, 28),\n",
    "    transforms.ToTensor()\n",
    "])"
   ]
  },
  {
   "cell_type": "code",
   "execution_count": 39,
   "metadata": {},
   "outputs": [],
   "source": [
    "train_dataset = torchvision.datasets.MNIST(root='./data',\n",
    "                                           train=True,\n",
    "                                           transform=mnist_transforms,\n",
    "                                           download=True)\n",
    "test_dataset = torchvision.datasets.MNIST(root='./data',\n",
    "                                          train=False,\n",
    "                                          transform=mnist_transforms,\n",
    "                                          download=True)"
   ]
  },
  {
   "cell_type": "code",
   "execution_count": 45,
   "metadata": {
    "slideshow": {
     "slide_type": "subslide"
    }
   },
   "outputs": [
    {
     "data": {
      "text/plain": [
       "(torch.Size([1, 28, 28]), 0)"
      ]
     },
     "execution_count": 45,
     "metadata": {},
     "output_type": "execute_result"
    }
   ],
   "source": [
    "it = iter(train_dataset)\n",
    "next(it)[0].shape, next(it)[1]"
   ]
  },
  {
   "cell_type": "code",
   "execution_count": 67,
   "metadata": {},
   "outputs": [
    {
     "data": {
      "text/plain": [
       "(torch.Size([1, 28, 28]), 9)"
      ]
     },
     "execution_count": 67,
     "metadata": {},
     "output_type": "execute_result"
    }
   ],
   "source": [
    "next(it)[0].shape, next(it)[1]"
   ]
  },
  {
   "cell_type": "code",
   "execution_count": 68,
   "metadata": {},
   "outputs": [],
   "source": [
    "train_loader = torch.utils.data.DataLoader(dataset=train_dataset, batch_size=batch_size, shuffle=True)\n",
    "test_loader = torch.utils.data.DataLoader(dataset=test_dataset, batch_size=batch_size, shuffle=False)"
   ]
  },
  {
   "cell_type": "code",
   "execution_count": 95,
   "metadata": {
    "slideshow": {
     "slide_type": "subslide"
    }
   },
   "outputs": [],
   "source": [
    "def create_model(hidden_size):\n",
    "    model = nn.Sequential(\n",
    "        nn.Linear(input_size, hidden_size),\n",
    "        nn.ReLU(),\n",
    "        nn.Linear(hidden_size, num_classes)\n",
    "    )\n",
    "    optimizer = torch.optim.Adam(model.parameters(), lr=learning_rate)\n",
    "    return model, optimizer"
   ]
  },
  {
   "cell_type": "code",
   "execution_count": 96,
   "metadata": {},
   "outputs": [],
   "source": [
    "loss_fn = nn.CrossEntropyLoss()"
   ]
  },
  {
   "cell_type": "code",
   "execution_count": 106,
   "metadata": {},
   "outputs": [],
   "source": [
    "def training_loop(n_epochs, optimizer, model, loss_fn, device, train_loader, val_loader):\n",
    "    all_losses = []\n",
    "    for epoch in range(1, n_epochs + 1):\n",
    "        accumulated_loss = 0\n",
    "        for i, (images, labels) in enumerate(train_loader):\n",
    "            images = images.reshape(-1, input_size).to(device)\n",
    "            labels = labels.to(device)\n",
    "\n",
    "            output = model(images)\n",
    "            loss = loss_fn(output, labels)\n",
    "            with torch.no_grad():\n",
    "                accumulated_loss += loss\n",
    "                all_losses.append(loss)\n",
    "\n",
    "            optimizer.zero_grad()\n",
    "            loss.backward()\n",
    "            optimizer.step()\n",
    "        \n",
    "            if (i + 1) % 100 == 0:\n",
    "                print(f\"Epoch {epoch:3}/{n_epochs:3}, step {i + 1}: \"\n",
    "                      f\"training loss = {accumulated_loss.item():8.3f}\")\n",
    "                accumulated_loss = 0\n",
    "    return all_losses"
   ]
  },
  {
   "cell_type": "code",
   "execution_count": 119,
   "metadata": {},
   "outputs": [],
   "source": [
    "def run_model(hidden_size, num_epochs=num_epochs):\n",
    "    model, optimizer = create_model(hidden_size)\n",
    "    losses = training_loop(\n",
    "        n_epochs=num_epochs,\n",
    "        optimizer=optimizer,\n",
    "        model=model,\n",
    "        loss_fn=loss_fn,\n",
    "        device=torch.device('cpu') if torch.cuda.is_available() else torch.device('cpu'),\n",
    "        train_loader=train_loader,\n",
    "        val_loader=test_loader\n",
    "    )"
   ]
  },
  {
   "cell_type": "code",
   "execution_count": 121,
   "metadata": {},
   "outputs": [
    {
     "name": "stdout",
     "output_type": "stream",
     "text": [
      "Epoch   1/ 10, step 100: training loss =   51.186\n",
      "Epoch   1/ 10, step 200: training loss =   24.877\n",
      "Epoch   1/ 10, step 300: training loss =   19.629\n",
      "Epoch   1/ 10, step 400: training loss =   16.457\n",
      "Epoch   1/ 10, step 500: training loss =   14.625\n",
      "Epoch   1/ 10, step 600: training loss =   13.708\n",
      "Epoch   2/ 10, step 100: training loss =   11.119\n",
      "Epoch   2/ 10, step 200: training loss =    9.346\n",
      "Epoch   2/ 10, step 300: training loss =    9.788\n",
      "Epoch   2/ 10, step 400: training loss =    9.857\n",
      "Epoch   2/ 10, step 500: training loss =    9.974\n",
      "Epoch   2/ 10, step 600: training loss =   11.135\n",
      "Epoch   3/ 10, step 100: training loss =    6.929\n",
      "Epoch   3/ 10, step 200: training loss =    7.318\n",
      "Epoch   3/ 10, step 300: training loss =    7.335\n",
      "Epoch   3/ 10, step 400: training loss =    6.989\n",
      "Epoch   3/ 10, step 500: training loss =    7.200\n",
      "Epoch   3/ 10, step 600: training loss =    8.380\n",
      "Epoch   4/ 10, step 100: training loss =    4.708\n",
      "Epoch   4/ 10, step 200: training loss =    5.691\n",
      "Epoch   4/ 10, step 300: training loss =    5.961\n",
      "Epoch   4/ 10, step 400: training loss =    5.857\n",
      "Epoch   4/ 10, step 500: training loss =    6.704\n",
      "Epoch   4/ 10, step 600: training loss =    6.565\n",
      "Epoch   5/ 10, step 100: training loss =    4.561\n",
      "Epoch   5/ 10, step 200: training loss =    4.040\n",
      "Epoch   5/ 10, step 300: training loss =    4.509\n",
      "Epoch   5/ 10, step 400: training loss =    4.801\n",
      "Epoch   5/ 10, step 500: training loss =    5.788\n",
      "Epoch   5/ 10, step 600: training loss =    4.815\n",
      "Epoch   6/ 10, step 100: training loss =    3.077\n",
      "Epoch   6/ 10, step 200: training loss =    3.216\n",
      "Epoch   6/ 10, step 300: training loss =    3.582\n",
      "Epoch   6/ 10, step 400: training loss =    4.897\n",
      "Epoch   6/ 10, step 500: training loss =    5.018\n",
      "Epoch   6/ 10, step 600: training loss =    5.124\n",
      "Epoch   7/ 10, step 100: training loss =    3.632\n",
      "Epoch   7/ 10, step 200: training loss =    3.433\n",
      "Epoch   7/ 10, step 300: training loss =    2.954\n",
      "Epoch   7/ 10, step 400: training loss =    3.511\n",
      "Epoch   7/ 10, step 500: training loss =    3.657\n",
      "Epoch   7/ 10, step 600: training loss =    4.731\n",
      "Epoch   8/ 10, step 100: training loss =    2.424\n",
      "Epoch   8/ 10, step 200: training loss =    2.811\n",
      "Epoch   8/ 10, step 300: training loss =    3.231\n",
      "Epoch   8/ 10, step 400: training loss =    3.335\n",
      "Epoch   8/ 10, step 500: training loss =    4.823\n",
      "Epoch   8/ 10, step 600: training loss =    3.241\n",
      "Epoch   9/ 10, step 100: training loss =    2.603\n",
      "Epoch   9/ 10, step 200: training loss =    2.607\n",
      "Epoch   9/ 10, step 300: training loss =    2.616\n",
      "Epoch   9/ 10, step 400: training loss =    2.783\n",
      "Epoch   9/ 10, step 500: training loss =    4.431\n",
      "Epoch   9/ 10, step 600: training loss =    4.565\n",
      "Epoch  10/ 10, step 100: training loss =    3.031\n",
      "Epoch  10/ 10, step 200: training loss =    2.438\n",
      "Epoch  10/ 10, step 300: training loss =    2.334\n",
      "Epoch  10/ 10, step 400: training loss =    3.407\n",
      "Epoch  10/ 10, step 500: training loss =    3.569\n",
      "Epoch  10/ 10, step 600: training loss =    3.009\n"
     ]
    }
   ],
   "source": [
    "run_model(128, num_epochs=10)"
   ]
  },
  {
   "cell_type": "code",
   "execution_count": 114,
   "metadata": {},
   "outputs": [
    {
     "data": {
      "image/png": "[encoded data removed]",
      "text/plain": [
       "<Figure size 1152x360 with 1 Axes>"
      ]
     },
     "metadata": {
      "needs_background": "light"
     },
     "output_type": "display_data"
    }
   ],
   "source": [
    "from matplotlib import pyplot\n",
    "pyplot.figure(figsize=(16, 5))\n",
    "pyplot.plot(range(len(losses)), losses);"
   ]
  },
  {
   "cell_type": "code",
   "execution_count": 117,
   "metadata": {},
   "outputs": [
    {
     "name": "stdout",
     "output_type": "stream",
     "text": [
      "Epoch   1/  5, step 100: training loss =   64.877\n",
      "Epoch   1/  5, step 200: training loss =   32.303\n",
      "Epoch   1/  5, step 300: training loss =   28.909\n",
      "Epoch   1/  5, step 400: training loss =   25.198\n",
      "Epoch   1/  5, step 500: training loss =   23.647\n",
      "Epoch   1/  5, step 600: training loss =   21.090\n",
      "Epoch   2/  5, step 100: training loss =   19.650\n",
      "Epoch   2/  5, step 200: training loss =   16.705\n",
      "Epoch   2/  5, step 300: training loss =   17.058\n",
      "Epoch   2/  5, step 400: training loss =   16.199\n",
      "Epoch   2/  5, step 500: training loss =   16.979\n",
      "Epoch   2/  5, step 600: training loss =   17.032\n",
      "Epoch   3/  5, step 100: training loss =   12.577\n",
      "Epoch   3/  5, step 200: training loss =   12.652\n",
      "Epoch   3/  5, step 300: training loss =   14.904\n",
      "Epoch   3/  5, step 400: training loss =   12.990\n",
      "Epoch   3/  5, step 500: training loss =   14.189\n",
      "Epoch   3/  5, step 600: training loss =   13.247\n",
      "Epoch   4/  5, step 100: training loss =   10.243\n",
      "Epoch   4/  5, step 200: training loss =   11.213\n",
      "Epoch   4/  5, step 300: training loss =   11.640\n",
      "Epoch   4/  5, step 400: training loss =   10.756\n",
      "Epoch   4/  5, step 500: training loss =   11.810\n",
      "Epoch   4/  5, step 600: training loss =   13.105\n",
      "Epoch   5/  5, step 100: training loss =    9.291\n",
      "Epoch   5/  5, step 200: training loss =    9.903\n",
      "Epoch   5/  5, step 300: training loss =   10.021\n",
      "Epoch   5/  5, step 400: training loss =   10.512\n",
      "Epoch   5/  5, step 500: training loss =   10.168\n",
      "Epoch   5/  5, step 600: training loss =   11.239\n"
     ]
    },
    {
     "data": {
      "image/png": "[encoded data removed]",
      "text/plain": [
       "<Figure size 1152x360 with 1 Axes>"
      ]
     },
     "metadata": {
      "needs_background": "light"
     },
     "output_type": "display_data"
    }
   ],
   "source": [
    "run_model(32)\n",
    "from matplotlib import pyplot\n",
    "pyplot.figure(figsize=(16, 5))\n",
    "pyplot.plot(range(len(losses)), losses);"
   ]
  },
  {
   "cell_type": "code",
   "execution_count": 120,
   "metadata": {},
   "outputs": [
    {
     "name": "stdout",
     "output_type": "stream",
     "text": [
      "Epoch   1/ 10, step 100: training loss =   42.563\n",
      "Epoch   1/ 10, step 200: training loss =   20.374\n",
      "Epoch   1/ 10, step 300: training loss =   15.662\n",
      "Epoch   1/ 10, step 400: training loss =   14.660\n",
      "Epoch   1/ 10, step 500: training loss =   14.221\n",
      "Epoch   1/ 10, step 600: training loss =   11.161\n",
      "Epoch   2/ 10, step 100: training loss =    8.140\n",
      "Epoch   2/ 10, step 200: training loss =    9.038\n",
      "Epoch   2/ 10, step 300: training loss =    7.818\n",
      "Epoch   2/ 10, step 400: training loss =    9.629\n",
      "Epoch   2/ 10, step 500: training loss =    9.708\n",
      "Epoch   2/ 10, step 600: training loss =    8.553\n",
      "Epoch   3/ 10, step 100: training loss =    6.523\n",
      "Epoch   3/ 10, step 200: training loss =    5.956\n",
      "Epoch   3/ 10, step 300: training loss =    5.531\n",
      "Epoch   3/ 10, step 400: training loss =    7.369\n",
      "Epoch   3/ 10, step 500: training loss =    7.982\n",
      "Epoch   3/ 10, step 600: training loss =    6.178\n",
      "Epoch   4/ 10, step 100: training loss =    4.091\n",
      "Epoch   4/ 10, step 200: training loss =    5.018\n",
      "Epoch   4/ 10, step 300: training loss =    5.002\n",
      "Epoch   4/ 10, step 400: training loss =    5.341\n",
      "Epoch   4/ 10, step 500: training loss =    6.318\n",
      "Epoch   4/ 10, step 600: training loss =    5.566\n",
      "Epoch   5/ 10, step 100: training loss =    3.217\n",
      "Epoch   5/ 10, step 200: training loss =    4.253\n",
      "Epoch   5/ 10, step 300: training loss =    3.532\n",
      "Epoch   5/ 10, step 400: training loss =    5.436\n",
      "Epoch   5/ 10, step 500: training loss =    4.293\n",
      "Epoch   5/ 10, step 600: training loss =    4.570\n",
      "Epoch   6/ 10, step 100: training loss =    4.428\n",
      "Epoch   6/ 10, step 200: training loss =    3.906\n",
      "Epoch   6/ 10, step 300: training loss =    3.687\n",
      "Epoch   6/ 10, step 400: training loss =    3.116\n",
      "Epoch   6/ 10, step 500: training loss =    3.670\n",
      "Epoch   6/ 10, step 600: training loss =    5.282\n",
      "Epoch   7/ 10, step 100: training loss =    2.125\n",
      "Epoch   7/ 10, step 200: training loss =    2.583\n",
      "Epoch   7/ 10, step 300: training loss =    2.886\n",
      "Epoch   7/ 10, step 400: training loss =    3.637\n",
      "Epoch   7/ 10, step 500: training loss =    3.424\n",
      "Epoch   7/ 10, step 600: training loss =    3.683\n",
      "Epoch   8/ 10, step 100: training loss =    2.219\n",
      "Epoch   8/ 10, step 200: training loss =    2.162\n",
      "Epoch   8/ 10, step 300: training loss =    2.759\n",
      "Epoch   8/ 10, step 400: training loss =    3.429\n",
      "Epoch   8/ 10, step 500: training loss =    3.417\n",
      "Epoch   8/ 10, step 600: training loss =    4.877\n",
      "Epoch   9/ 10, step 100: training loss =    2.797\n",
      "Epoch   9/ 10, step 200: training loss =    2.362\n",
      "Epoch   9/ 10, step 300: training loss =    2.418\n",
      "Epoch   9/ 10, step 400: training loss =    2.762\n",
      "Epoch   9/ 10, step 500: training loss =    3.967\n",
      "Epoch   9/ 10, step 600: training loss =    2.996\n",
      "Epoch  10/ 10, step 100: training loss =    2.577\n",
      "Epoch  10/ 10, step 200: training loss =    2.757\n",
      "Epoch  10/ 10, step 300: training loss =    2.886\n",
      "Epoch  10/ 10, step 400: training loss =    2.770\n",
      "Epoch  10/ 10, step 500: training loss =    3.759\n",
      "Epoch  10/ 10, step 600: training loss =    3.037\n"
     ]
    },
    {
     "data": {
      "image/png": "[encoded data removed]",
      "text/plain": [
       "<Figure size 1152x360 with 1 Axes>"
      ]
     },
     "metadata": {
      "needs_background": "light"
     },
     "output_type": "display_data"
    }
   ],
   "source": [
    "run_model(512, num_epochs=10)\n",
    "from matplotlib import pyplot\n",
    "pyplot.figure(figsize=(16, 5))\n",
    "pyplot.plot(range(len(losses)), losses);"
   ]
  },
  {
   "cell_type": "markdown",
   "metadata": {
    "slideshow": {
     "slide_type": "slide"
    }
   },
   "source": [
    "## Modelle\n",
    "\n",
    "<img src=\"img/ag/Figure-11-001.png\" style=\"width: 100%;\"/>"
   ]
  },
  {
   "cell_type": "markdown",
   "metadata": {
    "slideshow": {
     "slide_type": "subslide"
    }
   },
   "source": [
    "## Für Neuronale Netze:\n",
    "\n",
    "Was repräsentiert werden kann hängt ab von\n",
    "\n",
    "- Anzahl der Layers\n",
    "- Anzahl der Neutronen per Layer\n",
    "- Komplexität der Verbindungen zwischen Neutronen"
   ]
  },
  {
   "cell_type": "markdown",
   "metadata": {
    "slideshow": {
     "slide_type": "subslide"
    }
   },
   "source": [
    "### Was kann man (theoretisch) lernen?\n",
    "\n",
    "Schwierig aber irrelevant"
   ]
  },
  {
   "cell_type": "markdown",
   "metadata": {
    "slideshow": {
     "slide_type": "subslide"
    }
   },
   "source": [
    "### Was kann man praktisch lernen?\n",
    "\n",
    "Sehr viel, wenn man genug Zeit und Daten hat"
   ]
  },
  {
   "cell_type": "markdown",
   "metadata": {
    "slideshow": {
     "slide_type": "subslide"
    }
   },
   "source": [
    "### Was kann man effizient lernen?\n",
    "\n",
    "Sehr viel, wenn man sich geschickt anstellt\n",
    "(und ein Problem hat, an dem viele andere Leute arbeiten)"
   ]
  },
  {
   "cell_type": "markdown",
   "metadata": {
    "slideshow": {
     "slide_type": "slide"
    }
   },
   "source": [
    "# Bias/Variance Tradeoff\n",
    "\n",
    "- Modelle mit geringer Expressivität (representational power)\n",
    "  - Können schnell trainiert werden\n",
    "  - Arbeiten mit wenig Trainingsdaten\n",
    "  - Sind robust gegenüber Fehlern in den Trainingsdaten\n",
    "\n",
    "- Wir sind nicht an einer möglichst exakten Wiedergabe unserer Daten interessiert\n",
    "\n",
    "- Entscheidend ist wie gut unser Modell auf unbekannte Daten generalisiert"
   ]
  },
  {
   "cell_type": "markdown",
   "metadata": {
    "slideshow": {
     "slide_type": "subslide"
    }
   },
   "source": [
    "<img src=\"img/ag/Figure-09-002.png\" style=\"width: 60%; margin-left: auto; margin-right: auto;\"/>"
   ]
  },
  {
   "cell_type": "markdown",
   "metadata": {
    "slideshow": {
     "slide_type": "subslide"
    }
   },
   "source": [
    "<img src=\"img/ag/Figure-09-004.png\" style=\"width: 60%; margin-left: auto; margin-right: auto;\"/>"
   ]
  },
  {
   "cell_type": "markdown",
   "metadata": {
    "slideshow": {
     "slide_type": "subslide"
    }
   },
   "source": [
    "<img src=\"img/ag/Figure-09-003.png\" style=\"width: 60%; margin-left: auto; margin-right: auto;\"/>"
   ]
  },
  {
   "cell_type": "markdown",
   "metadata": {
    "slideshow": {
     "slide_type": "subslide"
    }
   },
   "source": [
    "<img src=\"img/ag/Figure-09-005.png\" style=\"width: 60%; margin-left: auto; margin-right: auto;\"/>"
   ]
  },
  {
   "cell_type": "markdown",
   "metadata": {
    "slideshow": {
     "slide_type": "subslide"
    }
   },
   "source": [
    "\n",
    "### Generalisierung und Rauschen\n",
    "<img src=\"img/ag/Figure-09-008.png\" style=\"width: 40%; margin-left: auto; margin-right: auto;\"/>"
   ]
  },
  {
   "cell_type": "markdown",
   "metadata": {
    "slideshow": {
     "slide_type": "subslide"
    }
   },
   "source": [
    "<img src=\"img/ag/Figure-09-009.png\" style=\"width: 80%; margin-left: auto; margin-right: auto;\"/>"
   ]
  },
  {
   "cell_type": "markdown",
   "metadata": {
    "slideshow": {
     "slide_type": "subslide"
    }
   },
   "source": [
    "<img src=\"img/ag/Figure-09-010.png\" style=\"width: 40%; margin-left: auto; margin-right: auto;\"/>"
   ]
  },
  {
   "cell_type": "markdown",
   "metadata": {
    "slideshow": {
     "slide_type": "subslide"
    }
   },
   "source": [
    "## Komplexität der Entscheidungsgrenze\n",
    "\n",
    "<img src=\"img/ag/Figure-09-006.png\" style=\"width: 100%; margin-left: auto; margin-right: auto;\"/>"
   ]
  },
  {
   "cell_type": "markdown",
   "metadata": {
    "slideshow": {
     "slide_type": "subslide"
    }
   },
   "source": [
    "<img src=\"img/ag/Figure-09-001.png\" style=\"width: 50%; margin-left: auto; margin-right: auto;\"/>"
   ]
  },
  {
   "cell_type": "markdown",
   "metadata": {
    "slideshow": {
     "slide_type": "slide"
    }
   },
   "source": [
    "## Datenverteilung und Qualität\n"
   ]
  },
  {
   "cell_type": "markdown",
   "metadata": {},
   "source": [
    "### Erinnerung: die Trainings-Schleife\n",
    "\n",
    "<img src=\"img/ag/Figure-08-001.png\" style=\"width: 20%; margin-left: auto; margin-right: auto;\"/>"
   ]
  },
  {
   "cell_type": "markdown",
   "metadata": {
    "slideshow": {
     "slide_type": "subslide"
    }
   },
   "source": [
    "<img src=\"img/ag/Figure-08-001.png\" style=\"width: 60%; margin-left: auto; margin-right: auto;\"/>"
   ]
  },
  {
   "cell_type": "markdown",
   "metadata": {
    "slideshow": {
     "slide_type": "subslide"
    }
   },
   "source": [
    "## Was lernt ein Klassifizierer?\n",
    "\n",
    "<img src=\"img/ag/Figure-08-002.png\" style=\"width: 60%; margin-left: auto; margin-right: auto;\"/>"
   ]
  },
  {
   "cell_type": "markdown",
   "metadata": {
    "slideshow": {
     "slide_type": "subslide"
    }
   },
   "source": [
    "<img src=\"img/ag/Figure-08-003.png\" style=\"width: 100%; margin-left: auto; margin-right: auto;\"/>"
   ]
  },
  {
   "cell_type": "markdown",
   "metadata": {
    "slideshow": {
     "slide_type": "subslide"
    }
   },
   "source": [
    "<img src=\"img/ag/Figure-08-004.png\" style=\"width: 70%; margin-left: auto; margin-right: auto;\"/>"
   ]
  },
  {
   "cell_type": "markdown",
   "metadata": {
    "slideshow": {
     "slide_type": "slide"
    }
   },
   "source": [
    "# Wie gut sind wir?\n",
    "\n",
    "Wie wissen wir, wie gut unser Modell wirklich ist?"
   ]
  },
  {
   "cell_type": "markdown",
   "metadata": {
    "slideshow": {
     "slide_type": "subslide"
    }
   },
   "source": [
    "## Was kann schief gehen?\n",
    "\n",
    "<img src=\"img/ag/Figure-03-015.png\" style=\"width: 100%; margin-left: auto; margin-right: auto; 0\"/>"
   ]
  },
  {
   "cell_type": "markdown",
   "metadata": {
    "slideshow": {
     "slide_type": "subslide"
    }
   },
   "source": [
    "## Was kann schief gehen?\n",
    "\n",
    "<img src=\"img/ag/Figure-03-017.png\" style=\"width: 100%; margin-left: auto; margin-right: auto; 0\"/>"
   ]
  },
  {
   "cell_type": "markdown",
   "metadata": {
    "slideshow": {
     "slide_type": "subslide"
    }
   },
   "source": [
    "## Was kann schief gehen?\n",
    "\n",
    "<img src=\"img/ag/Figure-03-018.png\" style=\"width: 80%; margin-left: auto; margin-right: auto; 0\"/>"
   ]
  },
  {
   "cell_type": "markdown",
   "metadata": {
    "slideshow": {
     "slide_type": "subslide"
    }
   },
   "source": [
    "## Accuracy: Wie viel haben wir richtig gemacht?\n",
    "\n",
    "\n",
    "<img src=\"img/ag/Figure-03-023.png\" style=\"width: 60%; margin-left: auto; margin-right: auto; 0\"/>"
   ]
  },
  {
   "cell_type": "markdown",
   "metadata": {
    "slideshow": {
     "slide_type": "subslide"
    }
   },
   "source": [
    "## Precision: Wie gut sind unsere positiven Elemente?\n",
    "\n",
    "\n",
    "<img src=\"img/ag/Figure-03-024.png\" style=\"width: 60%; margin-left: auto; margin-right: auto; 0\"/>"
   ]
  },
  {
   "cell_type": "markdown",
   "metadata": {
    "slideshow": {
     "slide_type": "subslide"
    }
   },
   "source": [
    "## Recall: Wie viele positive Elemente haben wir übersehen?\n",
    "\n",
    "\n",
    "<img src=\"img/ag/Figure-03-026.png\" style=\"width: 60%; margin-left: auto; margin-right: auto; 0\"/>"
   ]
  },
  {
   "cell_type": "markdown",
   "metadata": {
    "slideshow": {
     "slide_type": "slide"
    }
   },
   "source": [
    "## Bessere Netzwerkarchitektur\n",
    "\n",
    "<img src=\"img/ag/Figure-21-008.png\" style=\"width: 30%; margin-left: auto; margin-right: auto; 0\"/>"
   ]
  },
  {
   "cell_type": "markdown",
   "metadata": {
    "slideshow": {
     "slide_type": "subslide"
    }
   },
   "source": [
    "<img src=\"img/ag/Figure-21-009.png\" style=\"width: 40%; margin-left: auto; margin-right: auto; 0\"/>"
   ]
  },
  {
   "cell_type": "markdown",
   "metadata": {
    "slideshow": {
     "slide_type": "subslide"
    }
   },
   "source": [
    "<img src=\"img/ag/Figure-21-043.png\" style=\"width: 40%; margin-left: auto; margin-right: auto; 0\"/>"
   ]
  },
  {
   "cell_type": "markdown",
   "metadata": {
    "slideshow": {
     "slide_type": "slide"
    }
   },
   "source": [
    "## Beispiel: Conv Net"
   ]
  },
  {
   "cell_type": "code",
   "execution_count": 123,
   "metadata": {},
   "outputs": [],
   "source": [
    "def create_conv_model():\n",
    "    model = nn.Sequential(\n",
    "        nn.Conv2d(1, 32, 3, 1),\n",
    "        nn.ReLU(),\n",
    "        nn.Conv2d(32, 64, 3, 1),\n",
    "        nn.MaxPool2d(2),\n",
    "        nn.Dropout2d(0.25),\n",
    "        nn.Flatten(1),\n",
    "        nn.Linear(9216, 128),\n",
    "        nn.ReLU(),\n",
    "        nn.Dropout2d(0.5),\n",
    "        nn.Linear(128, 10)\n",
    "    )\n",
    "    optimizer = torch.optim.Adam(model.parameters(), lr=learning_rate)\n",
    "    return model, optimizer"
   ]
  },
  {
   "cell_type": "code",
   "execution_count": 127,
   "metadata": {},
   "outputs": [],
   "source": [
    "def training_loop(n_epochs, optimizer, model, loss_fn, device, train_loader, val_loader):\n",
    "    all_losses = []\n",
    "    for epoch in range(1, n_epochs + 1):\n",
    "        accumulated_loss = 0\n",
    "        for i, (images, labels) in enumerate(train_loader):\n",
    "            images = images.to(device)\n",
    "            labels = labels.to(device)\n",
    "\n",
    "            output = model(images)\n",
    "            loss = loss_fn(output, labels)\n",
    "            with torch.no_grad():\n",
    "                accumulated_loss += loss\n",
    "                all_losses.append(loss)\n",
    "\n",
    "            optimizer.zero_grad()\n",
    "            loss.backward()\n",
    "            optimizer.step()\n",
    "        \n",
    "            if (i + 1) % 100 == 0:\n",
    "                print(f\"Epoch {epoch:3}/{n_epochs:3}, step {i + 1}: \"\n",
    "                      f\"training loss = {accumulated_loss.item():8.3f}\")\n",
    "                accumulated_loss = 0\n",
    "    return all_losses"
   ]
  },
  {
   "cell_type": "code",
   "execution_count": 128,
   "metadata": {},
   "outputs": [],
   "source": [
    "def run_conv_model(num_epochs=num_epochs):\n",
    "    model, optimizer = create_conv_model()\n",
    "    losses = training_loop(\n",
    "        n_epochs=num_epochs,\n",
    "        optimizer=optimizer,\n",
    "        model=model,\n",
    "        loss_fn=loss_fn,\n",
    "        device=torch.device('cpu') if torch.cuda.is_available() else torch.device('cpu'),\n",
    "        train_loader=train_loader,\n",
    "        val_loader=test_loader\n",
    "    )"
   ]
  },
  {
   "cell_type": "code",
   "execution_count": 130,
   "metadata": {},
   "outputs": [
    {
     "name": "stdout",
     "output_type": "stream",
     "text": [
      "Epoch   1/ 10, step 100: training loss =   64.182\n",
      "Epoch   1/ 10, step 200: training loss =   23.208\n",
      "Epoch   1/ 10, step 300: training loss =   17.487\n",
      "Epoch   1/ 10, step 400: training loss =   15.157\n",
      "Epoch   1/ 10, step 500: training loss =   13.652\n",
      "Epoch   1/ 10, step 600: training loss =   14.628\n",
      "Epoch   2/ 10, step 100: training loss =   12.649\n",
      "Epoch   2/ 10, step 200: training loss =   12.711\n",
      "Epoch   2/ 10, step 300: training loss =   11.821\n",
      "Epoch   2/ 10, step 400: training loss =   11.490\n",
      "Epoch   2/ 10, step 500: training loss =   12.337\n",
      "Epoch   2/ 10, step 600: training loss =   13.438\n",
      "Epoch   3/ 10, step 100: training loss =   10.000\n",
      "Epoch   3/ 10, step 200: training loss =   10.065\n",
      "Epoch   3/ 10, step 300: training loss =   11.949\n",
      "Epoch   3/ 10, step 400: training loss =   10.181\n",
      "Epoch   3/ 10, step 500: training loss =   11.667\n",
      "Epoch   3/ 10, step 600: training loss =   11.638\n",
      "Epoch   4/ 10, step 100: training loss =    9.827\n",
      "Epoch   4/ 10, step 200: training loss =   12.221\n",
      "Epoch   4/ 10, step 300: training loss =    9.885\n",
      "Epoch   4/ 10, step 400: training loss =    9.830\n",
      "Epoch   4/ 10, step 500: training loss =   10.543\n",
      "Epoch   4/ 10, step 600: training loss =   10.808\n",
      "Epoch   5/ 10, step 100: training loss =   10.548\n",
      "Epoch   5/ 10, step 200: training loss =   11.630\n",
      "Epoch   5/ 10, step 300: training loss =   10.681\n",
      "Epoch   5/ 10, step 400: training loss =    9.936\n",
      "Epoch   5/ 10, step 500: training loss =   10.309\n",
      "Epoch   5/ 10, step 600: training loss =   10.419\n",
      "Epoch   6/ 10, step 100: training loss =    9.370\n",
      "Epoch   6/ 10, step 200: training loss =    9.106\n",
      "Epoch   6/ 10, step 300: training loss =    9.232\n",
      "Epoch   6/ 10, step 400: training loss =   10.157\n",
      "Epoch   6/ 10, step 500: training loss =    9.438\n",
      "Epoch   6/ 10, step 600: training loss =   10.906\n",
      "Epoch   7/ 10, step 100: training loss =   10.252\n",
      "Epoch   7/ 10, step 200: training loss =    9.944\n",
      "Epoch   7/ 10, step 300: training loss =    9.443\n",
      "Epoch   7/ 10, step 400: training loss =   10.264\n",
      "Epoch   7/ 10, step 500: training loss =    9.909\n",
      "Epoch   7/ 10, step 600: training loss =   11.185\n",
      "Epoch   8/ 10, step 100: training loss =    7.981\n",
      "Epoch   8/ 10, step 200: training loss =    9.121\n",
      "Epoch   8/ 10, step 300: training loss =    9.727\n",
      "Epoch   8/ 10, step 400: training loss =    8.553\n",
      "Epoch   8/ 10, step 500: training loss =   10.480\n",
      "Epoch   8/ 10, step 600: training loss =   10.227\n",
      "Epoch   9/ 10, step 100: training loss =    9.578\n",
      "Epoch   9/ 10, step 200: training loss =   10.687\n",
      "Epoch   9/ 10, step 300: training loss =    9.486\n",
      "Epoch   9/ 10, step 400: training loss =    9.456\n",
      "Epoch   9/ 10, step 500: training loss =   10.064\n",
      "Epoch   9/ 10, step 600: training loss =   11.488\n",
      "Epoch  10/ 10, step 100: training loss =    8.092\n",
      "Epoch  10/ 10, step 200: training loss =    9.208\n",
      "Epoch  10/ 10, step 300: training loss =    8.250\n",
      "Epoch  10/ 10, step 400: training loss =    8.782\n",
      "Epoch  10/ 10, step 500: training loss =   10.298\n",
      "Epoch  10/ 10, step 600: training loss =   10.955\n"
     ]
    }
   ],
   "source": [
    "run_conv_model(10)"
   ]
  },
  {
   "cell_type": "markdown",
   "metadata": {
    "slideshow": {
     "slide_type": "slide"
    }
   },
   "source": [
    "## Data Engine (Tesla)\n",
    "\n",
    "<img src=\"img/data-engine.jpeg\" style=\"width: 100%; margin-left: auto; margin-right: auto;\"/>"
   ]
  },
  {
   "cell_type": "markdown",
   "metadata": {
    "slideshow": {
     "slide_type": "slide"
    }
   },
   "source": [
    "## Probleme: Abhängigkeiten\n",
    "\n",
    "Relevante Informationen sind nicht immer nahe in den Daten:\n",
    "\n",
    "\"Er hatte mit dem Mann, der ihm den Schlüssel, der zum Schloss, das ihn von großem Reichtum trennte, gehörte, gab, noch nicht gesprochen."
   ]
  },
  {
   "cell_type": "markdown",
   "metadata": {
    "slideshow": {
     "slide_type": "subslide"
    }
   },
   "source": [
    "# Memory / State\n",
    "<img src=\"img/ag/Figure-22-012.png\" style=\"width: 20%; margin-left: auto; margin-right: auto;\"/>"
   ]
  },
  {
   "cell_type": "markdown",
   "metadata": {
    "slideshow": {
     "slide_type": "subslide"
    }
   },
   "source": [
    "Funktioniert gut aber mit gewissen Schwächen.\n",
    "\n",
    "Man muss wissen, welche Information für das aktuell betrachtete Element relevant ist:"
   ]
  },
  {
   "cell_type": "markdown",
   "metadata": {},
   "source": [
    "- The cat didn't cross the street because *it* was too wide."
   ]
  },
  {
   "cell_type": "markdown",
   "metadata": {
    "slideshow": {
     "slide_type": "subslide"
    }
   },
   "source": [
    "<img src=\"img/garfield.jpg\" style=\"float: right;width: 60%;\"/>"
   ]
  },
  {
   "cell_type": "markdown",
   "metadata": {
    "slideshow": {
     "slide_type": "subslide"
    }
   },
   "source": [
    "<img src=\"img/garfield-yawn.png\" style=\"float: right;width: 60%;\"/>\n",
    "\n",
    "- The cat didn't cross the street because *it* was too tired."
   ]
  },
  {
   "cell_type": "markdown",
   "metadata": {
    "slideshow": {
     "slide_type": "subslide"
    }
   },
   "source": [
    "- The cat didn't cross the street because *it* was too wet.\n",
    "\n",
    "<img src=\"img/garfield-rain4.jpg\" style=\"float: right;width: 60%;\"/>"
   ]
  },
  {
   "cell_type": "markdown",
   "metadata": {
    "slideshow": {
     "slide_type": "subslide"
    }
   },
   "source": [
    "- The cat didn't cross the street because *it* was raining.\n",
    "\n",
    "<img src=\"img/garfield-rain2.gif\" style=\"float: right;width: 60%;\"/>"
   ]
  },
  {
   "cell_type": "markdown",
   "metadata": {
    "slideshow": {
     "slide_type": "slide"
    }
   },
   "source": [
    "# The Bitter Lesson (Rich Sutton)\n",
    "\n",
    "[T]he only thing that matters in the long run is the leveraging of computation.\n",
    "\n",
    "Corollary: And data. Lots of data."
   ]
  },
  {
   "cell_type": "code",
   "execution_count": null,
   "metadata": {},
   "outputs": [],
   "source": []
  }
 ],
 "metadata": {
  "celltoolbar": "Slideshow",
  "kernelspec": {
   "display_name": "Python [conda env:ml-training] *",
   "language": "python",
   "name": "conda-env-ml-training-py"
  },
  "language_info": {
   "codemirror_mode": {
    "name": "ipython",
    "version": 3
   },
   "file_extension": ".py",
   "mimetype": "text/x-python",
   "name": "python",
   "nbconvert_exporter": "python",
   "pygments_lexer": "ipython3",
   "version": "3.8.5"
  }
 },
 "nbformat": 4,
 "nbformat_minor": 4
}
